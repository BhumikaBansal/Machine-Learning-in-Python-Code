{
  "nbformat": 4,
  "nbformat_minor": 0,
  "metadata": {
    "colab": {
      "name": "05 Feature Engineering.ipynb",
      "provenance": [],
      "collapsed_sections": [],
      "authorship_tag": "ABX9TyN7wJsJVC5DbjVLipkqRvCh",
      "include_colab_link": true
    },
    "kernelspec": {
      "name": "python3",
      "display_name": "Python 3"
    }
  },
  "cells": [
    {
      "cell_type": "markdown",
      "metadata": {
        "id": "view-in-github",
        "colab_type": "text"
      },
      "source": [
        "<a href=\"https://colab.research.google.com/github/sandipanpaul21/ML-Code-in-Python/blob/master/05_Feature_Engineering.ipynb\" target=\"_parent\"><img src=\"https://colab.research.google.com/assets/colab-badge.svg\" alt=\"Open In Colab\"/></a>"
      ]
    },
    {
      "cell_type": "code",
      "metadata": {
        "id": "jC2s8V3e6t8V",
        "colab_type": "code",
        "colab": {}
      },
      "source": [
        "# Feature Engineering \n",
        "\n",
        "# It helps in increasing the accuracy of the model as by tweaking the features of the data\n",
        "# the performance of the models can be improved which ultimately influences the final result.\n",
        "\n",
        "# Normally Feature Engineering contains 4 Major Steps : \n",
        "# 1.Feature Transformation\n",
        "# 2.Feature Scaling\n",
        "# 3.Feature Construction\n",
        "# 4.Feature Reduction\n",
        "\n",
        "# 1. Feature Transformation\n",
        "# Features are transformed by replacing the observations of the feature by a function\n",
        "# Sometimes the datasets are not normally distributed and in such circumstances\n",
        "# for the normal functioning of various statistical and other machine learning algorithms\n",
        "# feature transformation is performed to normalize the data\n",
        "# The common application of them is when dealing with predictive models \n",
        "# such as Linear Regression where we need to normalize the data if the data is otherwise.\n",
        "# Method Used - 1. Log Transformation\n",
        " "
      ],
      "execution_count": null,
      "outputs": []
    },
    {
      "cell_type": "code",
      "metadata": {
        "id": "yd60rqCQ7BgJ",
        "colab_type": "code",
        "colab": {
          "base_uri": "https://localhost:8080/",
          "height": 73
        },
        "outputId": "20c42fef-e123-4ade-cfbd-24dc1aa60068"
      },
      "source": [
        "# Import Libraries\n",
        "import pandas as pd\n",
        "import numpy as np\n",
        "import matplotlib \n",
        "%matplotlib inline\n",
        "from sklearn import datasets\n",
        "import sklearn as sk\n",
        "import seaborn as sns"
      ],
      "execution_count": 9,
      "outputs": [
        {
          "output_type": "stream",
          "text": [
            "/usr/local/lib/python3.6/dist-packages/statsmodels/tools/_testing.py:19: FutureWarning: pandas.util.testing is deprecated. Use the functions in the public API at pandas.testing instead.\n",
            "  import pandas.util.testing as tm\n"
          ],
          "name": "stderr"
        }
      ]
    },
    {
      "cell_type": "code",
      "metadata": {
        "id": "KPt69x2a7tHs",
        "colab_type": "code",
        "colab": {
          "base_uri": "https://localhost:8080/",
          "height": 204
        },
        "outputId": "24001608-3462-4559-e700-8d7ff9911811"
      },
      "source": [
        "# Load the Datasets (For indepth analysis please refer to Part O1 All About Datasets)\n",
        "\n",
        "# Boston Dataset\n",
        "boston = datasets.load_boston()\n",
        "boston_pd = pd.DataFrame(boston.data)\n",
        "boston_pd.columns = boston.feature_names\n",
        "boston_pd[\"MEDV\"] = boston.target\n",
        "boston_pd.head()"
      ],
      "execution_count": 5,
      "outputs": [
        {
          "output_type": "execute_result",
          "data": {
            "text/html": [
              "<div>\n",
              "<style scoped>\n",
              "    .dataframe tbody tr th:only-of-type {\n",
              "        vertical-align: middle;\n",
              "    }\n",
              "\n",
              "    .dataframe tbody tr th {\n",
              "        vertical-align: top;\n",
              "    }\n",
              "\n",
              "    .dataframe thead th {\n",
              "        text-align: right;\n",
              "    }\n",
              "</style>\n",
              "<table border=\"1\" class=\"dataframe\">\n",
              "  <thead>\n",
              "    <tr style=\"text-align: right;\">\n",
              "      <th></th>\n",
              "      <th>CRIM</th>\n",
              "      <th>ZN</th>\n",
              "      <th>INDUS</th>\n",
              "      <th>CHAS</th>\n",
              "      <th>NOX</th>\n",
              "      <th>RM</th>\n",
              "      <th>AGE</th>\n",
              "      <th>DIS</th>\n",
              "      <th>RAD</th>\n",
              "      <th>TAX</th>\n",
              "      <th>PTRATIO</th>\n",
              "      <th>B</th>\n",
              "      <th>LSTAT</th>\n",
              "      <th>MEDV</th>\n",
              "    </tr>\n",
              "  </thead>\n",
              "  <tbody>\n",
              "    <tr>\n",
              "      <th>0</th>\n",
              "      <td>0.00632</td>\n",
              "      <td>18.0</td>\n",
              "      <td>2.31</td>\n",
              "      <td>0.0</td>\n",
              "      <td>0.538</td>\n",
              "      <td>6.575</td>\n",
              "      <td>65.2</td>\n",
              "      <td>4.0900</td>\n",
              "      <td>1.0</td>\n",
              "      <td>296.0</td>\n",
              "      <td>15.3</td>\n",
              "      <td>396.90</td>\n",
              "      <td>4.98</td>\n",
              "      <td>24.0</td>\n",
              "    </tr>\n",
              "    <tr>\n",
              "      <th>1</th>\n",
              "      <td>0.02731</td>\n",
              "      <td>0.0</td>\n",
              "      <td>7.07</td>\n",
              "      <td>0.0</td>\n",
              "      <td>0.469</td>\n",
              "      <td>6.421</td>\n",
              "      <td>78.9</td>\n",
              "      <td>4.9671</td>\n",
              "      <td>2.0</td>\n",
              "      <td>242.0</td>\n",
              "      <td>17.8</td>\n",
              "      <td>396.90</td>\n",
              "      <td>9.14</td>\n",
              "      <td>21.6</td>\n",
              "    </tr>\n",
              "    <tr>\n",
              "      <th>2</th>\n",
              "      <td>0.02729</td>\n",
              "      <td>0.0</td>\n",
              "      <td>7.07</td>\n",
              "      <td>0.0</td>\n",
              "      <td>0.469</td>\n",
              "      <td>7.185</td>\n",
              "      <td>61.1</td>\n",
              "      <td>4.9671</td>\n",
              "      <td>2.0</td>\n",
              "      <td>242.0</td>\n",
              "      <td>17.8</td>\n",
              "      <td>392.83</td>\n",
              "      <td>4.03</td>\n",
              "      <td>34.7</td>\n",
              "    </tr>\n",
              "    <tr>\n",
              "      <th>3</th>\n",
              "      <td>0.03237</td>\n",
              "      <td>0.0</td>\n",
              "      <td>2.18</td>\n",
              "      <td>0.0</td>\n",
              "      <td>0.458</td>\n",
              "      <td>6.998</td>\n",
              "      <td>45.8</td>\n",
              "      <td>6.0622</td>\n",
              "      <td>3.0</td>\n",
              "      <td>222.0</td>\n",
              "      <td>18.7</td>\n",
              "      <td>394.63</td>\n",
              "      <td>2.94</td>\n",
              "      <td>33.4</td>\n",
              "    </tr>\n",
              "    <tr>\n",
              "      <th>4</th>\n",
              "      <td>0.06905</td>\n",
              "      <td>0.0</td>\n",
              "      <td>2.18</td>\n",
              "      <td>0.0</td>\n",
              "      <td>0.458</td>\n",
              "      <td>7.147</td>\n",
              "      <td>54.2</td>\n",
              "      <td>6.0622</td>\n",
              "      <td>3.0</td>\n",
              "      <td>222.0</td>\n",
              "      <td>18.7</td>\n",
              "      <td>396.90</td>\n",
              "      <td>5.33</td>\n",
              "      <td>36.2</td>\n",
              "    </tr>\n",
              "  </tbody>\n",
              "</table>\n",
              "</div>"
            ],
            "text/plain": [
              "      CRIM    ZN  INDUS  CHAS    NOX  ...    TAX  PTRATIO       B  LSTAT  MEDV\n",
              "0  0.00632  18.0   2.31   0.0  0.538  ...  296.0     15.3  396.90   4.98  24.0\n",
              "1  0.02731   0.0   7.07   0.0  0.469  ...  242.0     17.8  396.90   9.14  21.6\n",
              "2  0.02729   0.0   7.07   0.0  0.469  ...  242.0     17.8  392.83   4.03  34.7\n",
              "3  0.03237   0.0   2.18   0.0  0.458  ...  222.0     18.7  394.63   2.94  33.4\n",
              "4  0.06905   0.0   2.18   0.0  0.458  ...  222.0     18.7  396.90   5.33  36.2\n",
              "\n",
              "[5 rows x 14 columns]"
            ]
          },
          "metadata": {
            "tags": []
          },
          "execution_count": 5
        }
      ]
    },
    {
      "cell_type": "code",
      "metadata": {
        "id": "Ltq2p5CK8Da_",
        "colab_type": "code",
        "colab": {
          "base_uri": "https://localhost:8080/",
          "height": 287
        },
        "outputId": "71ae0a1a-35e5-40f8-bbb0-7ab115e6e3d9"
      },
      "source": [
        "# Skewness\n",
        "\n",
        "# Spreadness of the Distribution\n",
        "# If Skewness = 0, data is perfectly symmetrical / Normally Distributed\n",
        "# If Skewness is less than -1 or greater +1, distribution is highly skewed\n",
        "# If Skewness is between -1 and -0.5 or between 0.5 and 1, distribution is moderately skewed\n",
        "# If Skewness is between -0.5 and 0.5 then it is approximately symmetric  \n",
        "\n",
        "boston_pd.skew()"
      ],
      "execution_count": 7,
      "outputs": [
        {
          "output_type": "execute_result",
          "data": {
            "text/plain": [
              "CRIM       5.223149\n",
              "ZN         2.225666\n",
              "INDUS      0.295022\n",
              "CHAS       3.405904\n",
              "NOX        0.729308\n",
              "RM         0.403612\n",
              "AGE       -0.598963\n",
              "DIS        1.011781\n",
              "RAD        1.004815\n",
              "TAX        0.669956\n",
              "PTRATIO   -0.802325\n",
              "B         -2.890374\n",
              "LSTAT      0.906460\n",
              "MEDV       1.108098\n",
              "dtype: float64"
            ]
          },
          "metadata": {
            "tags": []
          },
          "execution_count": 7
        }
      ]
    },
    {
      "cell_type": "code",
      "metadata": {
        "id": "k1WEjBTW8seq",
        "colab_type": "code",
        "colab": {
          "base_uri": "https://localhost:8080/",
          "height": 35
        },
        "outputId": "61d4d3f4-159c-4bee-b257-039db1ba6364"
      },
      "source": [
        "# Check for one variable\n",
        "print(\"Skewness of 'CRIM' Column is \",boston_pd['CRIM'].skew())\n",
        "\n",
        "# Inference : 5.22 which is highly skewed. "
      ],
      "execution_count": 8,
      "outputs": [
        {
          "output_type": "stream",
          "text": [
            "Skewness of 'CRIM' Column is  5.223148798243851\n"
          ],
          "name": "stdout"
        }
      ]
    },
    {
      "cell_type": "code",
      "metadata": {
        "id": "IgJPwHVN9FqR",
        "colab_type": "code",
        "colab": {
          "base_uri": "https://localhost:8080/",
          "height": 297
        },
        "outputId": "88cb13fc-2dfc-4488-9d52-7753c47effea"
      },
      "source": [
        "# Plot Bar Graph\n",
        "\n",
        "# By Plotting histogram we can check the skewness of the data.\n",
        "sns.distplot(boston_pd['CRIM'])\n",
        "\n",
        "# Inference : \n",
        "# Right Skewed\n",
        "# It is evident how skewed the data is. \n",
        "# We can now apply various transformation and see how it affects the skewness of the data."
      ],
      "execution_count": 10,
      "outputs": [
        {
          "output_type": "execute_result",
          "data": {
            "text/plain": [
              "<matplotlib.axes._subplots.AxesSubplot at 0x7f95f7fa2978>"
            ]
          },
          "metadata": {
            "tags": []
          },
          "execution_count": 10
        },
        {
          "output_type": "display_data",
          "data": {
            "image/png": "[encoded data removed]",
            "text/plain": [
              "<Figure size 432x288 with 1 Axes>"
            ]
          },
          "metadata": {
            "tags": [],
            "needs_background": "light"
          }
        }
      ]
    },
    {
      "cell_type": "code",
      "metadata": {
        "id": "qi4zmwWW9ZjR",
        "colab_type": "code",
        "colab": {
          "base_uri": "https://localhost:8080/",
          "height": 352
        },
        "outputId": "fcfe362c-2bdc-4fc7-dabd-ceab9599fb69"
      },
      "source": [
        "# Log Transformation\n",
        "\n",
        "# Among the most commonly used methods of transformation, \n",
        "# Log Transformation takes the natural logarithm of the variable \n",
        "# which helps in making the distribution normal. \n",
        "# We do Log transformation on the variable, to reduce skewness and normalize the data\n",
        "\n",
        "boston_pd['CRIM_Log'] = np.log(boston_pd['CRIM'])\n",
        "print('After LOG TRANSFORMATION, Skewness is :',boston_pd['CRIM_Log'].skew().round(3))\n",
        "print('\\n')\n",
        "sns.distplot(boston_pd['CRIM_Log'])\n",
        "\n",
        "# Inference : \n",
        "# The distribution certainly now appears to be much more normal. "
      ],
      "execution_count": 16,
      "outputs": [
        {
          "output_type": "stream",
          "text": [
            "After LOG TRANSFORMATION, Skewness is : 0.406\n",
            "\n",
            "\n"
          ],
          "name": "stdout"
        },
        {
          "output_type": "execute_result",
          "data": {
            "text/plain": [
              "<matplotlib.axes._subplots.AxesSubplot at 0x7f95f780de48>"
            ]
          },
          "metadata": {
            "tags": []
          },
          "execution_count": 16
        },
        {
          "output_type": "display_data",
          "data": {
            "image/png": "[encoded data removed]",
            "text/plain": [
              "<Figure size 432x288 with 1 Axes>"
            ]
          },
          "metadata": {
            "tags": [],
            "needs_background": "light"
          }
        }
      ]
    },
    {
      "cell_type": "code",
      "metadata": {
        "id": "Js8JagGN-Ttf",
        "colab_type": "code",
        "colab": {}
      },
      "source": [
        "Square-Root Transformation\n",
        "Another popular method of transformation is Square root transformation which helps in normalizing the data.\n"
      ],
      "execution_count": null,
      "outputs": []
    }
  ]
}