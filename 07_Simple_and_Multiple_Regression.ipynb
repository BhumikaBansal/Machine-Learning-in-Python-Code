{
  "nbformat": 4,
  "nbformat_minor": 0,
  "metadata": {
    "colab": {
      "name": "07 Simple and Multiple Regression.ipynb",
      "provenance": [],
      "collapsed_sections": [],
      "authorship_tag": "ABX9TyNrIw1wKHB6/8/9h4E6JRJB",
      "include_colab_link": true
    },
    "kernelspec": {
      "name": "python3",
      "display_name": "Python 3"
    }
  },
  "cells": [
    {
      "cell_type": "markdown",
      "metadata": {
        "id": "view-in-github",
        "colab_type": "text"
      },
      "source": [
        "<a href=\"https://colab.research.google.com/github/sandipanpaul21/ML-Code-in-Python/blob/master/07_Simple_and_Multiple_Regression.ipynb\" target=\"_parent\"><img src=\"https://colab.research.google.com/assets/colab-badge.svg\" alt=\"Open In Colab\"/></a>"
      ]
    },
    {
      "cell_type": "code",
      "metadata": {
        "id": "VGe8PLvZqOpy",
        "colab_type": "code",
        "colab": {
          "base_uri": "https://localhost:8080/",
          "height": 73
        },
        "outputId": "b8bc8dbf-5a84-4ec0-c09b-1dbb193f0785"
      },
      "source": [
        "# Libraries \n",
        "\n",
        "from sklearn import datasets \n",
        "import pandas as pd\n",
        "import seaborn as sns\n",
        "import numpy as np"
      ],
      "execution_count": 1,
      "outputs": [
        {
          "output_type": "stream",
          "text": [
            "/usr/local/lib/python3.6/dist-packages/statsmodels/tools/_testing.py:19: FutureWarning: pandas.util.testing is deprecated. Use the functions in the public API at pandas.testing instead.\n",
            "  import pandas.util.testing as tm\n"
          ],
          "name": "stderr"
        }
      ]
    },
    {
      "cell_type": "code",
      "metadata": {
        "id": "8eoxSpcYp6I4",
        "colab_type": "code",
        "colab": {
          "base_uri": "https://localhost:8080/",
          "height": 204
        },
        "outputId": "dcd13a9f-3a91-4d44-ec41-81702739d409"
      },
      "source": [
        "# Load the Datasets (For indepth analysis please refer to Part O1 All About Datasets)\n",
        "\n",
        "# Boston Dataset for Regression\n",
        "boston = datasets.load_boston()\n",
        "boston_pd = pd.DataFrame(boston.data)\n",
        "boston_pd.columns = boston.feature_names\n",
        "boston_pd[\"HOUSEPRICE\"] = boston.target\n",
        "boston_pd.head()"
      ],
      "execution_count": 2,
      "outputs": [
        {
          "output_type": "execute_result",
          "data": {
            "text/html": [
              "<div>\n",
              "<style scoped>\n",
              "    .dataframe tbody tr th:only-of-type {\n",
              "        vertical-align: middle;\n",
              "    }\n",
              "\n",
              "    .dataframe tbody tr th {\n",
              "        vertical-align: top;\n",
              "    }\n",
              "\n",
              "    .dataframe thead th {\n",
              "        text-align: right;\n",
              "    }\n",
              "</style>\n",
              "<table border=\"1\" class=\"dataframe\">\n",
              "  <thead>\n",
              "    <tr style=\"text-align: right;\">\n",
              "      <th></th>\n",
              "      <th>CRIM</th>\n",
              "      <th>ZN</th>\n",
              "      <th>INDUS</th>\n",
              "      <th>CHAS</th>\n",
              "      <th>NOX</th>\n",
              "      <th>RM</th>\n",
              "      <th>AGE</th>\n",
              "      <th>DIS</th>\n",
              "      <th>RAD</th>\n",
              "      <th>TAX</th>\n",
              "      <th>PTRATIO</th>\n",
              "      <th>B</th>\n",
              "      <th>LSTAT</th>\n",
              "      <th>HOUSEPRICE</th>\n",
              "    </tr>\n",
              "  </thead>\n",
              "  <tbody>\n",
              "    <tr>\n",
              "      <th>0</th>\n",
              "      <td>0.00632</td>\n",
              "      <td>18.0</td>\n",
              "      <td>2.31</td>\n",
              "      <td>0.0</td>\n",
              "      <td>0.538</td>\n",
              "      <td>6.575</td>\n",
              "      <td>65.2</td>\n",
              "      <td>4.0900</td>\n",
              "      <td>1.0</td>\n",
              "      <td>296.0</td>\n",
              "      <td>15.3</td>\n",
              "      <td>396.90</td>\n",
              "      <td>4.98</td>\n",
              "      <td>24.0</td>\n",
              "    </tr>\n",
              "    <tr>\n",
              "      <th>1</th>\n",
              "      <td>0.02731</td>\n",
              "      <td>0.0</td>\n",
              "      <td>7.07</td>\n",
              "      <td>0.0</td>\n",
              "      <td>0.469</td>\n",
              "      <td>6.421</td>\n",
              "      <td>78.9</td>\n",
              "      <td>4.9671</td>\n",
              "      <td>2.0</td>\n",
              "      <td>242.0</td>\n",
              "      <td>17.8</td>\n",
              "      <td>396.90</td>\n",
              "      <td>9.14</td>\n",
              "      <td>21.6</td>\n",
              "    </tr>\n",
              "    <tr>\n",
              "      <th>2</th>\n",
              "      <td>0.02729</td>\n",
              "      <td>0.0</td>\n",
              "      <td>7.07</td>\n",
              "      <td>0.0</td>\n",
              "      <td>0.469</td>\n",
              "      <td>7.185</td>\n",
              "      <td>61.1</td>\n",
              "      <td>4.9671</td>\n",
              "      <td>2.0</td>\n",
              "      <td>242.0</td>\n",
              "      <td>17.8</td>\n",
              "      <td>392.83</td>\n",
              "      <td>4.03</td>\n",
              "      <td>34.7</td>\n",
              "    </tr>\n",
              "    <tr>\n",
              "      <th>3</th>\n",
              "      <td>0.03237</td>\n",
              "      <td>0.0</td>\n",
              "      <td>2.18</td>\n",
              "      <td>0.0</td>\n",
              "      <td>0.458</td>\n",
              "      <td>6.998</td>\n",
              "      <td>45.8</td>\n",
              "      <td>6.0622</td>\n",
              "      <td>3.0</td>\n",
              "      <td>222.0</td>\n",
              "      <td>18.7</td>\n",
              "      <td>394.63</td>\n",
              "      <td>2.94</td>\n",
              "      <td>33.4</td>\n",
              "    </tr>\n",
              "    <tr>\n",
              "      <th>4</th>\n",
              "      <td>0.06905</td>\n",
              "      <td>0.0</td>\n",
              "      <td>2.18</td>\n",
              "      <td>0.0</td>\n",
              "      <td>0.458</td>\n",
              "      <td>7.147</td>\n",
              "      <td>54.2</td>\n",
              "      <td>6.0622</td>\n",
              "      <td>3.0</td>\n",
              "      <td>222.0</td>\n",
              "      <td>18.7</td>\n",
              "      <td>396.90</td>\n",
              "      <td>5.33</td>\n",
              "      <td>36.2</td>\n",
              "    </tr>\n",
              "  </tbody>\n",
              "</table>\n",
              "</div>"
            ],
            "text/plain": [
              "      CRIM    ZN  INDUS  CHAS    NOX  ...    TAX  PTRATIO       B  LSTAT  HOUSEPRICE\n",
              "0  0.00632  18.0   2.31   0.0  0.538  ...  296.0     15.3  396.90   4.98        24.0\n",
              "1  0.02731   0.0   7.07   0.0  0.469  ...  242.0     17.8  396.90   9.14        21.6\n",
              "2  0.02729   0.0   7.07   0.0  0.469  ...  242.0     17.8  392.83   4.03        34.7\n",
              "3  0.03237   0.0   2.18   0.0  0.458  ...  222.0     18.7  394.63   2.94        33.4\n",
              "4  0.06905   0.0   2.18   0.0  0.458  ...  222.0     18.7  396.90   5.33        36.2\n",
              "\n",
              "[5 rows x 14 columns]"
            ]
          },
          "metadata": {
            "tags": []
          },
          "execution_count": 2
        }
      ]
    },
    {
      "cell_type": "code",
      "metadata": {
        "id": "11nahMRNstZv",
        "colab_type": "code",
        "colab": {
          "base_uri": "https://localhost:8080/",
          "height": 395
        },
        "outputId": "99fcced7-f34b-4ced-c046-b94e8309e1a3"
      },
      "source": [
        "# Dataset overall Information\n",
        "boston_pd.info()"
      ],
      "execution_count": 3,
      "outputs": [
        {
          "output_type": "stream",
          "text": [
            "<class 'pandas.core.frame.DataFrame'>\n",
            "RangeIndex: 506 entries, 0 to 505\n",
            "Data columns (total 14 columns):\n",
            " #   Column      Non-Null Count  Dtype  \n",
            "---  ------      --------------  -----  \n",
            " 0   CRIM        506 non-null    float64\n",
            " 1   ZN          506 non-null    float64\n",
            " 2   INDUS       506 non-null    float64\n",
            " 3   CHAS        506 non-null    float64\n",
            " 4   NOX         506 non-null    float64\n",
            " 5   RM          506 non-null    float64\n",
            " 6   AGE         506 non-null    float64\n",
            " 7   DIS         506 non-null    float64\n",
            " 8   RAD         506 non-null    float64\n",
            " 9   TAX         506 non-null    float64\n",
            " 10  PTRATIO     506 non-null    float64\n",
            " 11  B           506 non-null    float64\n",
            " 12  LSTAT       506 non-null    float64\n",
            " 13  HOUSEPRICE  506 non-null    float64\n",
            "dtypes: float64(14)\n",
            "memory usage: 55.5 KB\n"
          ],
          "name": "stdout"
        }
      ]
    },
    {
      "cell_type": "code",
      "metadata": {
        "id": "lJ4_Os_JqrRo",
        "colab_type": "code",
        "colab": {
          "base_uri": "https://localhost:8080/",
          "height": 107
        },
        "outputId": "53d99a0e-3a3f-4ca7-f003-7d920ad064c1"
      },
      "source": [
        "# Let set the BASE MODEL on which we will improve\n",
        "\n",
        "# Assigning Independent and Dependent variables\n",
        "dependent_variable = boston_pd[['HOUSEPRICE']]\n",
        "print(\"DEPENDENT VARIABLE : \",dependent_variable.columns)\n",
        "independent_variables = boston_pd[boston_pd.columns[0:12]]\n",
        "print(\"INDEPENDENT VARIABLES : \")\n",
        "print(independent_variables.columns)"
      ],
      "execution_count": 4,
      "outputs": [
        {
          "output_type": "stream",
          "text": [
            "DEPENDENT VARIABLE :  Index(['HOUSEPRICE'], dtype='object')\n",
            "INDEPENDENT VARIABLES : \n",
            "Index(['CRIM', 'ZN', 'INDUS', 'CHAS', 'NOX', 'RM', 'AGE', 'DIS', 'RAD', 'TAX',\n",
            "       'PTRATIO', 'B'],\n",
            "      dtype='object')\n"
          ],
          "name": "stdout"
        }
      ]
    },
    {
      "cell_type": "code",
      "metadata": {
        "id": "prTVZUusqccY",
        "colab_type": "code",
        "colab": {
          "base_uri": "https://localhost:8080/",
          "height": 688
        },
        "outputId": "588c9f04-a98a-4621-c4e9-278979f355db"
      },
      "source": [
        "# Base Model\n",
        "\n",
        "import statsmodels.api as sm\n",
        "from statsmodels.api import OLS\n",
        "OLS(dependent_variable, independent_variables).fit().summary()"
      ],
      "execution_count": 5,
      "outputs": [
        {
          "output_type": "execute_result",
          "data": {
            "text/html": [
              "<table class=\"simpletable\">\n",
              "<caption>OLS Regression Results</caption>\n",
              "<tr>\n",
              "  <th>Dep. Variable:</th>       <td>HOUSEPRICE</td>    <th>  R-squared (uncentered):</th>      <td>   0.954</td> \n",
              "</tr>\n",
              "<tr>\n",
              "  <th>Model:</th>                   <td>OLS</td>       <th>  Adj. R-squared (uncentered):</th> <td>   0.953</td> \n",
              "</tr>\n",
              "<tr>\n",
              "  <th>Method:</th>             <td>Least Squares</td>  <th>  F-statistic:       </th>          <td>   846.6</td> \n",
              "</tr>\n",
              "<tr>\n",
              "  <th>Date:</th>             <td>Tue, 01 Sep 2020</td> <th>  Prob (F-statistic):</th>          <td>2.38e-320</td>\n",
              "</tr>\n",
              "<tr>\n",
              "  <th>Time:</th>                 <td>16:05:54</td>     <th>  Log-Likelihood:    </th>          <td> -1556.1</td> \n",
              "</tr>\n",
              "<tr>\n",
              "  <th>No. Observations:</th>      <td>   506</td>      <th>  AIC:               </th>          <td>   3136.</td> \n",
              "</tr>\n",
              "<tr>\n",
              "  <th>Df Residuals:</th>          <td>   494</td>      <th>  BIC:               </th>          <td>   3187.</td> \n",
              "</tr>\n",
              "<tr>\n",
              "  <th>Df Model:</th>              <td>    12</td>      <th>                     </th>              <td> </td>    \n",
              "</tr>\n",
              "<tr>\n",
              "  <th>Covariance Type:</th>      <td>nonrobust</td>    <th>                     </th>              <td> </td>    \n",
              "</tr>\n",
              "</table>\n",
              "<table class=\"simpletable\">\n",
              "<tr>\n",
              "     <td></td>        <th>coef</th>     <th>std err</th>      <th>t</th>      <th>P>|t|</th>  <th>[0.025</th>    <th>0.975]</th>  \n",
              "</tr>\n",
              "<tr>\n",
              "  <th>CRIM</th>    <td>   -0.1439</td> <td>    0.036</td> <td>   -3.990</td> <td> 0.000</td> <td>   -0.215</td> <td>   -0.073</td>\n",
              "</tr>\n",
              "<tr>\n",
              "  <th>ZN</th>      <td>    0.0413</td> <td>    0.015</td> <td>    2.696</td> <td> 0.007</td> <td>    0.011</td> <td>    0.071</td>\n",
              "</tr>\n",
              "<tr>\n",
              "  <th>INDUS</th>   <td>   -0.0370</td> <td>    0.068</td> <td>   -0.540</td> <td> 0.589</td> <td>   -0.172</td> <td>    0.098</td>\n",
              "</tr>\n",
              "<tr>\n",
              "  <th>CHAS</th>    <td>    3.2525</td> <td>    0.961</td> <td>    3.384</td> <td> 0.001</td> <td>    1.364</td> <td>    5.141</td>\n",
              "</tr>\n",
              "<tr>\n",
              "  <th>NOX</th>     <td>  -10.8653</td> <td>    3.422</td> <td>   -3.175</td> <td> 0.002</td> <td>  -17.590</td> <td>   -4.141</td>\n",
              "</tr>\n",
              "<tr>\n",
              "  <th>RM</th>      <td>    7.1436</td> <td>    0.289</td> <td>   24.734</td> <td> 0.000</td> <td>    6.576</td> <td>    7.711</td>\n",
              "</tr>\n",
              "<tr>\n",
              "  <th>AGE</th>     <td>   -0.0449</td> <td>    0.014</td> <td>   -3.235</td> <td> 0.001</td> <td>   -0.072</td> <td>   -0.018</td>\n",
              "</tr>\n",
              "<tr>\n",
              "  <th>DIS</th>     <td>   -1.2292</td> <td>    0.206</td> <td>   -5.980</td> <td> 0.000</td> <td>   -1.633</td> <td>   -0.825</td>\n",
              "</tr>\n",
              "<tr>\n",
              "  <th>RAD</th>     <td>    0.2008</td> <td>    0.071</td> <td>    2.829</td> <td> 0.005</td> <td>    0.061</td> <td>    0.340</td>\n",
              "</tr>\n",
              "<tr>\n",
              "  <th>TAX</th>     <td>   -0.0100</td> <td>    0.004</td> <td>   -2.391</td> <td> 0.017</td> <td>   -0.018</td> <td>   -0.002</td>\n",
              "</tr>\n",
              "<tr>\n",
              "  <th>PTRATIO</th> <td>   -0.6575</td> <td>    0.112</td> <td>   -5.881</td> <td> 0.000</td> <td>   -0.877</td> <td>   -0.438</td>\n",
              "</tr>\n",
              "<tr>\n",
              "  <th>B</th>       <td>    0.0165</td> <td>    0.003</td> <td>    5.779</td> <td> 0.000</td> <td>    0.011</td> <td>    0.022</td>\n",
              "</tr>\n",
              "</table>\n",
              "<table class=\"simpletable\">\n",
              "<tr>\n",
              "  <th>Omnibus:</th>       <td>277.013</td> <th>  Durbin-Watson:     </th> <td>   0.927</td>\n",
              "</tr>\n",
              "<tr>\n",
              "  <th>Prob(Omnibus):</th> <td> 0.000</td>  <th>  Jarque-Bera (JB):  </th> <td>3084.310</td>\n",
              "</tr>\n",
              "<tr>\n",
              "  <th>Skew:</th>          <td> 2.148</td>  <th>  Prob(JB):          </th> <td>    0.00</td>\n",
              "</tr>\n",
              "<tr>\n",
              "  <th>Kurtosis:</th>      <td>14.307</td>  <th>  Cond. No.          </th> <td>8.13e+03</td>\n",
              "</tr>\n",
              "</table><br/><br/>Warnings:<br/>[1] Standard Errors assume that the covariance matrix of the errors is correctly specified.<br/>[2] The condition number is large, 8.13e+03. This might indicate that there are<br/>strong multicollinearity or other numerical problems."
            ],
            "text/plain": [
              "<class 'statsmodels.iolib.summary.Summary'>\n",
              "\"\"\"\n",
              "                                 OLS Regression Results                                \n",
              "=======================================================================================\n",
              "Dep. Variable:             HOUSEPRICE   R-squared (uncentered):                   0.954\n",
              "Model:                            OLS   Adj. R-squared (uncentered):              0.953\n",
              "Method:                 Least Squares   F-statistic:                              846.6\n",
              "Date:                Tue, 01 Sep 2020   Prob (F-statistic):                   2.38e-320\n",
              "Time:                        16:05:54   Log-Likelihood:                         -1556.1\n",
              "No. Observations:                 506   AIC:                                      3136.\n",
              "Df Residuals:                     494   BIC:                                      3187.\n",
              "Df Model:                          12                                                  \n",
              "Covariance Type:            nonrobust                                                  \n",
              "==============================================================================\n",
              "                 coef    std err          t      P>|t|      [0.025      0.975]\n",
              "------------------------------------------------------------------------------\n",
              "CRIM          -0.1439      0.036     -3.990      0.000      -0.215      -0.073\n",
              "ZN             0.0413      0.015      2.696      0.007       0.011       0.071\n",
              "INDUS         -0.0370      0.068     -0.540      0.589      -0.172       0.098\n",
              "CHAS           3.2525      0.961      3.384      0.001       1.364       5.141\n",
              "NOX          -10.8653      3.422     -3.175      0.002     -17.590      -4.141\n",
              "RM             7.1436      0.289     24.734      0.000       6.576       7.711\n",
              "AGE           -0.0449      0.014     -3.235      0.001      -0.072      -0.018\n",
              "DIS           -1.2292      0.206     -5.980      0.000      -1.633      -0.825\n",
              "RAD            0.2008      0.071      2.829      0.005       0.061       0.340\n",
              "TAX           -0.0100      0.004     -2.391      0.017      -0.018      -0.002\n",
              "PTRATIO       -0.6575      0.112     -5.881      0.000      -0.877      -0.438\n",
              "B              0.0165      0.003      5.779      0.000       0.011       0.022\n",
              "==============================================================================\n",
              "Omnibus:                      277.013   Durbin-Watson:                   0.927\n",
              "Prob(Omnibus):                  0.000   Jarque-Bera (JB):             3084.310\n",
              "Skew:                           2.148   Prob(JB):                         0.00\n",
              "Kurtosis:                      14.307   Cond. No.                     8.13e+03\n",
              "==============================================================================\n",
              "\n",
              "Warnings:\n",
              "[1] Standard Errors assume that the covariance matrix of the errors is correctly specified.\n",
              "[2] The condition number is large, 8.13e+03. This might indicate that there are\n",
              "strong multicollinearity or other numerical problems.\n",
              "\"\"\""
            ]
          },
          "metadata": {
            "tags": []
          },
          "execution_count": 5
        }
      ]
    },
    {
      "cell_type": "code",
      "metadata": {
        "id": "xuG8nL58uZme",
        "colab_type": "code",
        "colab": {}
      },
      "source": [
        "# Output Explaination \n",
        "\n",
        "# Omnibus/Prob(Omnibus) - \n",
        "# A test of the skewness and kurtosis of the residual.\n",
        "# We hope to see a value close to zero which would indicate normalcy. \n",
        "# The Prob (Omnibus) indicates the probability that the residuals are normally distributed. \n",
        "# We hope to see something close to 1 here. \n",
        "# In this case Omnibus = 277 (way higher than 1) and Prob(Omnibus) = 0 \n",
        "# Which is way high (normally = 1) and the Prob (Omnibus) is 0 which is way too low\n",
        "# so the data is not normal, not ideal. \n",
        "\n",
        "# Skew - \n",
        "# Measure of data symmetry.\n",
        "# We want to see something close to zero, indicating the residual distribution is normal. \n",
        "# Note that this value also drives the Omnibus\n",
        "# In this case, Skewness = 2.148, way higher than 0 so error/residual is skewwed\n",
        "\n",
        "# Kurtosis - \n",
        "# Measure of \"peakiness\", or curvature of the data. \n",
        "# Kurtosis of the normal distribution is 3.0.\n",
        "# In this case, Kurtosis = 14 which is way too higher\n",
        "\n",
        "# Durbin-Watson - \n",
        "# Tests for homoscedasticity\n",
        "# We hope to have a value between 1 and 2. \n",
        "# In this case, Durbin-Watson = 0.927 is close, but within limits.\n",
        "\n",
        "# Jarque-Bera (JB)/Prob(JB) - \n",
        "# like the Omnibus test in that it tests both skew and kurtosis. \n",
        "# It is also performed for the distribution analysis of the regression errors.\n",
        "# A large value of JB test indicates that the errors are not normally distributed.\n",
        "# In this case, JB = 3084 which is way too higher so error are not normally distributed\n",
        "\n",
        "# Condition Number -\n",
        "# This test measures the sensitivity of a function's output as compared to its input \n",
        "# When we have multicollinearity, we can expect much higher fluctuations to small changes in the data,\n",
        "# hence, we hope to see a relatively small number, something below 30. \n",
        "# In this case, Condition Number = well above 30, so multicollinearity present\n",
        "\n",
        "# R Square and Adjusted R Square - \n",
        "# Both measures model performance and Possible values range from 0.0 to 1.0. \n",
        "# The Adjusted R Squared value is always a bit lower than the Multiple R-Squared value \n",
        "# Adjusted R Square consequently is a more accurate measure of model performance.\n",
        "# Adding an additional explanatory variable to the model will likely \n",
        "# increase the Multiple R-Squared value, but decrease the Adjusted R-Squared value\n",
        "# Adjusted R Square will only increase when good variables are added in the model\n",
        "# Higher the Adjusted R Square, better is the model\n",
        "# In this case, Adjusted R Square = 0.95 which is good for the model\n",
        "\n",
        "# F Statistics and Prob(F Statistics) - \n",
        "# This test for overall significance has the following two hypothesis:\n",
        "# Null hypothesis : Model with no independent variables fits the data as well as your model.\n",
        "# Alternative hypothesis : Model fits the data better than the intercept-only model.\n",
        "# In this case, P(F-Statistics) = less than 0.05 suggests Independent variables are important\n",
        "\n",
        "# P Value - \n",
        "# If the p-value for a variable is less than your significance level (0.05)\n",
        "# sample data provide enough evidence to reject the null hypothesis for the entire population.\n",
        "# Null hypothesis that the variable has no correlation with the dependent variable. \n",
        "# If No correlation, no association between the changes in the independent & dependent variable.\n",
        "# In this case, Remove all variables with P values greater than 0.05\n",
        "\n",
        "# Log-Likelihood, AIC and BIC are for LOGISTIC REGRESSION MODEL"
      ],
      "execution_count": 6,
      "outputs": []
    },
    {
      "cell_type": "code",
      "metadata": {
        "id": "_7l05MKW_mR6",
        "colab_type": "code",
        "colab": {
          "base_uri": "https://localhost:8080/",
          "height": 89
        },
        "outputId": "9feb5bb4-fd4e-446c-c5df-e46459983b7c"
      },
      "source": [
        "# Let test the Base Model\n",
        "\n",
        "# Dividing Data into training and test set\n",
        "from sklearn.model_selection import train_test_split \n",
        "data_train, data_test, house_price_train, house_price_test = train_test_split(independent_variables,dependent_variable,train_size = 0.7)\n",
        "print(\"Training Data Shape :\", data_train.shape)\n",
        "print(\"Training House Price Shape :\", house_price_train.shape)\n",
        "print(\"Test Data Shape :\",data_test.shape)\n",
        "print(\"Test House Price Shape :\",house_price_test.shape)"
      ],
      "execution_count": 7,
      "outputs": [
        {
          "output_type": "stream",
          "text": [
            "Training Data Shape : (354, 12)\n",
            "Training House Price Shape : (354, 1)\n",
            "Test Data Shape : (152, 12)\n",
            "Test House Price Shape : (152, 1)\n"
          ],
          "name": "stdout"
        }
      ]
    },
    {
      "cell_type": "code",
      "metadata": {
        "id": "zpi0PRoS_0LZ",
        "colab_type": "code",
        "colab": {
          "base_uri": "https://localhost:8080/",
          "height": 688
        },
        "outputId": "f48835b6-ec57-4140-9525-98afbc2deb2b"
      },
      "source": [
        "# Base Model\n",
        "Model_1 = OLS(house_price_train,data_train).fit()\n",
        "Model_1.summary()"
      ],
      "execution_count": 8,
      "outputs": [
        {
          "output_type": "execute_result",
          "data": {
            "text/html": [
              "<table class=\"simpletable\">\n",
              "<caption>OLS Regression Results</caption>\n",
              "<tr>\n",
              "  <th>Dep. Variable:</th>       <td>HOUSEPRICE</td>    <th>  R-squared (uncentered):</th>      <td>   0.956</td> \n",
              "</tr>\n",
              "<tr>\n",
              "  <th>Model:</th>                   <td>OLS</td>       <th>  Adj. R-squared (uncentered):</th> <td>   0.954</td> \n",
              "</tr>\n",
              "<tr>\n",
              "  <th>Method:</th>             <td>Least Squares</td>  <th>  F-statistic:       </th>          <td>   617.5</td> \n",
              "</tr>\n",
              "<tr>\n",
              "  <th>Date:</th>             <td>Tue, 01 Sep 2020</td> <th>  Prob (F-statistic):</th>          <td>1.78e-223</td>\n",
              "</tr>\n",
              "<tr>\n",
              "  <th>Time:</th>                 <td>16:05:54</td>     <th>  Log-Likelihood:    </th>          <td> -1081.9</td> \n",
              "</tr>\n",
              "<tr>\n",
              "  <th>No. Observations:</th>      <td>   354</td>      <th>  AIC:               </th>          <td>   2188.</td> \n",
              "</tr>\n",
              "<tr>\n",
              "  <th>Df Residuals:</th>          <td>   342</td>      <th>  BIC:               </th>          <td>   2234.</td> \n",
              "</tr>\n",
              "<tr>\n",
              "  <th>Df Model:</th>              <td>    12</td>      <th>                     </th>              <td> </td>    \n",
              "</tr>\n",
              "<tr>\n",
              "  <th>Covariance Type:</th>      <td>nonrobust</td>    <th>                     </th>              <td> </td>    \n",
              "</tr>\n",
              "</table>\n",
              "<table class=\"simpletable\">\n",
              "<tr>\n",
              "     <td></td>        <th>coef</th>     <th>std err</th>      <th>t</th>      <th>P>|t|</th>  <th>[0.025</th>    <th>0.975]</th>  \n",
              "</tr>\n",
              "<tr>\n",
              "  <th>CRIM</th>    <td>   -0.1602</td> <td>    0.040</td> <td>   -4.013</td> <td> 0.000</td> <td>   -0.239</td> <td>   -0.082</td>\n",
              "</tr>\n",
              "<tr>\n",
              "  <th>ZN</th>      <td>    0.0393</td> <td>    0.018</td> <td>    2.240</td> <td> 0.026</td> <td>    0.005</td> <td>    0.074</td>\n",
              "</tr>\n",
              "<tr>\n",
              "  <th>INDUS</th>   <td>   -0.0297</td> <td>    0.080</td> <td>   -0.369</td> <td> 0.712</td> <td>   -0.188</td> <td>    0.129</td>\n",
              "</tr>\n",
              "<tr>\n",
              "  <th>CHAS</th>    <td>    4.2805</td> <td>    1.184</td> <td>    3.616</td> <td> 0.000</td> <td>    1.952</td> <td>    6.609</td>\n",
              "</tr>\n",
              "<tr>\n",
              "  <th>NOX</th>     <td>  -11.6281</td> <td>    3.967</td> <td>   -2.931</td> <td> 0.004</td> <td>  -19.431</td> <td>   -3.825</td>\n",
              "</tr>\n",
              "<tr>\n",
              "  <th>RM</th>      <td>    7.3931</td> <td>    0.357</td> <td>   20.736</td> <td> 0.000</td> <td>    6.692</td> <td>    8.094</td>\n",
              "</tr>\n",
              "<tr>\n",
              "  <th>AGE</th>     <td>   -0.0596</td> <td>    0.016</td> <td>   -3.684</td> <td> 0.000</td> <td>   -0.091</td> <td>   -0.028</td>\n",
              "</tr>\n",
              "<tr>\n",
              "  <th>DIS</th>     <td>   -1.4192</td> <td>    0.242</td> <td>   -5.874</td> <td> 0.000</td> <td>   -1.894</td> <td>   -0.944</td>\n",
              "</tr>\n",
              "<tr>\n",
              "  <th>RAD</th>     <td>    0.1694</td> <td>    0.085</td> <td>    1.983</td> <td> 0.048</td> <td>    0.001</td> <td>    0.337</td>\n",
              "</tr>\n",
              "<tr>\n",
              "  <th>TAX</th>     <td>   -0.0070</td> <td>    0.005</td> <td>   -1.416</td> <td> 0.158</td> <td>   -0.017</td> <td>    0.003</td>\n",
              "</tr>\n",
              "<tr>\n",
              "  <th>PTRATIO</th> <td>   -0.6843</td> <td>    0.127</td> <td>   -5.388</td> <td> 0.000</td> <td>   -0.934</td> <td>   -0.435</td>\n",
              "</tr>\n",
              "<tr>\n",
              "  <th>B</th>       <td>    0.0169</td> <td>    0.004</td> <td>    4.795</td> <td> 0.000</td> <td>    0.010</td> <td>    0.024</td>\n",
              "</tr>\n",
              "</table>\n",
              "<table class=\"simpletable\">\n",
              "<tr>\n",
              "  <th>Omnibus:</th>       <td>207.336</td> <th>  Durbin-Watson:     </th> <td>   1.984</td>\n",
              "</tr>\n",
              "<tr>\n",
              "  <th>Prob(Omnibus):</th> <td> 0.000</td>  <th>  Jarque-Bera (JB):  </th> <td>2395.019</td>\n",
              "</tr>\n",
              "<tr>\n",
              "  <th>Skew:</th>          <td> 2.223</td>  <th>  Prob(JB):          </th> <td>    0.00</td>\n",
              "</tr>\n",
              "<tr>\n",
              "  <th>Kurtosis:</th>      <td>14.942</td>  <th>  Cond. No.          </th> <td>7.97e+03</td>\n",
              "</tr>\n",
              "</table><br/><br/>Warnings:<br/>[1] Standard Errors assume that the covariance matrix of the errors is correctly specified.<br/>[2] The condition number is large, 7.97e+03. This might indicate that there are<br/>strong multicollinearity or other numerical problems."
            ],
            "text/plain": [
              "<class 'statsmodels.iolib.summary.Summary'>\n",
              "\"\"\"\n",
              "                                 OLS Regression Results                                \n",
              "=======================================================================================\n",
              "Dep. Variable:             HOUSEPRICE   R-squared (uncentered):                   0.956\n",
              "Model:                            OLS   Adj. R-squared (uncentered):              0.954\n",
              "Method:                 Least Squares   F-statistic:                              617.5\n",
              "Date:                Tue, 01 Sep 2020   Prob (F-statistic):                   1.78e-223\n",
              "Time:                        16:05:54   Log-Likelihood:                         -1081.9\n",
              "No. Observations:                 354   AIC:                                      2188.\n",
              "Df Residuals:                     342   BIC:                                      2234.\n",
              "Df Model:                          12                                                  \n",
              "Covariance Type:            nonrobust                                                  \n",
              "==============================================================================\n",
              "                 coef    std err          t      P>|t|      [0.025      0.975]\n",
              "------------------------------------------------------------------------------\n",
              "CRIM          -0.1602      0.040     -4.013      0.000      -0.239      -0.082\n",
              "ZN             0.0393      0.018      2.240      0.026       0.005       0.074\n",
              "INDUS         -0.0297      0.080     -0.369      0.712      -0.188       0.129\n",
              "CHAS           4.2805      1.184      3.616      0.000       1.952       6.609\n",
              "NOX          -11.6281      3.967     -2.931      0.004     -19.431      -3.825\n",
              "RM             7.3931      0.357     20.736      0.000       6.692       8.094\n",
              "AGE           -0.0596      0.016     -3.684      0.000      -0.091      -0.028\n",
              "DIS           -1.4192      0.242     -5.874      0.000      -1.894      -0.944\n",
              "RAD            0.1694      0.085      1.983      0.048       0.001       0.337\n",
              "TAX           -0.0070      0.005     -1.416      0.158      -0.017       0.003\n",
              "PTRATIO       -0.6843      0.127     -5.388      0.000      -0.934      -0.435\n",
              "B              0.0169      0.004      4.795      0.000       0.010       0.024\n",
              "==============================================================================\n",
              "Omnibus:                      207.336   Durbin-Watson:                   1.984\n",
              "Prob(Omnibus):                  0.000   Jarque-Bera (JB):             2395.019\n",
              "Skew:                           2.223   Prob(JB):                         0.00\n",
              "Kurtosis:                      14.942   Cond. No.                     7.97e+03\n",
              "==============================================================================\n",
              "\n",
              "Warnings:\n",
              "[1] Standard Errors assume that the covariance matrix of the errors is correctly specified.\n",
              "[2] The condition number is large, 7.97e+03. This might indicate that there are\n",
              "strong multicollinearity or other numerical problems.\n",
              "\"\"\""
            ]
          },
          "metadata": {
            "tags": []
          },
          "execution_count": 8
        }
      ]
    },
    {
      "cell_type": "code",
      "metadata": {
        "id": "xnIM_5IKBoOm",
        "colab_type": "code",
        "colab": {
          "base_uri": "https://localhost:8080/",
          "height": 89
        },
        "outputId": "55fb2c7c-e2c9-40e6-aede-d28911900567"
      },
      "source": [
        "# Base Model Test and Metrics\n",
        "\n",
        "from sklearn import metrics\n",
        "Prediction_1 = Model_1.predict(data_test)\n",
        "print(\"Mean Absolute Error :\",metrics.mean_absolute_error(house_price_test,Prediction_1).round(2))\n",
        "print(\"Mean Squared Error :\",metrics.mean_squared_error(house_price_test,Prediction_1).round(2))\n",
        "print(\"Root Mean Squared Error :\",metrics.mean_squared_error(house_price_test,Prediction_1).round(2))\n",
        "\n",
        "def mape(actual, pred): \n",
        "    actual, pred = np.array(actual), np.array(pred)\n",
        "    return np.mean(np.abs((actual - pred) / actual)) * 100\n",
        "\n",
        "print(\"Mean Absolute Percentage Error :\",mape(house_price_test,Prediction_1).round(2))\n",
        "\n",
        "# MAE is Absolute difference between the Model Predictions & True(Actual) values\n",
        "# MSE is Square difference between Model Predictions & True values\n",
        "# MSE affected by Outliers, because we Square the distance\n",
        "# RMSE, square root(MSE) therefore cancelling the affect the square \n",
        "# MAE value can range from 0 to infinity, difficult to interpret\n",
        "# MAPE is equivalent to MAE but provide the error in a percentage(0-100)\n",
        "\n",
        "# MAPE = 49.65,average difference between predicted & actual is 49.7% which is very high"
      ],
      "execution_count": 9,
      "outputs": [
        {
          "output_type": "stream",
          "text": [
            "Mean Absolute Error : 3.55\n",
            "Mean Squared Error : 30.67\n",
            "Root Mean Squared Error : 30.67\n",
            "Mean Absolute Percentage Error : 50.68\n"
          ],
          "name": "stdout"
        }
      ]
    },
    {
      "cell_type": "code",
      "metadata": {
        "id": "R6DPYZNwJvSO",
        "colab_type": "code",
        "colab": {
          "base_uri": "https://localhost:8080/",
          "height": 668
        },
        "outputId": "b0c0a9de-4231-4634-ca4f-2280c215a251"
      },
      "source": [
        "# Model 2, let do some data cleaning\n",
        "\n",
        "# Increasing the size of the plot\n",
        "import matplotlib.pyplot as plt\n",
        "\n",
        "fig, ax = plt.subplots(figsize=(11,11)) # Sample figsize in inches, change the number accordingly\n",
        "sns.heatmap(independent_variables.corr(method = 'spearman'), annot= True, cmap = 'Blues',ax = ax)\n",
        "\n",
        "# Inference : \n",
        "# Lots of High Correlation Values"
      ],
      "execution_count": 10,
      "outputs": [
        {
          "output_type": "execute_result",
          "data": {
            "text/plain": [
              "<matplotlib.axes._subplots.AxesSubplot at 0x7fd39a034400>"
            ]
          },
          "metadata": {
            "tags": []
          },
          "execution_count": 10
        },
        {
          "output_type": "display_data",
          "data": {
            "image/png": "[encoded data removed]",
            "text/plain": [
              "<Figure size 792x792 with 2 Axes>"
            ]
          },
          "metadata": {
            "tags": [],
            "needs_background": "light"
          }
        }
      ]
    },
    {
      "cell_type": "code",
      "metadata": {
        "id": "n-jBkgOTjtla",
        "colab_type": "code",
        "colab": {
          "base_uri": "https://localhost:8080/",
          "height": 421
        },
        "outputId": "7da4186a-a2ff-434a-db1d-ef42a012c8b6"
      },
      "source": [
        "# Filtering Highly Positive or Negative Correlated Values\n",
        "\n",
        "# Create correlation matrix\n",
        "corr_matrix = independent_variables.corr().round(2)\n",
        "corr_matrix"
      ],
      "execution_count": 11,
      "outputs": [
        {
          "output_type": "execute_result",
          "data": {
            "text/html": [
              "<div>\n",
              "<style scoped>\n",
              "    .dataframe tbody tr th:only-of-type {\n",
              "        vertical-align: middle;\n",
              "    }\n",
              "\n",
              "    .dataframe tbody tr th {\n",
              "        vertical-align: top;\n",
              "    }\n",
              "\n",
              "    .dataframe thead th {\n",
              "        text-align: right;\n",
              "    }\n",
              "</style>\n",
              "<table border=\"1\" class=\"dataframe\">\n",
              "  <thead>\n",
              "    <tr style=\"text-align: right;\">\n",
              "      <th></th>\n",
              "      <th>CRIM</th>\n",
              "      <th>ZN</th>\n",
              "      <th>INDUS</th>\n",
              "      <th>CHAS</th>\n",
              "      <th>NOX</th>\n",
              "      <th>RM</th>\n",
              "      <th>AGE</th>\n",
              "      <th>DIS</th>\n",
              "      <th>RAD</th>\n",
              "      <th>TAX</th>\n",
              "      <th>PTRATIO</th>\n",
              "      <th>B</th>\n",
              "    </tr>\n",
              "  </thead>\n",
              "  <tbody>\n",
              "    <tr>\n",
              "      <th>CRIM</th>\n",
              "      <td>1.00</td>\n",
              "      <td>-0.20</td>\n",
              "      <td>0.41</td>\n",
              "      <td>-0.06</td>\n",
              "      <td>0.42</td>\n",
              "      <td>-0.22</td>\n",
              "      <td>0.35</td>\n",
              "      <td>-0.38</td>\n",
              "      <td>0.63</td>\n",
              "      <td>0.58</td>\n",
              "      <td>0.29</td>\n",
              "      <td>-0.39</td>\n",
              "    </tr>\n",
              "    <tr>\n",
              "      <th>ZN</th>\n",
              "      <td>-0.20</td>\n",
              "      <td>1.00</td>\n",
              "      <td>-0.53</td>\n",
              "      <td>-0.04</td>\n",
              "      <td>-0.52</td>\n",
              "      <td>0.31</td>\n",
              "      <td>-0.57</td>\n",
              "      <td>0.66</td>\n",
              "      <td>-0.31</td>\n",
              "      <td>-0.31</td>\n",
              "      <td>-0.39</td>\n",
              "      <td>0.18</td>\n",
              "    </tr>\n",
              "    <tr>\n",
              "      <th>INDUS</th>\n",
              "      <td>0.41</td>\n",
              "      <td>-0.53</td>\n",
              "      <td>1.00</td>\n",
              "      <td>0.06</td>\n",
              "      <td>0.76</td>\n",
              "      <td>-0.39</td>\n",
              "      <td>0.64</td>\n",
              "      <td>-0.71</td>\n",
              "      <td>0.60</td>\n",
              "      <td>0.72</td>\n",
              "      <td>0.38</td>\n",
              "      <td>-0.36</td>\n",
              "    </tr>\n",
              "    <tr>\n",
              "      <th>CHAS</th>\n",
              "      <td>-0.06</td>\n",
              "      <td>-0.04</td>\n",
              "      <td>0.06</td>\n",
              "      <td>1.00</td>\n",
              "      <td>0.09</td>\n",
              "      <td>0.09</td>\n",
              "      <td>0.09</td>\n",
              "      <td>-0.10</td>\n",
              "      <td>-0.01</td>\n",
              "      <td>-0.04</td>\n",
              "      <td>-0.12</td>\n",
              "      <td>0.05</td>\n",
              "    </tr>\n",
              "    <tr>\n",
              "      <th>NOX</th>\n",
              "      <td>0.42</td>\n",
              "      <td>-0.52</td>\n",
              "      <td>0.76</td>\n",
              "      <td>0.09</td>\n",
              "      <td>1.00</td>\n",
              "      <td>-0.30</td>\n",
              "      <td>0.73</td>\n",
              "      <td>-0.77</td>\n",
              "      <td>0.61</td>\n",
              "      <td>0.67</td>\n",
              "      <td>0.19</td>\n",
              "      <td>-0.38</td>\n",
              "    </tr>\n",
              "    <tr>\n",
              "      <th>RM</th>\n",
              "      <td>-0.22</td>\n",
              "      <td>0.31</td>\n",
              "      <td>-0.39</td>\n",
              "      <td>0.09</td>\n",
              "      <td>-0.30</td>\n",
              "      <td>1.00</td>\n",
              "      <td>-0.24</td>\n",
              "      <td>0.21</td>\n",
              "      <td>-0.21</td>\n",
              "      <td>-0.29</td>\n",
              "      <td>-0.36</td>\n",
              "      <td>0.13</td>\n",
              "    </tr>\n",
              "    <tr>\n",
              "      <th>AGE</th>\n",
              "      <td>0.35</td>\n",
              "      <td>-0.57</td>\n",
              "      <td>0.64</td>\n",
              "      <td>0.09</td>\n",
              "      <td>0.73</td>\n",
              "      <td>-0.24</td>\n",
              "      <td>1.00</td>\n",
              "      <td>-0.75</td>\n",
              "      <td>0.46</td>\n",
              "      <td>0.51</td>\n",
              "      <td>0.26</td>\n",
              "      <td>-0.27</td>\n",
              "    </tr>\n",
              "    <tr>\n",
              "      <th>DIS</th>\n",
              "      <td>-0.38</td>\n",
              "      <td>0.66</td>\n",
              "      <td>-0.71</td>\n",
              "      <td>-0.10</td>\n",
              "      <td>-0.77</td>\n",
              "      <td>0.21</td>\n",
              "      <td>-0.75</td>\n",
              "      <td>1.00</td>\n",
              "      <td>-0.49</td>\n",
              "      <td>-0.53</td>\n",
              "      <td>-0.23</td>\n",
              "      <td>0.29</td>\n",
              "    </tr>\n",
              "    <tr>\n",
              "      <th>RAD</th>\n",
              "      <td>0.63</td>\n",
              "      <td>-0.31</td>\n",
              "      <td>0.60</td>\n",
              "      <td>-0.01</td>\n",
              "      <td>0.61</td>\n",
              "      <td>-0.21</td>\n",
              "      <td>0.46</td>\n",
              "      <td>-0.49</td>\n",
              "      <td>1.00</td>\n",
              "      <td>0.91</td>\n",
              "      <td>0.46</td>\n",
              "      <td>-0.44</td>\n",
              "    </tr>\n",
              "    <tr>\n",
              "      <th>TAX</th>\n",
              "      <td>0.58</td>\n",
              "      <td>-0.31</td>\n",
              "      <td>0.72</td>\n",
              "      <td>-0.04</td>\n",
              "      <td>0.67</td>\n",
              "      <td>-0.29</td>\n",
              "      <td>0.51</td>\n",
              "      <td>-0.53</td>\n",
              "      <td>0.91</td>\n",
              "      <td>1.00</td>\n",
              "      <td>0.46</td>\n",
              "      <td>-0.44</td>\n",
              "    </tr>\n",
              "    <tr>\n",
              "      <th>PTRATIO</th>\n",
              "      <td>0.29</td>\n",
              "      <td>-0.39</td>\n",
              "      <td>0.38</td>\n",
              "      <td>-0.12</td>\n",
              "      <td>0.19</td>\n",
              "      <td>-0.36</td>\n",
              "      <td>0.26</td>\n",
              "      <td>-0.23</td>\n",
              "      <td>0.46</td>\n",
              "      <td>0.46</td>\n",
              "      <td>1.00</td>\n",
              "      <td>-0.18</td>\n",
              "    </tr>\n",
              "    <tr>\n",
              "      <th>B</th>\n",
              "      <td>-0.39</td>\n",
              "      <td>0.18</td>\n",
              "      <td>-0.36</td>\n",
              "      <td>0.05</td>\n",
              "      <td>-0.38</td>\n",
              "      <td>0.13</td>\n",
              "      <td>-0.27</td>\n",
              "      <td>0.29</td>\n",
              "      <td>-0.44</td>\n",
              "      <td>-0.44</td>\n",
              "      <td>-0.18</td>\n",
              "      <td>1.00</td>\n",
              "    </tr>\n",
              "  </tbody>\n",
              "</table>\n",
              "</div>"
            ],
            "text/plain": [
              "         CRIM    ZN  INDUS  CHAS   NOX  ...   DIS   RAD   TAX  PTRATIO     B\n",
              "CRIM     1.00 -0.20   0.41 -0.06  0.42  ... -0.38  0.63  0.58     0.29 -0.39\n",
              "ZN      -0.20  1.00  -0.53 -0.04 -0.52  ...  0.66 -0.31 -0.31    -0.39  0.18\n",
              "INDUS    0.41 -0.53   1.00  0.06  0.76  ... -0.71  0.60  0.72     0.38 -0.36\n",
              "CHAS    -0.06 -0.04   0.06  1.00  0.09  ... -0.10 -0.01 -0.04    -0.12  0.05\n",
              "NOX      0.42 -0.52   0.76  0.09  1.00  ... -0.77  0.61  0.67     0.19 -0.38\n",
              "RM      -0.22  0.31  -0.39  0.09 -0.30  ...  0.21 -0.21 -0.29    -0.36  0.13\n",
              "AGE      0.35 -0.57   0.64  0.09  0.73  ... -0.75  0.46  0.51     0.26 -0.27\n",
              "DIS     -0.38  0.66  -0.71 -0.10 -0.77  ...  1.00 -0.49 -0.53    -0.23  0.29\n",
              "RAD      0.63 -0.31   0.60 -0.01  0.61  ... -0.49  1.00  0.91     0.46 -0.44\n",
              "TAX      0.58 -0.31   0.72 -0.04  0.67  ... -0.53  0.91  1.00     0.46 -0.44\n",
              "PTRATIO  0.29 -0.39   0.38 -0.12  0.19  ... -0.23  0.46  0.46     1.00 -0.18\n",
              "B       -0.39  0.18  -0.36  0.05 -0.38  ...  0.29 -0.44 -0.44    -0.18  1.00\n",
              "\n",
              "[12 rows x 12 columns]"
            ]
          },
          "metadata": {
            "tags": []
          },
          "execution_count": 11
        }
      ]
    },
    {
      "cell_type": "code",
      "metadata": {
        "id": "ElQoLcvkk3TU",
        "colab_type": "code",
        "colab": {
          "base_uri": "https://localhost:8080/",
          "height": 89
        },
        "outputId": "975a02ea-0a12-4fde-e9f2-c07500df97b1"
      },
      "source": [
        "# Find index of feature columns with correlation greater than 0.75\n",
        "Pos_corr_var=np.where(corr_matrix > 0.75)\n",
        "Pos_corr_var=[(corr_matrix.columns[x],corr_matrix.columns[y]) for x,y in zip(*Pos_corr_var) if x!=y and x<y]\n",
        "print(\"Highly Positive Related (> 0.75) : \")\n",
        "print(Pos_corr_var)\n",
        "\n",
        "# Find index of feature columns with correlation less than - 0.75\n",
        "Neg_corr_var=np.where(corr_matrix < -0.75)\n",
        "Neg_corr_var=[(corr_matrix.columns[x],corr_matrix.columns[y]) for x,y in zip(*Neg_corr_var) if x!=y and x<y]\n",
        "print(\"Highly Negatively Related (< - 0.75) : \")\n",
        "print(Neg_corr_var)\n",
        "\n",
        "# Inference : \n",
        "# Remove 'INDUS' / 'NOX', 'RAD'/'TAX , 'NOX'/'DIS'\n",
        "# Removing NOX\n",
        "independent_variables = independent_variables.drop(['NOX'], axis = 1)\n",
        "\n",
        "# Now out of 'RAD' & 'TAX' which one to remove ? VIF"
      ],
      "execution_count": 12,
      "outputs": [
        {
          "output_type": "stream",
          "text": [
            "Highly Positive Related (> 0.75) : \n",
            "[('INDUS', 'NOX'), ('RAD', 'TAX')]\n",
            "Highly Negatively Related (< - 0.75) : \n",
            "[('NOX', 'DIS')]\n"
          ],
          "name": "stdout"
        }
      ]
    },
    {
      "cell_type": "code",
      "metadata": {
        "id": "b7LwqXFxk_L1",
        "colab_type": "code",
        "colab": {}
      },
      "source": [
        "# Import library for VIF\n",
        "from statsmodels.stats.outliers_influence import variance_inflation_factor\n",
        "\n",
        "def calc_vif(X):\n",
        "  # Calculating VIF\n",
        "  vif = pd.DataFrame()\n",
        "  vif[\"variables\"] = X.columns\n",
        "  vif[\"VIF\"] = [variance_inflation_factor(X.values, i) for i in range(X.shape[1])]\n",
        "  return(vif)\n",
        "\n",
        "calc_vif(independent_variables).sort_values(\"VIF\")\n",
        "\n",
        "# VIF = 1, no correlation between the independent variable and the other variables\n",
        "# VIF exceeding 20 indicates high multicollinearity between this independent variable and the others\n",
        "\n",
        "# Inference : \n",
        "# Remove 'RM','TAX' and 'PTRATIO'\n",
        "\n",
        "independent_variables = independent_variables.drop(['RM', 'TAX', 'PTRATIO'], axis = 1) "
      ],
      "execution_count": 13,
      "outputs": []
    },
    {
      "cell_type": "code",
      "metadata": {
        "id": "eQEr2okU-cFt",
        "colab_type": "code",
        "colab": {
          "base_uri": "https://localhost:8080/",
          "height": 517
        },
        "outputId": "3145e0da-b5a9-4fe4-d575-f60905c87a93"
      },
      "source": [
        "# Now check Outlier in the data\n",
        "# Column Wise Checking\n",
        "\n",
        "# CRIM Column\n",
        "print(\"Quantile Distribution\")\n",
        "print(pd.DataFrame(independent_variables['CRIM'].quantile([0, 0.1, 0.2, 0.3, 0.4, 0.5, 0.6, 0.7, 0.8, 0.9,0.95 ,1])))\n",
        "sns.boxplot(data = independent_variables, orient = 'h', order = ['CRIM'])\n",
        "\n",
        "# Inference : \n",
        "# Capping to 95% Datapoints\n",
        "independent_variables['CRIM'] = np.where(independent_variables['CRIM'].round(1) > 15.0, 15.0, independent_variables['CRIM'])"
      ],
      "execution_count": 14,
      "outputs": [
        {
          "output_type": "stream",
          "text": [
            "Quantile Distribution\n",
            "           CRIM\n",
            "0.00   0.006320\n",
            "0.10   0.038195\n",
            "0.20   0.064170\n",
            "0.30   0.099245\n",
            "0.40   0.150380\n",
            "0.50   0.256510\n",
            "0.60   0.550070\n",
            "0.70   1.728440\n",
            "0.80   5.581070\n",
            "0.90  10.753000\n",
            "0.95  15.789150\n",
            "1.00  88.976200\n"
          ],
          "name": "stdout"
        },
        {
          "output_type": "display_data",
          "data": {
            "image/png": "[encoded data removed]",
            "text/plain": [
              "<Figure size 432x288 with 1 Axes>"
            ]
          },
          "metadata": {
            "tags": [],
            "needs_background": "light"
          }
        }
      ]
    },
    {
      "cell_type": "code",
      "metadata": {
        "id": "3ODwjtS9E3e9",
        "colab_type": "code",
        "colab": {
          "base_uri": "https://localhost:8080/",
          "height": 535
        },
        "outputId": "6ef04216-6e81-4ad2-a50c-7908e5ec1005"
      },
      "source": [
        "# ZN Column\n",
        "\n",
        "print(\"Quantile Distribution\")\n",
        "print(pd.DataFrame(independent_variables['ZN'].quantile([0, 0.1, 0.2, 0.3, 0.4, 0.5, 0.6, 0.7, 0.8, 0.9,0.95 ,1])))\n",
        "sns.boxplot(data = independent_variables, orient = 'h', order = ['ZN'])\n",
        "\n",
        "# Inference : \n",
        "# Most Values (70%) data points are zero. So lets not do any capping !!"
      ],
      "execution_count": 15,
      "outputs": [
        {
          "output_type": "stream",
          "text": [
            "Quantile Distribution\n",
            "         ZN\n",
            "0.00    0.0\n",
            "0.10    0.0\n",
            "0.20    0.0\n",
            "0.30    0.0\n",
            "0.40    0.0\n",
            "0.50    0.0\n",
            "0.60    0.0\n",
            "0.70    0.0\n",
            "0.80   20.0\n",
            "0.90   42.5\n",
            "0.95   80.0\n",
            "1.00  100.0\n"
          ],
          "name": "stdout"
        },
        {
          "output_type": "execute_result",
          "data": {
            "text/plain": [
              "<matplotlib.axes._subplots.AxesSubplot at 0x7fd396b277b8>"
            ]
          },
          "metadata": {
            "tags": []
          },
          "execution_count": 15
        },
        {
          "output_type": "display_data",
          "data": {
            "image/png": "[encoded data removed]",
            "text/plain": [
              "<Figure size 432x288 with 1 Axes>"
            ]
          },
          "metadata": {
            "tags": [],
            "needs_background": "light"
          }
        }
      ]
    },
    {
      "cell_type": "code",
      "metadata": {
        "id": "xFuNEV0GFNj7",
        "colab_type": "code",
        "colab": {
          "base_uri": "https://localhost:8080/",
          "height": 535
        },
        "outputId": "78d797ae-cf73-4640-db6d-d33fb39fb180"
      },
      "source": [
        "# CRIM Column\n",
        "\n",
        "print(\"Quantile Distribution\")\n",
        "print(pd.DataFrame(independent_variables['INDUS'].quantile([0, 0.1, 0.2, 0.3, 0.4, 0.5, 0.6, 0.7, 0.8, 0.9,0.95 ,1])))\n",
        "sns.boxplot(data = independent_variables, orient = 'h', order = ['INDUS'])\n",
        "\n",
        "# Inference : NO OUTLIERS"
      ],
      "execution_count": 16,
      "outputs": [
        {
          "output_type": "stream",
          "text": [
            "Quantile Distribution\n",
            "      INDUS\n",
            "0.00   0.46\n",
            "0.10   2.91\n",
            "0.20   4.39\n",
            "0.30   5.96\n",
            "0.40   7.38\n",
            "0.50   9.69\n",
            "0.60  12.83\n",
            "0.70  18.10\n",
            "0.80  18.10\n",
            "0.90  19.58\n",
            "0.95  21.89\n",
            "1.00  27.74\n"
          ],
          "name": "stdout"
        },
        {
          "output_type": "execute_result",
          "data": {
            "text/plain": [
              "<matplotlib.axes._subplots.AxesSubplot at 0x7fd394dccb38>"
            ]
          },
          "metadata": {
            "tags": []
          },
          "execution_count": 16
        },
        {
          "output_type": "display_data",
          "data": {
            "image/png": "[encoded data removed]",
            "text/plain": [
              "<Figure size 432x288 with 1 Axes>"
            ]
          },
          "metadata": {
            "tags": [],
            "needs_background": "light"
          }
        }
      ]
    },
    {
      "cell_type": "code",
      "metadata": {
        "id": "SUOBOA8LGEFC",
        "colab_type": "code",
        "colab": {
          "base_uri": "https://localhost:8080/",
          "height": 517
        },
        "outputId": "a4ed15b1-85ee-4932-fae5-0317268bc9aa"
      },
      "source": [
        "# CHAS Column\n",
        "\n",
        "print(\"Quantile Distribution\")\n",
        "print(pd.DataFrame(independent_variables['CHAS'].quantile([0, 0.1, 0.2, 0.3, 0.4, 0.5, 0.6, 0.7, 0.8, 0.9,0.95 ,1])))\n",
        "sns.boxplot(data = independent_variables, orient = 'h', order = ['CHAS'])\n",
        "\n",
        "# Inference : \n",
        "# 90% of Data is 0. So lets drop the variable\n",
        "independent_variables = independent_variables.drop(['CHAS'], axis = 1)"
      ],
      "execution_count": 17,
      "outputs": [
        {
          "output_type": "stream",
          "text": [
            "Quantile Distribution\n",
            "      CHAS\n",
            "0.00   0.0\n",
            "0.10   0.0\n",
            "0.20   0.0\n",
            "0.30   0.0\n",
            "0.40   0.0\n",
            "0.50   0.0\n",
            "0.60   0.0\n",
            "0.70   0.0\n",
            "0.80   0.0\n",
            "0.90   0.0\n",
            "0.95   1.0\n",
            "1.00   1.0\n"
          ],
          "name": "stdout"
        },
        {
          "output_type": "display_data",
          "data": {
            "image/png": "[encoded data removed]",
            "text/plain": [
              "<Figure size 432x288 with 1 Axes>"
            ]
          },
          "metadata": {
            "tags": [],
            "needs_background": "light"
          }
        }
      ]
    },
    {
      "cell_type": "code",
      "metadata": {
        "id": "cFG10BSrGdbk",
        "colab_type": "code",
        "colab": {
          "base_uri": "https://localhost:8080/",
          "height": 535
        },
        "outputId": "6bd6ac08-d0bb-42b6-bc56-0fce20ab438a"
      },
      "source": [
        "# AGE Column \n",
        "\n",
        "print(\"Quantile Distribution\")\n",
        "print(pd.DataFrame(independent_variables['AGE'].quantile([0, 0.1, 0.2, 0.3, 0.4, 0.5, 0.6, 0.7, 0.8, 0.9,0.95 ,1])))\n",
        "sns.boxplot(data = independent_variables, orient = 'h', order = ['AGE'])\n",
        "\n",
        "# Inference : NO OUTLIERS"
      ],
      "execution_count": 18,
      "outputs": [
        {
          "output_type": "stream",
          "text": [
            "Quantile Distribution\n",
            "         AGE\n",
            "0.00    2.90\n",
            "0.10   26.95\n",
            "0.20   37.80\n",
            "0.30   52.40\n",
            "0.40   65.40\n",
            "0.50   77.50\n",
            "0.60   85.90\n",
            "0.70   91.80\n",
            "0.80   95.60\n",
            "0.90   98.80\n",
            "0.95  100.00\n",
            "1.00  100.00\n"
          ],
          "name": "stdout"
        },
        {
          "output_type": "execute_result",
          "data": {
            "text/plain": [
              "<matplotlib.axes._subplots.AxesSubplot at 0x7fd394d12da0>"
            ]
          },
          "metadata": {
            "tags": []
          },
          "execution_count": 18
        },
        {
          "output_type": "display_data",
          "data": {
            "image/png": "[encoded data removed]",
            "text/plain": [
              "<Figure size 432x288 with 1 Axes>"
            ]
          },
          "metadata": {
            "tags": [],
            "needs_background": "light"
          }
        }
      ]
    },
    {
      "cell_type": "code",
      "metadata": {
        "id": "i-PA04qwGcxi",
        "colab_type": "code",
        "colab": {
          "base_uri": "https://localhost:8080/",
          "height": 517
        },
        "outputId": "7f741517-2e96-45b2-9384-0e6ff788b8f8"
      },
      "source": [
        "# DIS Column\n",
        "\n",
        "print(\"Quantile Distribution\")\n",
        "print(pd.DataFrame(independent_variables['DIS'].quantile([0, 0.1, 0.2, 0.3, 0.4, 0.5, 0.6, 0.7, 0.8, 0.9,0.95 ,1])))\n",
        "sns.boxplot(data = independent_variables, orient = 'h', order = ['DIS'])\n",
        "\n",
        "# Inference : \n",
        "# Capping to 95% Datapoints\n",
        "independent_variables['DIS'] = np.where(independent_variables['DIS'].round(1) > 7.0, 7.0, independent_variables['DIS'])"
      ],
      "execution_count": 19,
      "outputs": [
        {
          "output_type": "stream",
          "text": [
            "Quantile Distribution\n",
            "           DIS\n",
            "0.00   1.12960\n",
            "0.10   1.62830\n",
            "0.20   1.95120\n",
            "0.30   2.25965\n",
            "0.40   2.64030\n",
            "0.50   3.20745\n",
            "0.60   3.87500\n",
            "0.70   4.54040\n",
            "0.80   5.61500\n",
            "0.90   6.81660\n",
            "0.95   7.82780\n",
            "1.00  12.12650\n"
          ],
          "name": "stdout"
        },
        {
          "output_type": "display_data",
          "data": {
            "image/png": "[encoded data removed]",
            "text/plain": [
              "<Figure size 432x288 with 1 Axes>"
            ]
          },
          "metadata": {
            "tags": [],
            "needs_background": "light"
          }
        }
      ]
    },
    {
      "cell_type": "code",
      "metadata": {
        "id": "1ePvy_enGbtT",
        "colab_type": "code",
        "colab": {
          "base_uri": "https://localhost:8080/",
          "height": 535
        },
        "outputId": "b6cf5ff0-3488-49b1-b19e-3bea9d541f83"
      },
      "source": [
        "# RAD Column \n",
        "\n",
        "print(\"Quantile Distribution\")\n",
        "print(pd.DataFrame(independent_variables['RAD'].quantile([0, 0.1, 0.2, 0.3, 0.4, 0.5, 0.6, 0.7, 0.8, 0.9,0.95 ,1])))\n",
        "sns.boxplot(data = independent_variables, orient = 'h', order = ['RAD'])\n",
        "\n",
        "# Inference : NO OUTLIERS"
      ],
      "execution_count": 20,
      "outputs": [
        {
          "output_type": "stream",
          "text": [
            "Quantile Distribution\n",
            "       RAD\n",
            "0.00   1.0\n",
            "0.10   3.0\n",
            "0.20   4.0\n",
            "0.30   4.0\n",
            "0.40   5.0\n",
            "0.50   5.0\n",
            "0.60   5.0\n",
            "0.70   8.0\n",
            "0.80  24.0\n",
            "0.90  24.0\n",
            "0.95  24.0\n",
            "1.00  24.0\n"
          ],
          "name": "stdout"
        },
        {
          "output_type": "execute_result",
          "data": {
            "text/plain": [
              "<matplotlib.axes._subplots.AxesSubplot at 0x7fd394c6ccf8>"
            ]
          },
          "metadata": {
            "tags": []
          },
          "execution_count": 20
        },
        {
          "output_type": "display_data",
          "data": {
            "image/png": "[encoded data removed]",
            "text/plain": [
              "<Figure size 432x288 with 1 Axes>"
            ]
          },
          "metadata": {
            "tags": [],
            "needs_background": "light"
          }
        }
      ]
    },
    {
      "cell_type": "code",
      "metadata": {
        "id": "KHHA9PwnGa9j",
        "colab_type": "code",
        "colab": {
          "base_uri": "https://localhost:8080/",
          "height": 517
        },
        "outputId": "f512f5fb-b718-4966-d863-7b027634a2c1"
      },
      "source": [
        "# B Column\n",
        "\n",
        "print(\"Quantile Distribution\")\n",
        "print(pd.DataFrame(independent_variables['B'].quantile([0, 0.1, 0.2, 0.3, 0.4, 0.5, 0.6, 0.7, 0.8, 0.9,0.95 ,1])))\n",
        "sns.boxplot(data = independent_variables, orient = 'h', order = ['B'])\n",
        "\n",
        "# Inference : \n",
        "# Capping to first 10% Datapoints\n",
        "independent_variables['B'] = np.where(independent_variables['B'].round(1) < 290.0, 290.0, independent_variables['B'])"
      ],
      "execution_count": 21,
      "outputs": [
        {
          "output_type": "stream",
          "text": [
            "Quantile Distribution\n",
            "            B\n",
            "0.00    0.320\n",
            "0.10  290.270\n",
            "0.20  364.310\n",
            "0.30  378.665\n",
            "0.40  387.970\n",
            "0.50  391.440\n",
            "0.60  393.530\n",
            "0.70  395.465\n",
            "0.80  396.900\n",
            "0.90  396.900\n",
            "0.95  396.900\n",
            "1.00  396.900\n"
          ],
          "name": "stdout"
        },
        {
          "output_type": "display_data",
          "data": {
            "image/png": "[encoded data removed]",
            "text/plain": [
              "<Figure size 432x288 with 1 Axes>"
            ]
          },
          "metadata": {
            "tags": [],
            "needs_background": "light"
          }
        }
      ]
    },
    {
      "cell_type": "code",
      "metadata": {
        "id": "p19JMawzBblD",
        "colab_type": "code",
        "colab": {
          "base_uri": "https://localhost:8080/",
          "height": 266
        },
        "outputId": "ce563cc1-0963-4e57-be34-e44fed9cb2c9"
      },
      "source": [
        "# Lets check Skewness in the Data\n",
        "# If Skewness = 0, data is perfectly symmetrical\n",
        "# If Skewness is less than -1 or greater +1, distribution is highly skewed\n",
        "# If Skewness is between -1 and -0.5 or between 0.5 and 1, distribution is moderately skewed\n",
        "# If Skewness is between -0.5 and 0.5 then it is approximately symmetric  \n",
        "\n",
        "pd.DataFrame(independent_variables.skew().round(2),columns = [\"Skewness\"])\n",
        "\n",
        "# Inference : Positive Skew - 'CRIM','ZN' & Negative Skew - 'B'"
      ],
      "execution_count": 22,
      "outputs": [
        {
          "output_type": "execute_result",
          "data": {
            "text/html": [
              "<div>\n",
              "<style scoped>\n",
              "    .dataframe tbody tr th:only-of-type {\n",
              "        vertical-align: middle;\n",
              "    }\n",
              "\n",
              "    .dataframe tbody tr th {\n",
              "        vertical-align: top;\n",
              "    }\n",
              "\n",
              "    .dataframe thead th {\n",
              "        text-align: right;\n",
              "    }\n",
              "</style>\n",
              "<table border=\"1\" class=\"dataframe\">\n",
              "  <thead>\n",
              "    <tr style=\"text-align: right;\">\n",
              "      <th></th>\n",
              "      <th>Skewness</th>\n",
              "    </tr>\n",
              "  </thead>\n",
              "  <tbody>\n",
              "    <tr>\n",
              "      <th>CRIM</th>\n",
              "      <td>1.71</td>\n",
              "    </tr>\n",
              "    <tr>\n",
              "      <th>ZN</th>\n",
              "      <td>2.23</td>\n",
              "    </tr>\n",
              "    <tr>\n",
              "      <th>INDUS</th>\n",
              "      <td>0.30</td>\n",
              "    </tr>\n",
              "    <tr>\n",
              "      <th>AGE</th>\n",
              "      <td>-0.60</td>\n",
              "    </tr>\n",
              "    <tr>\n",
              "      <th>DIS</th>\n",
              "      <td>0.55</td>\n",
              "    </tr>\n",
              "    <tr>\n",
              "      <th>RAD</th>\n",
              "      <td>1.00</td>\n",
              "    </tr>\n",
              "    <tr>\n",
              "      <th>B</th>\n",
              "      <td>-1.76</td>\n",
              "    </tr>\n",
              "  </tbody>\n",
              "</table>\n",
              "</div>"
            ],
            "text/plain": [
              "       Skewness\n",
              "CRIM       1.71\n",
              "ZN         2.23\n",
              "INDUS      0.30\n",
              "AGE       -0.60\n",
              "DIS        0.55\n",
              "RAD        1.00\n",
              "B         -1.76"
            ]
          },
          "metadata": {
            "tags": []
          },
          "execution_count": 22
        }
      ]
    },
    {
      "cell_type": "code",
      "metadata": {
        "id": "4T8AURorE2N9",
        "colab_type": "code",
        "colab": {
          "base_uri": "https://localhost:8080/",
          "height": 143
        },
        "outputId": "d154e5bc-9692-4e70-bc2a-16d25910692a"
      },
      "source": [
        "# Lets remove Skewness one by one\n",
        "\n",
        "# CRIM Variable\n",
        "# Log Transformation\n",
        "CRIM_Log = np.log(independent_variables['CRIM'])\n",
        "\n",
        "# Square Root Transformation\n",
        "CRIM_sqrt = np.sqrt(independent_variables['CRIM'])\n",
        "\n",
        "# Cube Root Transformation\n",
        "CRIM_cbrt = np.cbrt(independent_variables['CRIM'])\n",
        "\n",
        "# Box Cox Transformation\n",
        "from scipy import stats\n",
        "CRIM_BoxCox = stats.boxcox(independent_variables['CRIM'])[0]\n",
        "Variable = pd.Series(CRIM_BoxCox)\n",
        "\n",
        "print(\"Comparing all Skewness values\")\n",
        "print(pd.DataFrame([independent_variables['CRIM'].skew(),CRIM_Log.skew(),CRIM_sqrt.skew(),CRIM_cbrt.skew(),Variable.skew()],\n",
        "             index=['Normal','Log','Square Root','Cube Root','Box Cox'],\n",
        "             columns = [\"Skewness\"]))\n",
        "\n",
        "# Inference : Best transformations is Log Transformation (Near to 0)\n",
        "\n",
        "independent_variables['CRIM_Log'] = CRIM_Log"
      ],
      "execution_count": 23,
      "outputs": [
        {
          "output_type": "stream",
          "text": [
            "Comparing all Skewness values\n",
            "             Skewness\n",
            "Normal       1.705324\n",
            "Log          0.321681\n",
            "Square Root  1.168043\n",
            "Cube Root    0.935891\n",
            "Box Cox      0.083939\n"
          ],
          "name": "stdout"
        }
      ]
    },
    {
      "cell_type": "code",
      "metadata": {
        "id": "6Cudu17XLlWV",
        "colab_type": "code",
        "colab": {
          "base_uri": "https://localhost:8080/",
          "height": 181
        },
        "outputId": "0898eb46-fee9-4d06-9a95-7938a2045fe6"
      },
      "source": [
        "# ZN Variable\n",
        "\n",
        "# Log Transformation\n",
        "ZN_Log = np.log(independent_variables['ZN'])\n",
        "\n",
        "# Square Root Transformation\n",
        "ZN_sqrt = np.sqrt(independent_variables['ZN'])\n",
        "\n",
        "# Cube Root Transformation\n",
        "ZN_cbrt = np.cbrt(independent_variables['ZN'])\n",
        "\n",
        "print(\"Comparing all Skewness values\")\n",
        "print(pd.DataFrame([independent_variables['ZN'].skew(),ZN_Log.skew(),ZN_sqrt.skew(),ZN_cbrt.skew()],\n",
        "             index=['Normal','Log','Square Root','Cube Root'],\n",
        "             columns = [\"Skewness\"]))\n",
        "\n",
        "# Inference : Best transformations is Cube Transformation (Near to 0)\n",
        "\n",
        "independent_variables['ZN_Cbrt'] = ZN_cbrt"
      ],
      "execution_count": 24,
      "outputs": [
        {
          "output_type": "stream",
          "text": [
            "Comparing all Skewness values\n",
            "             Skewness\n",
            "Normal       2.225666\n",
            "Log               NaN\n",
            "Square Root  1.476293\n",
            "Cube Root    1.262563\n"
          ],
          "name": "stdout"
        },
        {
          "output_type": "stream",
          "text": [
            "/usr/local/lib/python3.6/dist-packages/pandas/core/series.py:679: RuntimeWarning: divide by zero encountered in log\n",
            "  result = getattr(ufunc, method)(*inputs, **kwargs)\n"
          ],
          "name": "stderr"
        }
      ]
    },
    {
      "cell_type": "code",
      "metadata": {
        "id": "tmRPbMMLMGGB",
        "colab_type": "code",
        "colab": {
          "base_uri": "https://localhost:8080/",
          "height": 143
        },
        "outputId": "98e57d5e-8a94-40cc-e449-892d41f5106d"
      },
      "source": [
        "# B Variable\n",
        "\n",
        "# Log Transformation\n",
        "B_Log = np.log(independent_variables['B'])\n",
        "\n",
        "# Square Root Transformation\n",
        "B_sqrt = np.sqrt(independent_variables['B'])\n",
        "\n",
        "# Cube Root Transformation\n",
        "B_cbrt = np.cbrt(independent_variables['B'])\n",
        "\n",
        "# Box Cox Transformation\n",
        "from scipy import stats\n",
        "B_BoxCox = stats.boxcox(independent_variables['B'])[0]\n",
        "Variable = pd.Series(B_BoxCox)\n",
        "\n",
        "print(\"Comparing all Skewness values\")\n",
        "print(pd.DataFrame([independent_variables['B'].skew(),B_Log.skew(),B_sqrt.skew(),B_cbrt.skew(),Variable.skew()],\n",
        "             index=['Normal','Log','Square Root','Cube Root','Box Cox'],\n",
        "             columns = [\"Skewness\"]))\n",
        "\n",
        "# Inference : Best transformations is Box Cox Transformation (Approx to zero)\n",
        "# But avoiding Box Cox because it give values e raise to, second best is Square Root Transformation\n",
        "independent_variables['B_Sqrt'] = B_sqrt"
      ],
      "execution_count": 25,
      "outputs": [
        {
          "output_type": "stream",
          "text": [
            "Comparing all Skewness values\n",
            "             Skewness\n",
            "Normal      -1.760681\n",
            "Log         -1.837693\n",
            "Square Root -1.799513\n",
            "Cube Root   -1.812319\n",
            "Box Cox     -0.867610\n"
          ],
          "name": "stdout"
        }
      ]
    },
    {
      "cell_type": "code",
      "metadata": {
        "id": "B0LnS5sbOB8p",
        "colab_type": "code",
        "colab": {
          "base_uri": "https://localhost:8080/",
          "height": 204
        },
        "outputId": "a1aaf5c2-ee4d-416e-9711-d39abfd582b4"
      },
      "source": [
        "# Removing variables (raw variables) which are transformed\n",
        "\n",
        "# Removing variables\n",
        "independent_variables = independent_variables.drop(['CRIM', 'ZN', 'B'], axis = 1)\n",
        "\n",
        "# Round to 2 decimal point\n",
        "independent_variables = independent_variables.round(2)\n",
        "independent_variables.head()"
      ],
      "execution_count": 26,
      "outputs": [
        {
          "output_type": "execute_result",
          "data": {
            "text/html": [
              "<div>\n",
              "<style scoped>\n",
              "    .dataframe tbody tr th:only-of-type {\n",
              "        vertical-align: middle;\n",
              "    }\n",
              "\n",
              "    .dataframe tbody tr th {\n",
              "        vertical-align: top;\n",
              "    }\n",
              "\n",
              "    .dataframe thead th {\n",
              "        text-align: right;\n",
              "    }\n",
              "</style>\n",
              "<table border=\"1\" class=\"dataframe\">\n",
              "  <thead>\n",
              "    <tr style=\"text-align: right;\">\n",
              "      <th></th>\n",
              "      <th>INDUS</th>\n",
              "      <th>AGE</th>\n",
              "      <th>DIS</th>\n",
              "      <th>RAD</th>\n",
              "      <th>CRIM_Log</th>\n",
              "      <th>ZN_Cbrt</th>\n",
              "      <th>B_Sqrt</th>\n",
              "    </tr>\n",
              "  </thead>\n",
              "  <tbody>\n",
              "    <tr>\n",
              "      <th>0</th>\n",
              "      <td>2.31</td>\n",
              "      <td>65.2</td>\n",
              "      <td>4.09</td>\n",
              "      <td>1.0</td>\n",
              "      <td>-5.06</td>\n",
              "      <td>2.62</td>\n",
              "      <td>19.92</td>\n",
              "    </tr>\n",
              "    <tr>\n",
              "      <th>1</th>\n",
              "      <td>7.07</td>\n",
              "      <td>78.9</td>\n",
              "      <td>4.97</td>\n",
              "      <td>2.0</td>\n",
              "      <td>-3.60</td>\n",
              "      <td>0.00</td>\n",
              "      <td>19.92</td>\n",
              "    </tr>\n",
              "    <tr>\n",
              "      <th>2</th>\n",
              "      <td>7.07</td>\n",
              "      <td>61.1</td>\n",
              "      <td>4.97</td>\n",
              "      <td>2.0</td>\n",
              "      <td>-3.60</td>\n",
              "      <td>0.00</td>\n",
              "      <td>19.82</td>\n",
              "    </tr>\n",
              "    <tr>\n",
              "      <th>3</th>\n",
              "      <td>2.18</td>\n",
              "      <td>45.8</td>\n",
              "      <td>6.06</td>\n",
              "      <td>3.0</td>\n",
              "      <td>-3.43</td>\n",
              "      <td>0.00</td>\n",
              "      <td>19.87</td>\n",
              "    </tr>\n",
              "    <tr>\n",
              "      <th>4</th>\n",
              "      <td>2.18</td>\n",
              "      <td>54.2</td>\n",
              "      <td>6.06</td>\n",
              "      <td>3.0</td>\n",
              "      <td>-2.67</td>\n",
              "      <td>0.00</td>\n",
              "      <td>19.92</td>\n",
              "    </tr>\n",
              "  </tbody>\n",
              "</table>\n",
              "</div>"
            ],
            "text/plain": [
              "   INDUS   AGE   DIS  RAD  CRIM_Log  ZN_Cbrt  B_Sqrt\n",
              "0   2.31  65.2  4.09  1.0     -5.06     2.62   19.92\n",
              "1   7.07  78.9  4.97  2.0     -3.60     0.00   19.92\n",
              "2   7.07  61.1  4.97  2.0     -3.60     0.00   19.82\n",
              "3   2.18  45.8  6.06  3.0     -3.43     0.00   19.87\n",
              "4   2.18  54.2  6.06  3.0     -2.67     0.00   19.92"
            ]
          },
          "metadata": {
            "tags": []
          },
          "execution_count": 26
        }
      ]
    },
    {
      "cell_type": "code",
      "metadata": {
        "id": "2TQWyaWWQxhg",
        "colab_type": "code",
        "colab": {
          "base_uri": "https://localhost:8080/",
          "height": 549
        },
        "outputId": "4c1b4ac4-e51b-49f0-98b3-52a7aa8adf56"
      },
      "source": [
        "# Now lets train the model\n",
        "\n",
        "# Splitting Data into 70:30\n",
        "data_train, data_test, house_price_train, house_price_test = train_test_split(independent_variables,dependent_variable,train_size = 0.7)\n",
        "\n",
        "# Fitting the model\n",
        "Model_2 = OLS(house_price_train,data_train).fit()\n",
        "Model_2.summary()\n",
        "\n",
        "# Inference : \n",
        "# R and Ajusted R Square decreased (Model 1 = 0.95, Model 2 = 0.90). Ideal close to 1\n",
        "# Prob(F) less than 0.05 so independent var are important (Model 1 & Model 2 same result)\n",
        "# Omnibus,decreased good sign (Model 1 = 277, Model 2 = 114). Ideal close to 1\n",
        "# Durbin Watson,DW = 2 not bad (Model 1 = 0.9, Model 2 = 2). Ideal is from 0 to 1\n",
        "# JB decrease good amount, good sign error normally distributed (Model 1 = 3084, Model 2 = 324)\n",
        "# Skewness decreased good sign (Model 1 = 2.1, Model 2 = 1.5). Ideal is -1 to 1\n",
        "# Kurtosis decreased godo sign (Model 1 = 14, Model 2 = 6.5). Ideal is 3\n",
        "# Condition Number, well above 30 (Model 1 = 8000, Model 2 = 104). Ideal less than 30"
      ],
      "execution_count": 27,
      "outputs": [
        {
          "output_type": "execute_result",
          "data": {
            "text/html": [
              "<table class=\"simpletable\">\n",
              "<caption>OLS Regression Results</caption>\n",
              "<tr>\n",
              "  <th>Dep. Variable:</th>       <td>HOUSEPRICE</td>    <th>  R-squared (uncentered):</th>      <td>   0.905</td> \n",
              "</tr>\n",
              "<tr>\n",
              "  <th>Model:</th>                   <td>OLS</td>       <th>  Adj. R-squared (uncentered):</th> <td>   0.903</td> \n",
              "</tr>\n",
              "<tr>\n",
              "  <th>Method:</th>             <td>Least Squares</td>  <th>  F-statistic:       </th>          <td>   470.7</td> \n",
              "</tr>\n",
              "<tr>\n",
              "  <th>Date:</th>             <td>Tue, 01 Sep 2020</td> <th>  Prob (F-statistic):</th>          <td>6.92e-173</td>\n",
              "</tr>\n",
              "<tr>\n",
              "  <th>Time:</th>                 <td>16:05:57</td>     <th>  Log-Likelihood:    </th>          <td> -1220.8</td> \n",
              "</tr>\n",
              "<tr>\n",
              "  <th>No. Observations:</th>      <td>   354</td>      <th>  AIC:               </th>          <td>   2456.</td> \n",
              "</tr>\n",
              "<tr>\n",
              "  <th>Df Residuals:</th>          <td>   347</td>      <th>  BIC:               </th>          <td>   2483.</td> \n",
              "</tr>\n",
              "<tr>\n",
              "  <th>Df Model:</th>              <td>     7</td>      <th>                     </th>              <td> </td>    \n",
              "</tr>\n",
              "<tr>\n",
              "  <th>Covariance Type:</th>      <td>nonrobust</td>    <th>                     </th>              <td> </td>    \n",
              "</tr>\n",
              "</table>\n",
              "<table class=\"simpletable\">\n",
              "<tr>\n",
              "      <td></td>        <th>coef</th>     <th>std err</th>      <th>t</th>      <th>P>|t|</th>  <th>[0.025</th>    <th>0.975]</th>  \n",
              "</tr>\n",
              "<tr>\n",
              "  <th>INDUS</th>    <td>   -0.4244</td> <td>    0.093</td> <td>   -4.546</td> <td> 0.000</td> <td>   -0.608</td> <td>   -0.241</td>\n",
              "</tr>\n",
              "<tr>\n",
              "  <th>AGE</th>      <td>   -0.0758</td> <td>    0.023</td> <td>   -3.329</td> <td> 0.001</td> <td>   -0.121</td> <td>   -0.031</td>\n",
              "</tr>\n",
              "<tr>\n",
              "  <th>DIS</th>      <td>   -2.5119</td> <td>    0.410</td> <td>   -6.124</td> <td> 0.000</td> <td>   -3.319</td> <td>   -1.705</td>\n",
              "</tr>\n",
              "<tr>\n",
              "  <th>RAD</th>      <td>   -0.1976</td> <td>    0.093</td> <td>   -2.119</td> <td> 0.035</td> <td>   -0.381</td> <td>   -0.014</td>\n",
              "</tr>\n",
              "<tr>\n",
              "  <th>CRIM_Log</th> <td>    0.0076</td> <td>    0.498</td> <td>    0.015</td> <td> 0.988</td> <td>   -0.972</td> <td>    0.987</td>\n",
              "</tr>\n",
              "<tr>\n",
              "  <th>ZN_Cbrt</th>  <td>    1.4722</td> <td>    0.382</td> <td>    3.858</td> <td> 0.000</td> <td>    0.722</td> <td>    2.223</td>\n",
              "</tr>\n",
              "<tr>\n",
              "  <th>B_Sqrt</th>   <td>    2.1908</td> <td>    0.162</td> <td>   13.519</td> <td> 0.000</td> <td>    1.872</td> <td>    2.510</td>\n",
              "</tr>\n",
              "</table>\n",
              "<table class=\"simpletable\">\n",
              "<tr>\n",
              "  <th>Omnibus:</th>       <td>126.999</td> <th>  Durbin-Watson:     </th> <td>   1.978</td>\n",
              "</tr>\n",
              "<tr>\n",
              "  <th>Prob(Omnibus):</th> <td> 0.000</td>  <th>  Jarque-Bera (JB):  </th> <td> 385.558</td>\n",
              "</tr>\n",
              "<tr>\n",
              "  <th>Skew:</th>          <td> 1.656</td>  <th>  Prob(JB):          </th> <td>1.89e-84</td>\n",
              "</tr>\n",
              "<tr>\n",
              "  <th>Kurtosis:</th>      <td> 6.894</td>  <th>  Cond. No.          </th> <td>    101.</td>\n",
              "</tr>\n",
              "</table><br/><br/>Warnings:<br/>[1] Standard Errors assume that the covariance matrix of the errors is correctly specified."
            ],
            "text/plain": [
              "<class 'statsmodels.iolib.summary.Summary'>\n",
              "\"\"\"\n",
              "                                 OLS Regression Results                                \n",
              "=======================================================================================\n",
              "Dep. Variable:             HOUSEPRICE   R-squared (uncentered):                   0.905\n",
              "Model:                            OLS   Adj. R-squared (uncentered):              0.903\n",
              "Method:                 Least Squares   F-statistic:                              470.7\n",
              "Date:                Tue, 01 Sep 2020   Prob (F-statistic):                   6.92e-173\n",
              "Time:                        16:05:57   Log-Likelihood:                         -1220.8\n",
              "No. Observations:                 354   AIC:                                      2456.\n",
              "Df Residuals:                     347   BIC:                                      2483.\n",
              "Df Model:                           7                                                  \n",
              "Covariance Type:            nonrobust                                                  \n",
              "==============================================================================\n",
              "                 coef    std err          t      P>|t|      [0.025      0.975]\n",
              "------------------------------------------------------------------------------\n",
              "INDUS         -0.4244      0.093     -4.546      0.000      -0.608      -0.241\n",
              "AGE           -0.0758      0.023     -3.329      0.001      -0.121      -0.031\n",
              "DIS           -2.5119      0.410     -6.124      0.000      -3.319      -1.705\n",
              "RAD           -0.1976      0.093     -2.119      0.035      -0.381      -0.014\n",
              "CRIM_Log       0.0076      0.498      0.015      0.988      -0.972       0.987\n",
              "ZN_Cbrt        1.4722      0.382      3.858      0.000       0.722       2.223\n",
              "B_Sqrt         2.1908      0.162     13.519      0.000       1.872       2.510\n",
              "==============================================================================\n",
              "Omnibus:                      126.999   Durbin-Watson:                   1.978\n",
              "Prob(Omnibus):                  0.000   Jarque-Bera (JB):              385.558\n",
              "Skew:                           1.656   Prob(JB):                     1.89e-84\n",
              "Kurtosis:                       6.894   Cond. No.                         101.\n",
              "==============================================================================\n",
              "\n",
              "Warnings:\n",
              "[1] Standard Errors assume that the covariance matrix of the errors is correctly specified.\n",
              "\"\"\""
            ]
          },
          "metadata": {
            "tags": []
          },
          "execution_count": 27
        }
      ]
    },
    {
      "cell_type": "code",
      "metadata": {
        "id": "sQ1Om5Y1RHIO",
        "colab_type": "code",
        "colab": {
          "base_uri": "https://localhost:8080/",
          "height": 89
        },
        "outputId": "63247b74-6927-4170-e67c-0d15786b6bd3"
      },
      "source": [
        "# Prediction of Model 2 \n",
        "Prediction_2 = Model_2.predict(data_test)\n",
        "print(\"Mean Absolute Error :\",metrics.mean_absolute_error(house_price_test,Prediction_2).round(2))\n",
        "print(\"Mean Squared Error :\",metrics.mean_squared_error(house_price_test,Prediction_2).round(2))\n",
        "print(\"Root Mean Squared Error :\",metrics.mean_squared_error(house_price_test,Prediction_2).round(2))\n",
        "print(\"Mean Absolute Percentage Error :\",mape(house_price_test,Prediction_2).round(2))\n",
        "\n",
        "# Inference : \n",
        "# Model 1 MAPE = 49.7% decreased to 43.6% in Model 2. Good Progress !!"
      ],
      "execution_count": 28,
      "outputs": [
        {
          "output_type": "stream",
          "text": [
            "Mean Absolute Error : 5.32\n",
            "Mean Squared Error : 49.36\n",
            "Root Mean Squared Error : 49.36\n",
            "Mean Absolute Percentage Error : 49.37\n"
          ],
          "name": "stdout"
        }
      ]
    },
    {
      "cell_type": "code",
      "metadata": {
        "id": "W1vLWsZVU6s2",
        "colab_type": "code",
        "colab": {
          "base_uri": "https://localhost:8080/",
          "height": 507
        },
        "outputId": "4ce2acb6-7a6a-42cc-ceee-fde8044e2379"
      },
      "source": [
        "# Model 3\n",
        "\n",
        "# Now lets drop variable based on P Values\n",
        "independent_variables = independent_variables.drop(['RAD', 'CRIM_Log'], axis = 1)\n",
        "\n",
        "# Splitting Data into 70:30\n",
        "data_train, data_test, house_price_train, house_price_test = train_test_split(independent_variables,dependent_variable,train_size = 0.7)\n",
        "\n",
        "# Fitting the model\n",
        "Model_3 = OLS(house_price_train,data_train).fit()\n",
        "Model_3.summary()\n",
        "\n",
        "# Inference : \n",
        "# R and Ajusted R Square constant (Model 1 = 0.95, Model 2 = 0.90, Model 3 = 0.90). Ideal close to 1\n",
        "# Prob(F) less than 0.05 so independent var are important (Model 1,2 & 3 same result)\n",
        "# Omnibus,increased bad sign (Model 1 = 277, Model 2 = 114, Model 3 = 130). Ideal close to 1\n",
        "# Durbin Watson,DW = 2 constant (Model 1 = 0.9, Model 2 = 2, Model 3 = 2). Ideal is from 0 to 1\n",
        "# JB increased, bad sign (Model 1 = 3084, Model 2 = 324, Model 3 = 456)\n",
        "# Skewness almost constant (Model 1 = 2.1, Model 2 = 1.5, Model 3 = 1.6). Ideal is -1 to 1\n",
        "# Kurtosis increased bad sign (Model 1 = 14, Model 2 = 6.5, Model 3 = 8.2). Ideal is 3\n",
        "# Condition Number, well above 30 (Model 1 = 8000, Model 2 = 104, Model 3 = 89). Ideal less than 30"
      ],
      "execution_count": 29,
      "outputs": [
        {
          "output_type": "execute_result",
          "data": {
            "text/html": [
              "<table class=\"simpletable\">\n",
              "<caption>OLS Regression Results</caption>\n",
              "<tr>\n",
              "  <th>Dep. Variable:</th>       <td>HOUSEPRICE</td>    <th>  R-squared (uncentered):</th>      <td>   0.909</td> \n",
              "</tr>\n",
              "<tr>\n",
              "  <th>Model:</th>                   <td>OLS</td>       <th>  Adj. R-squared (uncentered):</th> <td>   0.908</td> \n",
              "</tr>\n",
              "<tr>\n",
              "  <th>Method:</th>             <td>Least Squares</td>  <th>  F-statistic:       </th>          <td>   697.8</td> \n",
              "</tr>\n",
              "<tr>\n",
              "  <th>Date:</th>             <td>Tue, 01 Sep 2020</td> <th>  Prob (F-statistic):</th>          <td>3.01e-179</td>\n",
              "</tr>\n",
              "<tr>\n",
              "  <th>Time:</th>                 <td>16:05:57</td>     <th>  Log-Likelihood:    </th>          <td> -1199.7</td> \n",
              "</tr>\n",
              "<tr>\n",
              "  <th>No. Observations:</th>      <td>   354</td>      <th>  AIC:               </th>          <td>   2409.</td> \n",
              "</tr>\n",
              "<tr>\n",
              "  <th>Df Residuals:</th>          <td>   349</td>      <th>  BIC:               </th>          <td>   2429.</td> \n",
              "</tr>\n",
              "<tr>\n",
              "  <th>Df Model:</th>              <td>     5</td>      <th>                     </th>              <td> </td>    \n",
              "</tr>\n",
              "<tr>\n",
              "  <th>Covariance Type:</th>      <td>nonrobust</td>    <th>                     </th>              <td> </td>    \n",
              "</tr>\n",
              "</table>\n",
              "<table class=\"simpletable\">\n",
              "<tr>\n",
              "     <td></td>        <th>coef</th>     <th>std err</th>      <th>t</th>      <th>P>|t|</th>  <th>[0.025</th>    <th>0.975]</th>  \n",
              "</tr>\n",
              "<tr>\n",
              "  <th>INDUS</th>   <td>   -0.5792</td> <td>    0.083</td> <td>   -7.011</td> <td> 0.000</td> <td>   -0.742</td> <td>   -0.417</td>\n",
              "</tr>\n",
              "<tr>\n",
              "  <th>AGE</th>     <td>   -0.0705</td> <td>    0.022</td> <td>   -3.201</td> <td> 0.001</td> <td>   -0.114</td> <td>   -0.027</td>\n",
              "</tr>\n",
              "<tr>\n",
              "  <th>DIS</th>     <td>   -1.8500</td> <td>    0.397</td> <td>   -4.656</td> <td> 0.000</td> <td>   -2.632</td> <td>   -1.068</td>\n",
              "</tr>\n",
              "<tr>\n",
              "  <th>ZN_Cbrt</th> <td>    0.9226</td> <td>    0.346</td> <td>    2.665</td> <td> 0.008</td> <td>    0.242</td> <td>    1.604</td>\n",
              "</tr>\n",
              "<tr>\n",
              "  <th>B_Sqrt</th>  <td>    2.0298</td> <td>    0.143</td> <td>   14.237</td> <td> 0.000</td> <td>    1.749</td> <td>    2.310</td>\n",
              "</tr>\n",
              "</table>\n",
              "<table class=\"simpletable\">\n",
              "<tr>\n",
              "  <th>Omnibus:</th>       <td>144.050</td> <th>  Durbin-Watson:     </th> <td>   1.929</td> \n",
              "</tr>\n",
              "<tr>\n",
              "  <th>Prob(Omnibus):</th> <td> 0.000</td>  <th>  Jarque-Bera (JB):  </th> <td> 582.477</td> \n",
              "</tr>\n",
              "<tr>\n",
              "  <th>Skew:</th>          <td> 1.761</td>  <th>  Prob(JB):          </th> <td>3.29e-127</td>\n",
              "</tr>\n",
              "<tr>\n",
              "  <th>Kurtosis:</th>      <td> 8.204</td>  <th>  Cond. No.          </th> <td>    89.6</td> \n",
              "</tr>\n",
              "</table><br/><br/>Warnings:<br/>[1] Standard Errors assume that the covariance matrix of the errors is correctly specified."
            ],
            "text/plain": [
              "<class 'statsmodels.iolib.summary.Summary'>\n",
              "\"\"\"\n",
              "                                 OLS Regression Results                                \n",
              "=======================================================================================\n",
              "Dep. Variable:             HOUSEPRICE   R-squared (uncentered):                   0.909\n",
              "Model:                            OLS   Adj. R-squared (uncentered):              0.908\n",
              "Method:                 Least Squares   F-statistic:                              697.8\n",
              "Date:                Tue, 01 Sep 2020   Prob (F-statistic):                   3.01e-179\n",
              "Time:                        16:05:57   Log-Likelihood:                         -1199.7\n",
              "No. Observations:                 354   AIC:                                      2409.\n",
              "Df Residuals:                     349   BIC:                                      2429.\n",
              "Df Model:                           5                                                  \n",
              "Covariance Type:            nonrobust                                                  \n",
              "==============================================================================\n",
              "                 coef    std err          t      P>|t|      [0.025      0.975]\n",
              "------------------------------------------------------------------------------\n",
              "INDUS         -0.5792      0.083     -7.011      0.000      -0.742      -0.417\n",
              "AGE           -0.0705      0.022     -3.201      0.001      -0.114      -0.027\n",
              "DIS           -1.8500      0.397     -4.656      0.000      -2.632      -1.068\n",
              "ZN_Cbrt        0.9226      0.346      2.665      0.008       0.242       1.604\n",
              "B_Sqrt         2.0298      0.143     14.237      0.000       1.749       2.310\n",
              "==============================================================================\n",
              "Omnibus:                      144.050   Durbin-Watson:                   1.929\n",
              "Prob(Omnibus):                  0.000   Jarque-Bera (JB):              582.477\n",
              "Skew:                           1.761   Prob(JB):                    3.29e-127\n",
              "Kurtosis:                       8.204   Cond. No.                         89.6\n",
              "==============================================================================\n",
              "\n",
              "Warnings:\n",
              "[1] Standard Errors assume that the covariance matrix of the errors is correctly specified.\n",
              "\"\"\""
            ]
          },
          "metadata": {
            "tags": []
          },
          "execution_count": 29
        }
      ]
    },
    {
      "cell_type": "code",
      "metadata": {
        "id": "YBiI1s4aWJaY",
        "colab_type": "code",
        "colab": {
          "base_uri": "https://localhost:8080/",
          "height": 89
        },
        "outputId": "42b89edd-5ce9-4e86-a782-7afcabb92b41"
      },
      "source": [
        "# Prediction of Model 3\n",
        "\n",
        "Prediction_3 = Model_3.predict(data_test)\n",
        "print(\"Mean Absolute Error :\",metrics.mean_absolute_error(house_price_test,Prediction_3).round(2))\n",
        "print(\"Mean Squared Error :\",metrics.mean_squared_error(house_price_test,Prediction_3).round(2))\n",
        "print(\"Root Mean Squared Error :\",metrics.mean_squared_error(house_price_test,Prediction_3).round(2))\n",
        "print(\"Mean Absolute Percentage Error :\",mape(house_price_test,Prediction_3).round(2))\n",
        "\n",
        "# Inference : \n",
        "# Model 1 MAPE = 49.7% decreased to 43.6% in Model 2 and decreased to 41.1% in Model 3.\n",
        "# Model 3 is performed well out of 3 models (Model 3 should be selected)"
      ],
      "execution_count": 30,
      "outputs": [
        {
          "output_type": "stream",
          "text": [
            "Mean Absolute Error : 5.69\n",
            "Mean Squared Error : 69.36\n",
            "Root Mean Squared Error : 69.36\n",
            "Mean Absolute Percentage Error : 41.81\n"
          ],
          "name": "stdout"
        }
      ]
    }
  ]
}