{
  "nbformat": 4,
  "nbformat_minor": 0,
  "metadata": {
    "colab": {
      "name": "08 Logistic Regression.ipynb",
      "provenance": [],
      "collapsed_sections": [],
      "authorship_tag": "ABX9TyMB43AXEDwnMp1q+VgJTj2j",
      "include_colab_link": true
    },
    "kernelspec": {
      "name": "python3",
      "display_name": "Python 3"
    }
  },
  "cells": [
    {
      "cell_type": "markdown",
      "metadata": {
        "id": "view-in-github",
        "colab_type": "text"
      },
      "source": [
        "<a href=\"https://colab.research.google.com/github/sandipanpaul21/ML-Code-in-Python/blob/master/08_Logistic_Regression.ipynb\" target=\"_parent\"><img src=\"https://colab.research.google.com/assets/colab-badge.svg\" alt=\"Open In Colab\"/></a>"
      ]
    },
    {
      "cell_type": "code",
      "metadata": {
        "id": "62jtaMtqv3xO",
        "colab_type": "code",
        "colab": {
          "base_uri": "https://localhost:8080/",
          "height": 73
        },
        "outputId": "2eea8145-6dac-4047-ccef-6553394421fe"
      },
      "source": [
        "# Libraries\n",
        "from sklearn import datasets\n",
        "import pandas as pd\n",
        "import statsmodels.api as sm\n",
        "from sklearn.linear_model import LogisticRegression\n",
        "from sklearn import metrics\n",
        "from sklearn.model_selection import train_test_split\n",
        "from sklearn.metrics import accuracy_score,recall_score,precision_score,f1_score\n",
        "from sklearn.metrics import confusion_matrix, classification_report, roc_auc_score\n",
        "#!pip install xverse\n",
        "from xverse.ensemble import VotingSelector\n",
        "import warnings\n",
        "warnings.filterwarnings(\"ignore\")\n",
        "import numpy as np"
      ],
      "execution_count": 1,
      "outputs": [
        {
          "output_type": "stream",
          "text": [
            "/usr/local/lib/python3.6/dist-packages/statsmodels/tools/_testing.py:19: FutureWarning: pandas.util.testing is deprecated. Use the functions in the public API at pandas.testing instead.\n",
            "  import pandas.util.testing as tm\n"
          ],
          "name": "stderr"
        }
      ]
    },
    {
      "cell_type": "code",
      "metadata": {
        "id": "SsJXrI27wBDi",
        "colab_type": "code",
        "colab": {
          "base_uri": "https://localhost:8080/",
          "height": 204
        },
        "outputId": "f7de3e0e-c272-44b1-f184-af47db01986e"
      },
      "source": [
        "# IRIS Dataset\n",
        "iriss = datasets.load_iris()\n",
        "iris = pd.DataFrame(iriss.data)\n",
        "iris.columns = iriss.feature_names\n",
        "iris['species'] = iriss.target\n",
        "\n",
        "# Logistic only applies to 2 Target Classes but IRIS have 3 Target classes\n",
        "# So filtering out 2 Target classes (0 & 1)\n",
        "iris = iris[iris['species'] <= 1]\n",
        "iris.columns = iris.columns.str.replace(\" \",\"\")\n",
        "iris.columns = iris.columns.str.replace(\"(\",\"\")\n",
        "iris.columns = iris.columns.str.replace(\")\",\"\")\n",
        "iris.head()"
      ],
      "execution_count": 2,
      "outputs": [
        {
          "output_type": "execute_result",
          "data": {
            "text/html": [
              "<div>\n",
              "<style scoped>\n",
              "    .dataframe tbody tr th:only-of-type {\n",
              "        vertical-align: middle;\n",
              "    }\n",
              "\n",
              "    .dataframe tbody tr th {\n",
              "        vertical-align: top;\n",
              "    }\n",
              "\n",
              "    .dataframe thead th {\n",
              "        text-align: right;\n",
              "    }\n",
              "</style>\n",
              "<table border=\"1\" class=\"dataframe\">\n",
              "  <thead>\n",
              "    <tr style=\"text-align: right;\">\n",
              "      <th></th>\n",
              "      <th>sepallengthcm</th>\n",
              "      <th>sepalwidthcm</th>\n",
              "      <th>petallengthcm</th>\n",
              "      <th>petalwidthcm</th>\n",
              "      <th>species</th>\n",
              "    </tr>\n",
              "  </thead>\n",
              "  <tbody>\n",
              "    <tr>\n",
              "      <th>0</th>\n",
              "      <td>5.1</td>\n",
              "      <td>3.5</td>\n",
              "      <td>1.4</td>\n",
              "      <td>0.2</td>\n",
              "      <td>0</td>\n",
              "    </tr>\n",
              "    <tr>\n",
              "      <th>1</th>\n",
              "      <td>4.9</td>\n",
              "      <td>3.0</td>\n",
              "      <td>1.4</td>\n",
              "      <td>0.2</td>\n",
              "      <td>0</td>\n",
              "    </tr>\n",
              "    <tr>\n",
              "      <th>2</th>\n",
              "      <td>4.7</td>\n",
              "      <td>3.2</td>\n",
              "      <td>1.3</td>\n",
              "      <td>0.2</td>\n",
              "      <td>0</td>\n",
              "    </tr>\n",
              "    <tr>\n",
              "      <th>3</th>\n",
              "      <td>4.6</td>\n",
              "      <td>3.1</td>\n",
              "      <td>1.5</td>\n",
              "      <td>0.2</td>\n",
              "      <td>0</td>\n",
              "    </tr>\n",
              "    <tr>\n",
              "      <th>4</th>\n",
              "      <td>5.0</td>\n",
              "      <td>3.6</td>\n",
              "      <td>1.4</td>\n",
              "      <td>0.2</td>\n",
              "      <td>0</td>\n",
              "    </tr>\n",
              "  </tbody>\n",
              "</table>\n",
              "</div>"
            ],
            "text/plain": [
              "   sepallengthcm  sepalwidthcm  petallengthcm  petalwidthcm  species\n",
              "0            5.1           3.5            1.4           0.2        0\n",
              "1            4.9           3.0            1.4           0.2        0\n",
              "2            4.7           3.2            1.3           0.2        0\n",
              "3            4.6           3.1            1.5           0.2        0\n",
              "4            5.0           3.6            1.4           0.2        0"
            ]
          },
          "metadata": {
            "tags": []
          },
          "execution_count": 2
        }
      ]
    },
    {
      "cell_type": "code",
      "metadata": {
        "id": "K9xoDHBeyTbu",
        "colab_type": "code",
        "colab": {
          "base_uri": "https://localhost:8080/",
          "height": 71
        },
        "outputId": "dadd7af1-6398-488e-e17b-9aec9ed2da19"
      },
      "source": [
        "# Target Column Distribution\n",
        "iris['species'].value_counts()"
      ],
      "execution_count": 3,
      "outputs": [
        {
          "output_type": "execute_result",
          "data": {
            "text/plain": [
              "1    50\n",
              "0    50\n",
              "Name: species, dtype: int64"
            ]
          },
          "metadata": {
            "tags": []
          },
          "execution_count": 3
        }
      ]
    },
    {
      "cell_type": "code",
      "metadata": {
        "id": "ZFLe8GZPyaUj",
        "colab_type": "code",
        "colab": {
          "base_uri": "https://localhost:8080/",
          "height": 142
        },
        "outputId": "927567e0-eefb-4f33-e6d4-0c3c80291d5c"
      },
      "source": [
        "# Distribution (mean) of Independent Columns respect to Dependent Column\n",
        "iris.groupby('species').mean().round(2)"
      ],
      "execution_count": 4,
      "outputs": [
        {
          "output_type": "execute_result",
          "data": {
            "text/html": [
              "<div>\n",
              "<style scoped>\n",
              "    .dataframe tbody tr th:only-of-type {\n",
              "        vertical-align: middle;\n",
              "    }\n",
              "\n",
              "    .dataframe tbody tr th {\n",
              "        vertical-align: top;\n",
              "    }\n",
              "\n",
              "    .dataframe thead th {\n",
              "        text-align: right;\n",
              "    }\n",
              "</style>\n",
              "<table border=\"1\" class=\"dataframe\">\n",
              "  <thead>\n",
              "    <tr style=\"text-align: right;\">\n",
              "      <th></th>\n",
              "      <th>sepallengthcm</th>\n",
              "      <th>sepalwidthcm</th>\n",
              "      <th>petallengthcm</th>\n",
              "      <th>petalwidthcm</th>\n",
              "    </tr>\n",
              "    <tr>\n",
              "      <th>species</th>\n",
              "      <th></th>\n",
              "      <th></th>\n",
              "      <th></th>\n",
              "      <th></th>\n",
              "    </tr>\n",
              "  </thead>\n",
              "  <tbody>\n",
              "    <tr>\n",
              "      <th>0</th>\n",
              "      <td>5.01</td>\n",
              "      <td>3.43</td>\n",
              "      <td>1.46</td>\n",
              "      <td>0.25</td>\n",
              "    </tr>\n",
              "    <tr>\n",
              "      <th>1</th>\n",
              "      <td>5.94</td>\n",
              "      <td>2.77</td>\n",
              "      <td>4.26</td>\n",
              "      <td>1.33</td>\n",
              "    </tr>\n",
              "  </tbody>\n",
              "</table>\n",
              "</div>"
            ],
            "text/plain": [
              "         sepallengthcm  sepalwidthcm  petallengthcm  petalwidthcm\n",
              "species                                                          \n",
              "0                 5.01          3.43           1.46          0.25\n",
              "1                 5.94          2.77           4.26          1.33"
            ]
          },
          "metadata": {
            "tags": []
          },
          "execution_count": 4
        }
      ]
    },
    {
      "cell_type": "code",
      "metadata": {
        "id": "hCLdeFAzyn15",
        "colab_type": "code",
        "colab": {
          "base_uri": "https://localhost:8080/",
          "height": 204
        },
        "outputId": "00d2def6-c3bd-47d3-8334-90fc479921a4"
      },
      "source": [
        "# Independent Variables\n",
        "Independent_Variable_Base_Set = iris[iris.columns[0:4]]\n",
        "Independent_Variable_Base_Set.head()"
      ],
      "execution_count": 5,
      "outputs": [
        {
          "output_type": "execute_result",
          "data": {
            "text/html": [
              "<div>\n",
              "<style scoped>\n",
              "    .dataframe tbody tr th:only-of-type {\n",
              "        vertical-align: middle;\n",
              "    }\n",
              "\n",
              "    .dataframe tbody tr th {\n",
              "        vertical-align: top;\n",
              "    }\n",
              "\n",
              "    .dataframe thead th {\n",
              "        text-align: right;\n",
              "    }\n",
              "</style>\n",
              "<table border=\"1\" class=\"dataframe\">\n",
              "  <thead>\n",
              "    <tr style=\"text-align: right;\">\n",
              "      <th></th>\n",
              "      <th>sepallengthcm</th>\n",
              "      <th>sepalwidthcm</th>\n",
              "      <th>petallengthcm</th>\n",
              "      <th>petalwidthcm</th>\n",
              "    </tr>\n",
              "  </thead>\n",
              "  <tbody>\n",
              "    <tr>\n",
              "      <th>0</th>\n",
              "      <td>5.1</td>\n",
              "      <td>3.5</td>\n",
              "      <td>1.4</td>\n",
              "      <td>0.2</td>\n",
              "    </tr>\n",
              "    <tr>\n",
              "      <th>1</th>\n",
              "      <td>4.9</td>\n",
              "      <td>3.0</td>\n",
              "      <td>1.4</td>\n",
              "      <td>0.2</td>\n",
              "    </tr>\n",
              "    <tr>\n",
              "      <th>2</th>\n",
              "      <td>4.7</td>\n",
              "      <td>3.2</td>\n",
              "      <td>1.3</td>\n",
              "      <td>0.2</td>\n",
              "    </tr>\n",
              "    <tr>\n",
              "      <th>3</th>\n",
              "      <td>4.6</td>\n",
              "      <td>3.1</td>\n",
              "      <td>1.5</td>\n",
              "      <td>0.2</td>\n",
              "    </tr>\n",
              "    <tr>\n",
              "      <th>4</th>\n",
              "      <td>5.0</td>\n",
              "      <td>3.6</td>\n",
              "      <td>1.4</td>\n",
              "      <td>0.2</td>\n",
              "    </tr>\n",
              "  </tbody>\n",
              "</table>\n",
              "</div>"
            ],
            "text/plain": [
              "   sepallengthcm  sepalwidthcm  petallengthcm  petalwidthcm\n",
              "0            5.1           3.5            1.4           0.2\n",
              "1            4.9           3.0            1.4           0.2\n",
              "2            4.7           3.2            1.3           0.2\n",
              "3            4.6           3.1            1.5           0.2\n",
              "4            5.0           3.6            1.4           0.2"
            ]
          },
          "metadata": {
            "tags": []
          },
          "execution_count": 5
        }
      ]
    },
    {
      "cell_type": "code",
      "metadata": {
        "id": "arp-Lgyey1gk",
        "colab_type": "code",
        "colab": {
          "base_uri": "https://localhost:8080/",
          "height": 204
        },
        "outputId": "8446ef11-60cf-460c-f390-a7b37773fd93"
      },
      "source": [
        "# Dependent Variable\n",
        "Dependent_Variable = iris[iris.columns[-1:iris.columns.size]]\n",
        "Dependent_Variable.head()"
      ],
      "execution_count": 6,
      "outputs": [
        {
          "output_type": "execute_result",
          "data": {
            "text/html": [
              "<div>\n",
              "<style scoped>\n",
              "    .dataframe tbody tr th:only-of-type {\n",
              "        vertical-align: middle;\n",
              "    }\n",
              "\n",
              "    .dataframe tbody tr th {\n",
              "        vertical-align: top;\n",
              "    }\n",
              "\n",
              "    .dataframe thead th {\n",
              "        text-align: right;\n",
              "    }\n",
              "</style>\n",
              "<table border=\"1\" class=\"dataframe\">\n",
              "  <thead>\n",
              "    <tr style=\"text-align: right;\">\n",
              "      <th></th>\n",
              "      <th>species</th>\n",
              "    </tr>\n",
              "  </thead>\n",
              "  <tbody>\n",
              "    <tr>\n",
              "      <th>0</th>\n",
              "      <td>0</td>\n",
              "    </tr>\n",
              "    <tr>\n",
              "      <th>1</th>\n",
              "      <td>0</td>\n",
              "    </tr>\n",
              "    <tr>\n",
              "      <th>2</th>\n",
              "      <td>0</td>\n",
              "    </tr>\n",
              "    <tr>\n",
              "      <th>3</th>\n",
              "      <td>0</td>\n",
              "    </tr>\n",
              "    <tr>\n",
              "      <th>4</th>\n",
              "      <td>0</td>\n",
              "    </tr>\n",
              "  </tbody>\n",
              "</table>\n",
              "</div>"
            ],
            "text/plain": [
              "   species\n",
              "0        0\n",
              "1        0\n",
              "2        0\n",
              "3        0\n",
              "4        0"
            ]
          },
          "metadata": {
            "tags": []
          },
          "execution_count": 6
        }
      ]
    },
    {
      "cell_type": "code",
      "metadata": {
        "id": "mUQ3NL2rzBVh",
        "colab_type": "code",
        "colab": {
          "base_uri": "https://localhost:8080/",
          "height": 431
        },
        "outputId": "32ce7eb0-21df-47e9-dcda-bc2fd1c4b162"
      },
      "source": [
        "# Fitting Logistic Model \n",
        "\n",
        "# Base Model\n",
        "logit_model = sm.Logit(Dependent_Variable,Independent_Variable_Base_Set)\n",
        "result = logit_model.fit(method = 'bfgs')\n",
        "print(result.summary2())"
      ],
      "execution_count": 7,
      "outputs": [
        {
          "output_type": "stream",
          "text": [
            "Optimization terminated successfully.\n",
            "         Current function value: 0.000001\n",
            "         Iterations: 22\n",
            "         Function evaluations: 24\n",
            "         Gradient evaluations: 24\n",
            "                          Results: Logit\n",
            "===================================================================\n",
            "Model:               Logit            Pseudo R-squared: 1.000      \n",
            "Dependent Variable:  species          AIC:              8.0002     \n",
            "Date:                2020-09-03 13:47 BIC:              18.4209    \n",
            "No. Observations:    100              Log-Likelihood:   -0.00011118\n",
            "Df Model:            3                LL-Null:          -69.315    \n",
            "Df Residuals:        96               LLR p-value:      7.4648e-30 \n",
            "Converged:           1.0000           Scale:            1.0000     \n",
            "-------------------------------------------------------------------\n",
            "               Coef.   Std.Err.    z    P>|z|    [0.025     0.975] \n",
            "-------------------------------------------------------------------\n",
            "sepallengthcm -2.5944 1094.5370 -0.0024 0.9981 -2147.8474 2142.6587\n",
            "sepalwidthcm  -8.5218 1836.4958 -0.0046 0.9963 -3607.9874 3590.9439\n",
            "petallengthcm 12.5739  936.1902  0.0134 0.9893 -1822.3252 1847.4731\n",
            "petalwidthcm   5.4597 1647.2513  0.0033 0.9974 -3223.0935 3234.0129\n",
            "===================================================================\n",
            "\n"
          ],
          "name": "stdout"
        }
      ]
    },
    {
      "cell_type": "code",
      "metadata": {
        "id": "rbG4ngWPzfHz",
        "colab_type": "code",
        "colab": {
          "base_uri": "https://localhost:8080/",
          "height": 197
        },
        "outputId": "019dd144-ae59-4027-9975-a3ad105fb26a"
      },
      "source": [
        "# Model Summary\n",
        "\n",
        "print(\"Base Model Summary\\n\")\n",
        "print(\"Iteration suggests how many loop model did to perform the fit\")\n",
        "print(\"Iterations : 22\")\n",
        "r_square = result.prsquared.round(2)\n",
        "print(\"Pseudo R Square suggests overall effect size (ideal value is close to 1)\")\n",
        "print(\"Base Model, MacFadden Pseudo R Square : \",r_square)\n",
        "base_model_aic = result.aic.round(2)\n",
        "print(\"AIC compares Goodness of Fit, Lower AIC better is the Model\")\n",
        "print(\"Base Model, AIC  :\",base_model_aic)\n",
        "base_model_bic = result.bic.round(2)\n",
        "print(\"BIC also work same as AIC, Lower BIC better is the Model\")\n",
        "print(\"Base Model, BIC :\",base_model_bic)"
      ],
      "execution_count": 8,
      "outputs": [
        {
          "output_type": "stream",
          "text": [
            "Base Model Summary\n",
            "\n",
            "Iteration suggests how many loop model did to perform the fit\n",
            "Iterations : 22\n",
            "Pseudo R Square suggests overall effect size (ideal value is close to 1)\n",
            "Base Model, MacFadden Pseudo R Square :  1.0\n",
            "AIC compares Goodness of Fit, Lower AIC better is the Model\n",
            "Base Model, AIC  : 8.0\n",
            "BIC also work same as AIC, Lower BIC better is the Model\n",
            "Base Model, BIC : 18.42\n"
          ],
          "name": "stdout"
        }
      ]
    },
    {
      "cell_type": "code",
      "metadata": {
        "id": "IdcrKXSXzxZY",
        "colab_type": "code",
        "colab": {
          "base_uri": "https://localhost:8080/",
          "height": 557
        },
        "outputId": "5a34efea-c287-4ebc-81db-863724e69277"
      },
      "source": [
        "# Split the Dataset how logistic works\n",
        "\n",
        "# Lets start with selecting one variable\n",
        "Independent_Variable_Set_v1 = iris[iris.columns[0:1]]\n",
        "X_train, X_test, y_train, y_test = train_test_split(Independent_Variable_Set_v1,Dependent_Variable,test_size = 0.3,random_state = 21)\n",
        "logit_model = sm.Logit(y_train,X_train)\n",
        "result = logit_model.fit(method='bfgs')\n",
        "print(result.summary2())\n",
        "\n",
        "# Model Summary\n",
        "\n",
        "print(\"Model 1 Summary\\n\")\n",
        "print(\"Iteration suggests how many loop model did to perform the fit\")\n",
        "print(\"Iterations : 3\")\n",
        "r_square_1 = result.prsquared.round(2)\n",
        "print(\"Pseudo R Square suggests overall effect size (ideal value is close to 1)\")\n",
        "print(\"Model 1, MacFadden Pseudo R Square : \",r_square_1)\n",
        "base_model_aic_1 = result.aic.round(2)\n",
        "print(\"AIC compares Goodness of Fit, Lower AIC better is the Model\")\n",
        "print(\"Model 1, AIC  :\",base_model_aic_1)\n",
        "base_model_bic_1 = result.bic.round(2)\n",
        "print(\"BIC also work same as AIC, Lower BIC better is the Model\")\n",
        "print(\"Model 1, BIC :\",base_model_bic_1)"
      ],
      "execution_count": 9,
      "outputs": [
        {
          "output_type": "stream",
          "text": [
            "Optimization terminated successfully.\n",
            "         Current function value: 0.662428\n",
            "         Iterations: 3\n",
            "         Function evaluations: 5\n",
            "         Gradient evaluations: 5\n",
            "                        Results: Logit\n",
            "==============================================================\n",
            "Model:              Logit            Pseudo R-squared: 0.024  \n",
            "Dependent Variable: species          AIC:              94.7399\n",
            "Date:               2020-09-03 13:47 BIC:              96.9884\n",
            "No. Observations:   70               Log-Likelihood:   -46.370\n",
            "Df Model:           0                LL-Null:          -47.487\n",
            "Df Residuals:       69               LLR p-value:      nan    \n",
            "Converged:          1.0000           Scale:            1.0000 \n",
            "---------------------------------------------------------------\n",
            "               Coef.   Std.Err.    z     P>|z|   [0.025  0.975]\n",
            "---------------------------------------------------------------\n",
            "sepallengthcm  0.0902    0.0442  2.0399  0.0414  0.0035  0.1769\n",
            "==============================================================\n",
            "\n",
            "Model 1 Summary\n",
            "\n",
            "Iteration suggests how many loop model did to perform the fit\n",
            "Iterations : 3\n",
            "Pseudo R Square suggests overall effect size (ideal value is close to 1)\n",
            "Model 1, MacFadden Pseudo R Square :  0.02\n",
            "AIC compares Goodness of Fit, Lower AIC better is the Model\n",
            "Model 1, AIC  : 94.74\n",
            "BIC also work same as AIC, Lower BIC better is the Model\n",
            "Model 1, BIC : 96.99\n"
          ],
          "name": "stdout"
        }
      ]
    },
    {
      "cell_type": "code",
      "metadata": {
        "id": "QwGV0dfc5Tq0",
        "colab_type": "code",
        "colab": {
          "base_uri": "https://localhost:8080/",
          "height": 341
        },
        "outputId": "68c02f80-7818-4146-fff6-9e32faac1d22"
      },
      "source": [
        "# Model Prediction\n",
        "\n",
        "print(\"Sample Prediction of Model 1\")\n",
        "pred = result.predict(X_test)\n",
        "model_prediction = pd.DataFrame(pred.round(2),columns = ['Prediction'])\n",
        "model_prediction['temp'] = 'temp'\n",
        "model_prediction['Final_Class'] = np.where(model_prediction['Prediction'] > 0.5,1,0)\n",
        "print(model_prediction.head())\n",
        "temp = model_prediction.groupby('temp')['Final_Class'].apply(list)\n",
        "y_pred = temp.loc['temp']\n",
        "model_1_accuracy = accuracy_score(y_test,y_pred).round(2)\n",
        "print(\"\\nModel Performance\")\n",
        "print(\"Model 1, Accuracy :\",model_1_accuracy)\n",
        "model_1_precision = precision_score(y_test,y_pred).round(2)\n",
        "print(\"Model 1, Precision :\",model_1_precision)\n",
        "model_1_recall = recall_score(y_test,y_pred).round(2)\n",
        "print(\"Model 1, Recall :\",model_1_recall)\n",
        "model_1_fscore = f1_score(y_test,y_pred).round(2)\n",
        "print(\"Model 1, F1 Score :\",model_1_fscore)\n",
        "model_1_roc = roc_auc_score(y_test,y_pred)\n",
        "print(\"Model 1, AUC :\",model_1_roc)\n",
        "print(\"\\nConfusion Matrix, Model 1\")\n",
        "model_1_cm = confusion_matrix(y_test,y_pred)\n",
        "print(model_1_cm)"
      ],
      "execution_count": 10,
      "outputs": [
        {
          "output_type": "stream",
          "text": [
            "Sample Prediction of Model 1\n",
            "    Prediction  temp  Final_Class\n",
            "23        0.61  temp            1\n",
            "81        0.62  temp            1\n",
            "85        0.63  temp            1\n",
            "34        0.61  temp            1\n",
            "62        0.63  temp            1\n",
            "\n",
            "Model Performance\n",
            "Model 1, Accuracy : 0.3\n",
            "Model 1, Precision : 0.3\n",
            "Model 1, Recall : 1.0\n",
            "Model 1, F1 Score : 0.46\n",
            "Model 1, AUC : 0.5\n",
            "\n",
            "Confusion Matrix, Model 1\n",
            "[[ 0 21]\n",
            " [ 0  9]]\n"
          ],
          "name": "stdout"
        }
      ]
    },
    {
      "cell_type": "code",
      "metadata": {
        "id": "dhcskdb5BCiU",
        "colab_type": "code",
        "colab": {
          "base_uri": "https://localhost:8080/",
          "height": 611
        },
        "outputId": "6e4e010f-94d7-4dde-b80e-e3d71361852f"
      },
      "source": [
        "# Lets build model with all variables\n",
        "X_train, X_test, y_train, y_test = train_test_split(Independent_Variable_Base_Set,Dependent_Variable,test_size = 0.3,random_state = 21)\n",
        "logit_model = sm.Logit(y_train,X_train)\n",
        "result = logit_model.fit(method='bfgs')\n",
        "print(result.summary2())\n",
        "\n",
        "# Model Summary\n",
        "\n",
        "print(\"Model 2 Summary\\n\")\n",
        "print(\"Iteration suggests how many loop model did to perform the fit\")\n",
        "print(\"Iterations : 22\")\n",
        "r_square_2 = result.prsquared.round(2)\n",
        "print(\"Pseudo R Square suggests overall effect size (ideal value is close to 1)\")\n",
        "print(\"Model 2, MacFadden Pseudo R Square : \",r_square_2)\n",
        "base_model_aic_2 = result.aic.round(2)\n",
        "print(\"AIC compares Goodness of Fit, Lower AIC better is the Model\")\n",
        "print(\"Model 2, AIC  :\",base_model_aic_2)\n",
        "base_model_bic_2 = result.bic.round(2)\n",
        "print(\"BIC also work same as AIC, Lower BIC better is the Model\")\n",
        "print(\"Model 2, BIC :\",base_model_bic_2)"
      ],
      "execution_count": 11,
      "outputs": [
        {
          "output_type": "stream",
          "text": [
            "Optimization terminated successfully.\n",
            "         Current function value: 0.000001\n",
            "         Iterations: 22\n",
            "         Function evaluations: 24\n",
            "         Gradient evaluations: 24\n",
            "                          Results: Logit\n",
            "===================================================================\n",
            "Model:               Logit            Pseudo R-squared: 1.000      \n",
            "Dependent Variable:  species          AIC:              8.0002     \n",
            "Date:                2020-09-03 13:47 BIC:              16.9941    \n",
            "No. Observations:    70               Log-Likelihood:   -8.2981e-05\n",
            "Df Model:            3                LL-Null:          -47.487    \n",
            "Df Residuals:        66               LLR p-value:      1.8711e-20 \n",
            "Converged:           1.0000           Scale:            1.0000     \n",
            "-------------------------------------------------------------------\n",
            "               Coef.   Std.Err.    z    P>|z|    [0.025     0.975] \n",
            "-------------------------------------------------------------------\n",
            "sepallengthcm -2.6981 1485.3731 -0.0018 0.9986 -2913.9759 2908.5796\n",
            "sepalwidthcm  -8.8019 2565.4623 -0.0034 0.9973 -5037.0157 5019.4118\n",
            "petallengthcm 12.9770 1215.7072  0.0107 0.9915 -2369.7654 2395.7193\n",
            "petalwidthcm   5.7296 2155.0836  0.0027 0.9979 -4218.1565 4229.6158\n",
            "===================================================================\n",
            "\n",
            "Model 2 Summary\n",
            "\n",
            "Iteration suggests how many loop model did to perform the fit\n",
            "Iterations : 22\n",
            "Pseudo R Square suggests overall effect size (ideal value is close to 1)\n",
            "Model 2, MacFadden Pseudo R Square :  1.0\n",
            "AIC compares Goodness of Fit, Lower AIC better is the Model\n",
            "Model 2, AIC  : 8.0\n",
            "BIC also work same as AIC, Lower BIC better is the Model\n",
            "Model 2, BIC : 16.99\n"
          ],
          "name": "stdout"
        }
      ]
    },
    {
      "cell_type": "code",
      "metadata": {
        "id": "v67NCxRZGCXx",
        "colab_type": "code",
        "colab": {
          "base_uri": "https://localhost:8080/",
          "height": 341
        },
        "outputId": "201f036a-a282-4772-80ac-27f4c7d7cdfb"
      },
      "source": [
        "# Model Prediction\n",
        "\n",
        "print(\"Sample Prediction of Model 2\")\n",
        "pred = result.predict(X_test)\n",
        "model_prediction = pd.DataFrame(pred.round(2),columns = ['Prediction'])\n",
        "model_prediction['temp'] = 'temp'\n",
        "model_prediction['Final_Class'] = np.where(model_prediction['Prediction'] > 0.5,1,0)\n",
        "print(model_prediction.head())\n",
        "temp = model_prediction.groupby('temp')['Final_Class'].apply(list)\n",
        "y_pred = temp.loc['temp']\n",
        "model_2_accuracy = accuracy_score(y_test,y_pred).round(2)\n",
        "print(\"\\nModel Performance\")\n",
        "print(\"Model 2, Accuracy :\",model_2_accuracy)\n",
        "model_2_precision = precision_score(y_test,y_pred).round(2)\n",
        "print(\"Model 2, Precision :\",model_2_precision)\n",
        "model_2_recall = recall_score(y_test,y_pred).round(2)\n",
        "print(\"Model 2, Recall :\",model_2_recall)\n",
        "model_2_fscore = f1_score(y_test,y_pred).round(2)\n",
        "print(\"Model 2, F1 Score :\",model_2_fscore)\n",
        "model_2_roc = roc_auc_score(y_test,y_pred)\n",
        "print(\"Model 2, AUC :\",model_2_roc)\n",
        "print(\"\\nConfusion Matrix, Model 2\")\n",
        "model_2_cm = confusion_matrix(y_test,y_pred)\n",
        "print(model_2_cm)"
      ],
      "execution_count": 12,
      "outputs": [
        {
          "output_type": "stream",
          "text": [
            "Sample Prediction of Model 2\n",
            "    Prediction  temp  Final_Class\n",
            "23         0.0  temp            0\n",
            "81         1.0  temp            1\n",
            "85         1.0  temp            1\n",
            "34         0.0  temp            0\n",
            "62         1.0  temp            1\n",
            "\n",
            "Model Performance\n",
            "Model 2, Accuracy : 1.0\n",
            "Model 2, Precision : 1.0\n",
            "Model 2, Recall : 1.0\n",
            "Model 2, F1 Score : 1.0\n",
            "Model 2, AUC : 1.0\n",
            "\n",
            "Confusion Matrix, Model 2\n",
            "[[21  0]\n",
            " [ 0  9]]\n"
          ],
          "name": "stdout"
        }
      ]
    },
    {
      "cell_type": "code",
      "metadata": {
        "id": "ca71zTREHpbi",
        "colab_type": "code",
        "colab": {
          "base_uri": "https://localhost:8080/",
          "height": 665
        },
        "outputId": "ab156ecb-30ed-49e5-e153-6af3b13c2d00"
      },
      "source": [
        "# Model Comparision\n",
        "\n",
        "print(\"MODEL COMPARISION\\n\")\n",
        "print(\"Model 1, MacFadden Pseudo R Square : \",r_square_1)\n",
        "print(\"Model 2, MacFadden Pseudo R Square : \",r_square_2,\"\\n\")\n",
        "print(\"Model 1, AIC  :\",base_model_aic_1)\n",
        "print(\"Model 2, AIC  :\",base_model_aic_2,\"\\n\")\n",
        "print(\"Model 1, BIC :\",base_model_bic_1)\n",
        "print(\"Model 2, BIC :\",base_model_bic_2,\"\\n\")\n",
        "print(\"Model 1, Accuracy :\",model_1_accuracy)\n",
        "print(\"Model 2, Accuracy :\",model_2_accuracy,\"\\n\")\n",
        "print(\"Model 1, Precision :\",model_1_precision)\n",
        "print(\"Model 2, Precision :\",model_2_precision,\"\\n\")\n",
        "print(\"Model 1, Recall :\",model_1_recall)\n",
        "print(\"Model 2, Recall :\",model_2_recall,\"\\n\")\n",
        "print(\"Model 1, F1 Score :\",model_1_fscore)\n",
        "print(\"Model 2, F1 Score :\",model_2_fscore,\"\\n\")\n",
        "print(\"Model 1, AUC :\",model_1_roc)\n",
        "print(\"Model 2, AUC :\",model_2_roc)\n",
        "print(\"\\nConfusion Matrix\")\n",
        "print(\"Model 1\")\n",
        "print(model_1_cm)\n",
        "print(\"Model 2\")\n",
        "print(model_2_cm)\n",
        "print(\"\\n\")\n",
        "print(\"Model 1 is UNDERFIT and Model 2 is OVERFIT\")"
      ],
      "execution_count": 13,
      "outputs": [
        {
          "output_type": "stream",
          "text": [
            "MODEL COMPARISION\n",
            "\n",
            "Model 1, MacFadden Pseudo R Square :  0.02\n",
            "Model 2, MacFadden Pseudo R Square :  1.0 \n",
            "\n",
            "Model 1, AIC  : 94.74\n",
            "Model 2, AIC  : 8.0 \n",
            "\n",
            "Model 1, BIC : 96.99\n",
            "Model 2, BIC : 16.99 \n",
            "\n",
            "Model 1, Accuracy : 0.3\n",
            "Model 2, Accuracy : 1.0 \n",
            "\n",
            "Model 1, Precision : 0.3\n",
            "Model 2, Precision : 1.0 \n",
            "\n",
            "Model 1, Recall : 1.0\n",
            "Model 2, Recall : 1.0 \n",
            "\n",
            "Model 1, F1 Score : 0.46\n",
            "Model 2, F1 Score : 1.0 \n",
            "\n",
            "Model 1, AUC : 0.5\n",
            "Model 2, AUC : 1.0\n",
            "\n",
            "Confusion Matrix\n",
            "Model 1\n",
            "[[ 0 21]\n",
            " [ 0  9]]\n",
            "Model 2\n",
            "[[21  0]\n",
            " [ 0  9]]\n",
            "\n",
            "\n",
            "Model 1 is UNDERFIT and Model 2 is OVERFIT\n"
          ],
          "name": "stdout"
        }
      ]
    },
    {
      "cell_type": "code",
      "metadata": {
        "id": "VfLk8mGmIq1t",
        "colab_type": "code",
        "colab": {
          "base_uri": "https://localhost:8080/",
          "height": 193
        },
        "outputId": "38bcd5a9-141a-47ad-b9c5-48acc41ce85e"
      },
      "source": [
        "# So what combination of variable should we choose ?\n",
        "\n",
        "# Feature Importance (Filter out only important variable)\n",
        "Dependent_Variable_v1 = iris.species\n",
        "clf = VotingSelector(minimum_votes=2)\n",
        "clf.fit(Independent_Variable_Base_Set,Dependent_Variable_v1)\n",
        "clf.feature_importances_"
      ],
      "execution_count": 14,
      "outputs": [
        {
          "output_type": "execute_result",
          "data": {
            "text/html": [
              "<div>\n",
              "<style scoped>\n",
              "    .dataframe tbody tr th:only-of-type {\n",
              "        vertical-align: middle;\n",
              "    }\n",
              "\n",
              "    .dataframe tbody tr th {\n",
              "        vertical-align: top;\n",
              "    }\n",
              "\n",
              "    .dataframe thead th {\n",
              "        text-align: right;\n",
              "    }\n",
              "</style>\n",
              "<table border=\"1\" class=\"dataframe\">\n",
              "  <thead>\n",
              "    <tr style=\"text-align: right;\">\n",
              "      <th></th>\n",
              "      <th>Variable_Name</th>\n",
              "      <th>Information_Value</th>\n",
              "      <th>Random_Forest</th>\n",
              "      <th>Recursive_Feature_Elimination</th>\n",
              "      <th>Extra_Trees</th>\n",
              "      <th>Chi_Square</th>\n",
              "      <th>L_One</th>\n",
              "    </tr>\n",
              "  </thead>\n",
              "  <tbody>\n",
              "    <tr>\n",
              "      <th>0</th>\n",
              "      <td>sepalwidthcm</td>\n",
              "      <td>3.878655</td>\n",
              "      <td>0.021595</td>\n",
              "      <td>0.000000</td>\n",
              "      <td>0.075008</td>\n",
              "      <td>4.103769</td>\n",
              "      <td>-0.198215</td>\n",
              "    </tr>\n",
              "    <tr>\n",
              "      <th>1</th>\n",
              "      <td>sepallengthcm</td>\n",
              "      <td>3.313371</td>\n",
              "      <td>0.125734</td>\n",
              "      <td>0.000000</td>\n",
              "      <td>0.091418</td>\n",
              "      <td>6.838884</td>\n",
              "      <td>0.000000</td>\n",
              "    </tr>\n",
              "    <tr>\n",
              "      <th>2</th>\n",
              "      <td>petalwidthcm</td>\n",
              "      <td>0.134308</td>\n",
              "      <td>0.445263</td>\n",
              "      <td>1.069081</td>\n",
              "      <td>0.418108</td>\n",
              "      <td>25.004287</td>\n",
              "      <td>0.000000</td>\n",
              "    </tr>\n",
              "    <tr>\n",
              "      <th>3</th>\n",
              "      <td>petallengthcm</td>\n",
              "      <td>0.045539</td>\n",
              "      <td>0.407408</td>\n",
              "      <td>2.582609</td>\n",
              "      <td>0.415465</td>\n",
              "      <td>25.651053</td>\n",
              "      <td>0.250777</td>\n",
              "    </tr>\n",
              "  </tbody>\n",
              "</table>\n",
              "</div>"
            ],
            "text/plain": [
              "   Variable_Name  Information_Value  ...  Chi_Square     L_One\n",
              "0   sepalwidthcm           3.878655  ...    4.103769 -0.198215\n",
              "1  sepallengthcm           3.313371  ...    6.838884  0.000000\n",
              "2   petalwidthcm           0.134308  ...   25.004287  0.000000\n",
              "3  petallengthcm           0.045539  ...   25.651053  0.250777\n",
              "\n",
              "[4 rows x 7 columns]"
            ]
          },
          "metadata": {
            "tags": []
          },
          "execution_count": 14
        }
      ]
    },
    {
      "cell_type": "code",
      "metadata": {
        "id": "rVAveNduKIGH",
        "colab_type": "code",
        "colab": {
          "base_uri": "https://localhost:8080/",
          "height": 193
        },
        "outputId": "81814a13-d078-42dc-e8e2-20f99f5eac50"
      },
      "source": [
        "# Lets scale and check the voting\n",
        "clf.feature_votes_\n",
        "\n",
        "# Inference : So based on votes we can select the variables (higher votes, important variables)"
      ],
      "execution_count": 15,
      "outputs": [
        {
          "output_type": "execute_result",
          "data": {
            "text/html": [
              "<div>\n",
              "<style scoped>\n",
              "    .dataframe tbody tr th:only-of-type {\n",
              "        vertical-align: middle;\n",
              "    }\n",
              "\n",
              "    .dataframe tbody tr th {\n",
              "        vertical-align: top;\n",
              "    }\n",
              "\n",
              "    .dataframe thead th {\n",
              "        text-align: right;\n",
              "    }\n",
              "</style>\n",
              "<table border=\"1\" class=\"dataframe\">\n",
              "  <thead>\n",
              "    <tr style=\"text-align: right;\">\n",
              "      <th></th>\n",
              "      <th>Variable_Name</th>\n",
              "      <th>Information_Value</th>\n",
              "      <th>Random_Forest</th>\n",
              "      <th>Recursive_Feature_Elimination</th>\n",
              "      <th>Extra_Trees</th>\n",
              "      <th>Chi_Square</th>\n",
              "      <th>L_One</th>\n",
              "      <th>Votes</th>\n",
              "    </tr>\n",
              "  </thead>\n",
              "  <tbody>\n",
              "    <tr>\n",
              "      <th>3</th>\n",
              "      <td>petallengthcm</td>\n",
              "      <td>0</td>\n",
              "      <td>1</td>\n",
              "      <td>1</td>\n",
              "      <td>1</td>\n",
              "      <td>1</td>\n",
              "      <td>1</td>\n",
              "      <td>5</td>\n",
              "    </tr>\n",
              "    <tr>\n",
              "      <th>2</th>\n",
              "      <td>petalwidthcm</td>\n",
              "      <td>0</td>\n",
              "      <td>1</td>\n",
              "      <td>1</td>\n",
              "      <td>1</td>\n",
              "      <td>1</td>\n",
              "      <td>0</td>\n",
              "      <td>4</td>\n",
              "    </tr>\n",
              "    <tr>\n",
              "      <th>0</th>\n",
              "      <td>sepalwidthcm</td>\n",
              "      <td>1</td>\n",
              "      <td>0</td>\n",
              "      <td>0</td>\n",
              "      <td>0</td>\n",
              "      <td>0</td>\n",
              "      <td>1</td>\n",
              "      <td>2</td>\n",
              "    </tr>\n",
              "    <tr>\n",
              "      <th>1</th>\n",
              "      <td>sepallengthcm</td>\n",
              "      <td>1</td>\n",
              "      <td>0</td>\n",
              "      <td>0</td>\n",
              "      <td>0</td>\n",
              "      <td>0</td>\n",
              "      <td>0</td>\n",
              "      <td>1</td>\n",
              "    </tr>\n",
              "  </tbody>\n",
              "</table>\n",
              "</div>"
            ],
            "text/plain": [
              "   Variable_Name  Information_Value  Random_Forest  ...  Chi_Square  L_One  Votes\n",
              "3  petallengthcm                  0              1  ...           1      1      5\n",
              "2   petalwidthcm                  0              1  ...           1      0      4\n",
              "0   sepalwidthcm                  1              0  ...           0      1      2\n",
              "1  sepallengthcm                  1              0  ...           0      0      1\n",
              "\n",
              "[4 rows x 8 columns]"
            ]
          },
          "metadata": {
            "tags": []
          },
          "execution_count": 15
        }
      ]
    },
    {
      "cell_type": "code",
      "metadata": {
        "id": "gsCdzgCOKt3q",
        "colab_type": "code",
        "colab": {
          "base_uri": "https://localhost:8080/",
          "height": 575
        },
        "outputId": "7dea2060-6d81-4483-d134-888c68ce51ca"
      },
      "source": [
        "Independent_Variable_Set_v2 = Independent_Variable_Base_Set[['petallengthcm','petalwidthcm']]\n",
        "X_train, X_test, y_train, y_test = train_test_split(Independent_Variable_Set_v2,Dependent_Variable,test_size = 0.3,random_state = 21)\n",
        "logit_model = sm.Logit(y_train,X_train)\n",
        "result = logit_model.fit(method='bfgs')\n",
        "print(result.summary2())\n",
        "\n",
        "# Model Summary\n",
        "\n",
        "print(\"Model 3 Summary\\n\")\n",
        "print(\"Iteration suggests how many loop model did to perform the fit\")\n",
        "print(\"Iterations : 18\")\n",
        "r_square_3 = result.prsquared.round(2)\n",
        "print(\"Pseudo R Square suggests overall effect size (ideal value is close to 1)\")\n",
        "print(\"Model 3, MacFadden Pseudo R Square : \",r_square_3)\n",
        "base_model_aic_3 = result.aic.round(2)\n",
        "print(\"AIC compares Goodness of Fit, Lower AIC better is the Model\")\n",
        "print(\"Model 3, AIC  :\",base_model_aic_3)\n",
        "base_model_bic_3 = result.bic.round(2)\n",
        "print(\"BIC also work same as AIC, Lower BIC better is the Model\")\n",
        "print(\"Model 3, BIC :\",base_model_bic_3)"
      ],
      "execution_count": 16,
      "outputs": [
        {
          "output_type": "stream",
          "text": [
            "Optimization terminated successfully.\n",
            "         Current function value: 0.159459\n",
            "         Iterations: 18\n",
            "         Function evaluations: 21\n",
            "         Gradient evaluations: 21\n",
            "                         Results: Logit\n",
            "=================================================================\n",
            "Model:              Logit            Pseudo R-squared: 0.765     \n",
            "Dependent Variable: species          AIC:              26.3242   \n",
            "Date:               2020-09-03 13:47 BIC:              30.8212   \n",
            "No. Observations:   70               Log-Likelihood:   -11.162   \n",
            "Df Model:           1                LL-Null:          -47.487   \n",
            "Df Residuals:       68               LLR p-value:      1.5488e-17\n",
            "Converged:          1.0000           Scale:            1.0000    \n",
            "-----------------------------------------------------------------\n",
            "                   Coef.  Std.Err.    z    P>|z|   [0.025  0.975]\n",
            "-----------------------------------------------------------------\n",
            "petallengthcm     -5.3587   1.5115 -3.5454 0.0004 -8.3211 -2.3963\n",
            "petalwidthcm      21.3329   5.7920  3.6831 0.0002  9.9807 32.6850\n",
            "=================================================================\n",
            "\n",
            "Model 3 Summary\n",
            "\n",
            "Iteration suggests how many loop model did to perform the fit\n",
            "Iterations : 18\n",
            "Pseudo R Square suggests overall effect size (ideal value is close to 1)\n",
            "Model 3, MacFadden Pseudo R Square :  0.76\n",
            "AIC compares Goodness of Fit, Lower AIC better is the Model\n",
            "Model 3, AIC  : 26.32\n",
            "BIC also work same as AIC, Lower BIC better is the Model\n",
            "Model 3, BIC : 30.82\n"
          ],
          "name": "stdout"
        }
      ]
    },
    {
      "cell_type": "code",
      "metadata": {
        "id": "nX_Q2wAVLKy7",
        "colab_type": "code",
        "colab": {
          "base_uri": "https://localhost:8080/",
          "height": 341
        },
        "outputId": "ab9c5932-9854-4dc0-d68a-351990cf6c12"
      },
      "source": [
        "# Model Prediction\n",
        "\n",
        "print(\"Sample Prediction of Model 3\")\n",
        "pred = result.predict(X_test)\n",
        "model_prediction = pd.DataFrame(pred.round(2),columns = ['Prediction'])\n",
        "model_prediction['temp'] = 'temp'\n",
        "model_prediction['Final_Class'] = np.where(model_prediction['Prediction'] > 0.5,1,0)\n",
        "print(model_prediction.head())\n",
        "temp = model_prediction.groupby('temp')['Final_Class'].apply(list)\n",
        "y_pred = temp.loc['temp']\n",
        "model_3_accuracy = accuracy_score(y_test,y_pred).round(2)\n",
        "print(\"\\nModel Performance\")\n",
        "print(\"Model 3, Accuracy :\",model_3_accuracy)\n",
        "model_3_precision = precision_score(y_test,y_pred).round(2)\n",
        "print(\"Model 3, Precision :\",model_3_precision)\n",
        "model_3_recall = recall_score(y_test,y_pred).round(2)\n",
        "print(\"Model 3, Recall :\",model_3_recall)\n",
        "model_3_fscore = f1_score(y_test,y_pred).round(2)\n",
        "print(\"Model 3, F1 Score :\",model_3_fscore)\n",
        "model_3_roc = roc_auc_score(y_test,y_pred).round(2)\n",
        "print(\"Model 3, AUC :\",model_3_roc)\n",
        "print(\"\\nConfusion Matrix, Model 3\")\n",
        "model_3_cm = confusion_matrix(y_test,y_pred)\n",
        "print(model_3_cm)"
      ],
      "execution_count": 17,
      "outputs": [
        {
          "output_type": "stream",
          "text": [
            "Sample Prediction of Model 3\n",
            "    Prediction  temp  Final_Class\n",
            "23        0.83  temp            1\n",
            "81        0.82  temp            1\n",
            "85        1.00  temp            1\n",
            "34        0.02  temp            0\n",
            "62        0.47  temp            0\n",
            "\n",
            "Model Performance\n",
            "Model 3, Accuracy : 0.87\n",
            "Model 3, Precision : 0.73\n",
            "Model 3, Recall : 0.89\n",
            "Model 3, F1 Score : 0.8\n",
            "Model 3, AUC : 0.87\n",
            "\n",
            "Confusion Matrix, Model 3\n",
            "[[18  3]\n",
            " [ 1  8]]\n"
          ],
          "name": "stdout"
        }
      ]
    },
    {
      "cell_type": "code",
      "metadata": {
        "id": "zWN4mGu9Lkhm",
        "colab_type": "code",
        "colab": {
          "base_uri": "https://localhost:8080/",
          "height": 845
        },
        "outputId": "813cd5da-ec10-4aa3-e5a9-34fe255b33f1"
      },
      "source": [
        "# Model Comparision\n",
        "print(\"MODEL COMPARISION\\n\")\n",
        "print(\"Model 1, MacFadden Pseudo R Square : \",r_square_1)\n",
        "print(\"Model 2, MacFadden Pseudo R Square : \",r_square_2)\n",
        "print(\"Model 3, MacFadden Pseudo R Square : \",r_square_3,\"\\n\")\n",
        "print(\"Model 1, AIC  :\",base_model_aic_1)\n",
        "print(\"Model 2, AIC  :\",base_model_aic_2)\n",
        "print(\"Model 3, AIC  :\",base_model_aic_3,\"\\n\")\n",
        "print(\"Model 1, BIC :\",base_model_bic_1)\n",
        "print(\"Model 2, BIC :\",base_model_bic_2)\n",
        "print(\"Model 3, BIC :\",base_model_bic_3)\n",
        "print(\"Model 1, Accuracy :\",model_1_accuracy)\n",
        "print(\"Model 2, Accuracy :\",model_2_accuracy)\n",
        "print(\"Model 3, Accuracy :\",model_3_accuracy,\"\\n\")\n",
        "print(\"Model 1, Precision :\",model_1_precision)\n",
        "print(\"Model 2, Precision :\",model_2_precision)\n",
        "print(\"Model 3, Precision :\",model_3_precision,\"\\n\")\n",
        "print(\"Model 1, Recall :\",model_1_recall)\n",
        "print(\"Model 2, Recall :\",model_2_recall)\n",
        "print(\"Model 3, Recall :\",model_3_recall,\"\\n\")\n",
        "print(\"Model 1, F1 Score :\",model_1_fscore)\n",
        "print(\"Model 2, F1 Score :\",model_2_fscore)\n",
        "print(\"Model 3, F1 Score :\",model_3_fscore,\"\\n\")\n",
        "print(\"Model 1, AUC :\",model_1_roc)\n",
        "print(\"Model 2, AUC :\",model_2_roc)\n",
        "print(\"Model 3, AUC :\",model_3_roc)\n",
        "print(\"\\nConfusion Matrix\")\n",
        "print(\"Model 1\")\n",
        "print(model_1_cm)\n",
        "print(\"Model 2\")\n",
        "print(model_2_cm)\n",
        "print(\"Model 3\")\n",
        "print(model_3_cm)\n",
        "print(\"\\n\")\n",
        "print(\"CONCLUSION : Model 1 is UNDERFIT, Model 2 is OVERFIT but Model 3 is GOOD FIT\")"
      ],
      "execution_count": 18,
      "outputs": [
        {
          "output_type": "stream",
          "text": [
            "MODEL COMPARISION\n",
            "\n",
            "Model 1, MacFadden Pseudo R Square :  0.02\n",
            "Model 2, MacFadden Pseudo R Square :  1.0\n",
            "Model 3, MacFadden Pseudo R Square :  0.76 \n",
            "\n",
            "Model 1, AIC  : 94.74\n",
            "Model 2, AIC  : 8.0\n",
            "Model 3, AIC  : 26.32 \n",
            "\n",
            "Model 1, BIC : 96.99\n",
            "Model 2, BIC : 16.99\n",
            "Model 3, BIC : 30.82\n",
            "Model 1, Accuracy : 0.3\n",
            "Model 2, Accuracy : 1.0\n",
            "Model 3, Accuracy : 0.87 \n",
            "\n",
            "Model 1, Precision : 0.3\n",
            "Model 2, Precision : 1.0\n",
            "Model 3, Precision : 0.73 \n",
            "\n",
            "Model 1, Recall : 1.0\n",
            "Model 2, Recall : 1.0\n",
            "Model 3, Recall : 0.89 \n",
            "\n",
            "Model 1, F1 Score : 0.46\n",
            "Model 2, F1 Score : 1.0\n",
            "Model 3, F1 Score : 0.8 \n",
            "\n",
            "Model 1, AUC : 0.5\n",
            "Model 2, AUC : 1.0\n",
            "Model 3, AUC : 0.87\n",
            "\n",
            "Confusion Matrix\n",
            "Model 1\n",
            "[[ 0 21]\n",
            " [ 0  9]]\n",
            "Model 2\n",
            "[[21  0]\n",
            " [ 0  9]]\n",
            "Model 3\n",
            "[[18  3]\n",
            " [ 1  8]]\n",
            "\n",
            "\n",
            "CONCLUSION : Model 1 is UNDERFIT, Model 2 is OVERFIT but Model 3 is GOOD FIT\n"
          ],
          "name": "stdout"
        }
      ]
    }
  ]
}