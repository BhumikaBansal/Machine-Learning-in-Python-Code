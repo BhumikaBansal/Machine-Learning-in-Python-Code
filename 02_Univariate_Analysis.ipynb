{
  "nbformat": 4,
  "nbformat_minor": 0,
  "metadata": {
    "colab": {
      "name": "02 Univariate Analysis.ipynb",
      "provenance": [],
      "authorship_tag": "ABX9TyODOBBynZMLmHzJ7unAlfb2",
      "include_colab_link": true
    },
    "kernelspec": {
      "name": "python3",
      "display_name": "Python 3"
    }
  },
  "cells": [
    {
      "cell_type": "markdown",
      "metadata": {
        "id": "view-in-github",
        "colab_type": "text"
      },
      "source": [
        "<a href=\"https://colab.research.google.com/github/sandipanpaul21/ML-Code-in-Python/blob/master/02_Univariate_Analysis.ipynb\" target=\"_parent\"><img src=\"https://colab.research.google.com/assets/colab-badge.svg\" alt=\"Open In Colab\"/></a>"
      ]
    },
    {
      "cell_type": "code",
      "metadata": {
        "id": "uxS3VK5Z6icu",
        "colab_type": "code",
        "colab": {}
      },
      "source": [
        "# Uni Means ONE. So Univariate Analysis is One Variable Analysis\n",
        "# Mainly in this part, we will deal with Numerical Measures. So in total we have 13 Numerical Measures\n",
        "\n",
        "# 1. Mean\n",
        "  # Measure of Central Tendency\n",
        "  # (Sum of data values)/(Data Count) \n",
        "  # AFFECTED BY OUTLIERS\n",
        "\n",
        "# 2. Median\n",
        "  # Also a Measure of Central Tendency\n",
        "  # It is the observation/value at the middle when the data is sorted in ascending order\n",
        "  # MIGHT OR MIGHT NOT AFFECT BY OUTLIERS\n",
        "\n",
        "# 3. Mode\n",
        "  # Most frequently observed variable in the column\n",
        "\n",
        "# 4. Quartile\n",
        "  # First Data is sorted in Ascending Order\n",
        "  # First Quartile = Lower Quartile = 25% of the data\n",
        "  # Second Quartile = Median = 50% of the data\n",
        "  # Third Quartile = Upper Quartile = 75% of the data\n",
        "\n",
        "# 5. Percentile\n",
        "  # Nth percentile of an observation variable is the value that cuts off the first n percent of the data \n",
        "  # values when it is sorted in ascending order\n",
        "\n",
        "# 6. Range\n",
        "  # Measures how far apart the entire data spread is in terms of values \n",
        "  # Range = (Largest Value - Smallest Value)\n",
        "  # AFFECTED BY OUTLIERS\n",
        "\n",
        "# 7. Inter Quartile Range\n",
        "  # IQR = (Upper Quartile - Lower Quartile) = (75% of Data - 25% of Data)\n",
        "\n",
        "# 8. Box Plot\n",
        "  # Graphical representation of three quantiles, smallest and largest value\n",
        "\n",
        "# 9. Standard Deviation\n",
        "  # Square root of the Variance\n",
        "\n",
        "# 10. Variance\n",
        "  # Numerical Measure of how the data value is dispersed around the mean\n",
        "  # AFFECTED BY OUTLIERS\n",
        "\n",
        "# 11. Covariance\n",
        "  # To check linearity between two variables. It can be +ve or -ve\n",
        "\n",
        "# 12. Correlation Coefficient\n",
        "  # Strength of relationship betweeb two variables\n",
        "  # Pearson Correlation Coefficient - Works on linear relationship\n",
        "  # Spearman Correlation Coefficient - Works on both linear & non linear relationship\n",
        "\n",
        "# 13. Skewness\n",
        "  # Spreadness of the Distribution\n",
        "\n",
        "# 14. Kurtosis\n",
        "  # Peakness of the Distribution"
      ],
      "execution_count": 1,
      "outputs": []
    },
    {
      "cell_type": "code",
      "metadata": {
        "id": "5PHSawDp7KnM",
        "colab_type": "code",
        "colab": {}
      },
      "source": [
        "# Libraries \n",
        "from sklearn import datasets\n",
        "import pandas as pd"
      ],
      "execution_count": 2,
      "outputs": []
    },
    {
      "cell_type": "code",
      "metadata": {
        "id": "5TnWNSFE68OV",
        "colab_type": "code",
        "colab": {}
      },
      "source": [
        "# Load the Datasets (For indepth analysis please refer to Part O1 All About Datasets)\n",
        "\n",
        "# Iris Dataset for Classification\n",
        "# Load Dataset\n",
        "iris = datasets.load_iris()\n",
        "# Convert to DataFrame\n",
        "iris_pd = pd.DataFrame(iris.data)\n",
        "# Feature Name\n",
        "iris_pd.columns = iris.feature_names\n",
        "# Target Variable\n",
        "iris_pd[\"Class\"] = iris.target\n",
        "# iris_pd is the final dataset\n",
        "\n",
        "# Boston Dataset for Regression\n",
        "boston = datasets.load_boston()\n",
        "boston_pd = pd.DataFrame(boston.data)\n",
        "boston_pd.columns = boston.feature_names\n",
        "boston_pd[\"MEDV\"] = boston.target"
      ],
      "execution_count": 3,
      "outputs": []
    },
    {
      "cell_type": "code",
      "metadata": {
        "id": "VNAs-lFc766y",
        "colab_type": "code",
        "colab": {
          "base_uri": "https://localhost:8080/",
          "height": 125
        },
        "outputId": "c2e45af4-6ddb-419c-a448-33ddc10b45d1"
      },
      "source": [
        "# 1) MEAN\n",
        "# Column Wise Mean, axis = 0\n",
        "# Row Wise Mean, axis = 1\n",
        "\n",
        "# By default, axis = 0\n",
        "iris_pd.mean()\n",
        "# Inference, first column \"sepal length (cm)\" mean is 5.8, second column \"sepal length (cm)\" mean is 3.05"
      ],
      "execution_count": 4,
      "outputs": [
        {
          "output_type": "execute_result",
          "data": {
            "text/plain": [
              "sepal length (cm)    5.843333\n",
              "sepal width (cm)     3.057333\n",
              "petal length (cm)    3.758000\n",
              "petal width (cm)     1.199333\n",
              "Class                1.000000\n",
              "dtype: float64"
            ]
          },
          "metadata": {
            "tags": []
          },
          "execution_count": 4
        }
      ]
    },
    {
      "cell_type": "code",
      "metadata": {
        "id": "f44yecCqNMsi",
        "colab_type": "code",
        "colab": {
          "base_uri": "https://localhost:8080/",
          "height": 125
        },
        "outputId": "dc7354da-8e8c-4745-f20e-73d8373c94a4"
      },
      "source": [
        "# if we mention also axis = 0, it will give same output\n",
        "iris_pd.mean(axis = 0)"
      ],
      "execution_count": 5,
      "outputs": [
        {
          "output_type": "execute_result",
          "data": {
            "text/plain": [
              "sepal length (cm)    5.843333\n",
              "sepal width (cm)     3.057333\n",
              "petal length (cm)    3.758000\n",
              "petal width (cm)     1.199333\n",
              "Class                1.000000\n",
              "dtype: float64"
            ]
          },
          "metadata": {
            "tags": []
          },
          "execution_count": 5
        }
      ]
    },
    {
      "cell_type": "code",
      "metadata": {
        "id": "4skyZqZcNe2X",
        "colab_type": "code",
        "colab": {
          "base_uri": "https://localhost:8080/",
          "height": 233
        },
        "outputId": "98315ead-89ec-450e-f9ec-64924df8f401"
      },
      "source": [
        "# If we want to see row wise Mean i.e, total rows in IRIS dataset is 150 (0 - 149)\n",
        "iris_pd.mean(axis = 1)"
      ],
      "execution_count": 6,
      "outputs": [
        {
          "output_type": "execute_result",
          "data": {
            "text/plain": [
              "0      2.04\n",
              "1      1.90\n",
              "2      1.88\n",
              "3      1.88\n",
              "4      2.04\n",
              "       ... \n",
              "145    3.84\n",
              "146    3.54\n",
              "147    3.74\n",
              "148    3.86\n",
              "149    3.56\n",
              "Length: 150, dtype: float64"
            ]
          },
          "metadata": {
            "tags": []
          },
          "execution_count": 6
        }
      ]
    },
    {
      "cell_type": "code",
      "metadata": {
        "id": "u8kt6UQ7LYqd",
        "colab_type": "code",
        "colab": {
          "base_uri": "https://localhost:8080/",
          "height": 143
        },
        "outputId": "a5eaf002-4943-485e-dabc-34caa13c7267"
      },
      "source": [
        "# Other way to write is \n",
        "print(\"MEAN of IRIS Dataset are as follow \\n\",iris_pd.mean())"
      ],
      "execution_count": 7,
      "outputs": [
        {
          "output_type": "stream",
          "text": [
            "MEAN of IRIS Dataset are as follow \n",
            " sepal length (cm)    5.843333\n",
            "sepal width (cm)     3.057333\n",
            "petal length (cm)    3.758000\n",
            "petal width (cm)     1.199333\n",
            "Class                1.000000\n",
            "dtype: float64\n"
          ],
          "name": "stdout"
        }
      ]
    },
    {
      "cell_type": "code",
      "metadata": {
        "id": "-Ui5P9tkMK9c",
        "colab_type": "code",
        "colab": {
          "base_uri": "https://localhost:8080/",
          "height": 125
        },
        "outputId": "21017243-57d3-4ec2-c13c-9be1e67a77d1"
      },
      "source": [
        "# 2) MEDIAN\n",
        "# Here also by default axis = 0 means Column Wise Computation\n",
        "# axis = 1 mean Row Wise Computation\n",
        "iris_pd.median()"
      ],
      "execution_count": 8,
      "outputs": [
        {
          "output_type": "execute_result",
          "data": {
            "text/plain": [
              "sepal length (cm)    5.80\n",
              "sepal width (cm)     3.00\n",
              "petal length (cm)    4.35\n",
              "petal width (cm)     1.30\n",
              "Class                1.00\n",
              "dtype: float64"
            ]
          },
          "metadata": {
            "tags": []
          },
          "execution_count": 8
        }
      ]
    },
    {
      "cell_type": "code",
      "metadata": {
        "id": "MJau1AzLMdn5",
        "colab_type": "code",
        "colab": {
          "base_uri": "https://localhost:8080/",
          "height": 111
        },
        "outputId": "54ad6beb-944c-429f-9d9c-b2338ab2bb0f"
      },
      "source": [
        "# If we want to observe both mean and median at a same time\n",
        "pd.DataFrame([iris_pd.mean(),iris_pd.median()],index= [\"MEAN\",\"MEDIAN\"])"
      ],
      "execution_count": 9,
      "outputs": [
        {
          "output_type": "execute_result",
          "data": {
            "text/html": [
              "<div>\n",
              "<style scoped>\n",
              "    .dataframe tbody tr th:only-of-type {\n",
              "        vertical-align: middle;\n",
              "    }\n",
              "\n",
              "    .dataframe tbody tr th {\n",
              "        vertical-align: top;\n",
              "    }\n",
              "\n",
              "    .dataframe thead th {\n",
              "        text-align: right;\n",
              "    }\n",
              "</style>\n",
              "<table border=\"1\" class=\"dataframe\">\n",
              "  <thead>\n",
              "    <tr style=\"text-align: right;\">\n",
              "      <th></th>\n",
              "      <th>sepal length (cm)</th>\n",
              "      <th>sepal width (cm)</th>\n",
              "      <th>petal length (cm)</th>\n",
              "      <th>petal width (cm)</th>\n",
              "      <th>Class</th>\n",
              "    </tr>\n",
              "  </thead>\n",
              "  <tbody>\n",
              "    <tr>\n",
              "      <th>MEAN</th>\n",
              "      <td>5.843333</td>\n",
              "      <td>3.057333</td>\n",
              "      <td>3.758</td>\n",
              "      <td>1.199333</td>\n",
              "      <td>1.0</td>\n",
              "    </tr>\n",
              "    <tr>\n",
              "      <th>MEDIAN</th>\n",
              "      <td>5.800000</td>\n",
              "      <td>3.000000</td>\n",
              "      <td>4.350</td>\n",
              "      <td>1.300000</td>\n",
              "      <td>1.0</td>\n",
              "    </tr>\n",
              "  </tbody>\n",
              "</table>\n",
              "</div>"
            ],
            "text/plain": [
              "        sepal length (cm)  sepal width (cm)  ...  petal width (cm)  Class\n",
              "MEAN             5.843333          3.057333  ...          1.199333    1.0\n",
              "MEDIAN           5.800000          3.000000  ...          1.300000    1.0\n",
              "\n",
              "[2 rows x 5 columns]"
            ]
          },
          "metadata": {
            "tags": []
          },
          "execution_count": 9
        }
      ]
    },
    {
      "cell_type": "code",
      "metadata": {
        "id": "Ob-oo3LZNIJ1",
        "colab_type": "code",
        "colab": {
          "base_uri": "https://localhost:8080/",
          "height": 142
        },
        "outputId": "c71e7205-fa43-4d2d-8d50-bbf5581cf68d"
      },
      "source": [
        "# 3) MODE \n",
        "iris_pd.mode()\n",
        "# Below Output is not interpreatble because all are in Numeric Value\n",
        "# 0 rank means most frequent, i.e, in column Class \"0\" is most frequent\n",
        "# 1 rank means second most frequent, i.e, in column Class \"1\" is second most frequent and so on  "
      ],
      "execution_count": 10,
      "outputs": [
        {
          "output_type": "execute_result",
          "data": {
            "text/html": [
              "<div>\n",
              "<style scoped>\n",
              "    .dataframe tbody tr th:only-of-type {\n",
              "        vertical-align: middle;\n",
              "    }\n",
              "\n",
              "    .dataframe tbody tr th {\n",
              "        vertical-align: top;\n",
              "    }\n",
              "\n",
              "    .dataframe thead th {\n",
              "        text-align: right;\n",
              "    }\n",
              "</style>\n",
              "<table border=\"1\" class=\"dataframe\">\n",
              "  <thead>\n",
              "    <tr style=\"text-align: right;\">\n",
              "      <th></th>\n",
              "      <th>sepal length (cm)</th>\n",
              "      <th>sepal width (cm)</th>\n",
              "      <th>petal length (cm)</th>\n",
              "      <th>petal width (cm)</th>\n",
              "      <th>Class</th>\n",
              "    </tr>\n",
              "  </thead>\n",
              "  <tbody>\n",
              "    <tr>\n",
              "      <th>0</th>\n",
              "      <td>5.0</td>\n",
              "      <td>3.0</td>\n",
              "      <td>1.4</td>\n",
              "      <td>0.2</td>\n",
              "      <td>0</td>\n",
              "    </tr>\n",
              "    <tr>\n",
              "      <th>1</th>\n",
              "      <td>NaN</td>\n",
              "      <td>NaN</td>\n",
              "      <td>1.5</td>\n",
              "      <td>NaN</td>\n",
              "      <td>1</td>\n",
              "    </tr>\n",
              "    <tr>\n",
              "      <th>2</th>\n",
              "      <td>NaN</td>\n",
              "      <td>NaN</td>\n",
              "      <td>NaN</td>\n",
              "      <td>NaN</td>\n",
              "      <td>2</td>\n",
              "    </tr>\n",
              "  </tbody>\n",
              "</table>\n",
              "</div>"
            ],
            "text/plain": [
              "   sepal length (cm)  sepal width (cm)  ...  petal width (cm)  Class\n",
              "0                5.0               3.0  ...               0.2      0\n",
              "1                NaN               NaN  ...               NaN      1\n",
              "2                NaN               NaN  ...               NaN      2\n",
              "\n",
              "[3 rows x 5 columns]"
            ]
          },
          "metadata": {
            "tags": []
          },
          "execution_count": 10
        }
      ]
    },
    {
      "cell_type": "code",
      "metadata": {
        "id": "U9Xs8Hx4Qe3v",
        "colab_type": "code",
        "colab": {
          "base_uri": "https://localhost:8080/",
          "height": 287
        },
        "outputId": "a8536259-eaf5-4dd1-b26b-4ffbcc6e6bbf"
      },
      "source": [
        "# First Convert Numerical Column to Categorical Column\n",
        "print(\"Previous Data Type\")\n",
        "print(iris_pd.dtypes)\n",
        "# Conveting only one column i.e, \"Class\" Column\n",
        "iris_pd['Class'] = iris_pd['Class'].astype('category')\n",
        "print(\"\\nConverted Data Type\")\n",
        "print(iris_pd.dtypes)"
      ],
      "execution_count": 11,
      "outputs": [
        {
          "output_type": "stream",
          "text": [
            "Previous Data Type\n",
            "sepal length (cm)    float64\n",
            "sepal width (cm)     float64\n",
            "petal length (cm)    float64\n",
            "petal width (cm)     float64\n",
            "Class                  int64\n",
            "dtype: object\n",
            "\n",
            "Converted Data Type\n",
            "sepal length (cm)     float64\n",
            "sepal width (cm)      float64\n",
            "petal length (cm)     float64\n",
            "petal width (cm)      float64\n",
            "Class                category\n",
            "dtype: object\n"
          ],
          "name": "stdout"
        }
      ]
    },
    {
      "cell_type": "code",
      "metadata": {
        "id": "k63WG_IDRGXw",
        "colab_type": "code",
        "colab": {
          "base_uri": "https://localhost:8080/",
          "height": 89
        },
        "outputId": "e713595b-ac7b-48f9-8071-c2041d84e3aa"
      },
      "source": [
        "# To check the count also for each category i.e, Frequency Count\n",
        "iris_pd.Class.value_counts()"
      ],
      "execution_count": 12,
      "outputs": [
        {
          "output_type": "execute_result",
          "data": {
            "text/plain": [
              "2    50\n",
              "1    50\n",
              "0    50\n",
              "Name: Class, dtype: int64"
            ]
          },
          "metadata": {
            "tags": []
          },
          "execution_count": 12
        }
      ]
    },
    {
      "cell_type": "code",
      "metadata": {
        "id": "fNzWGnrQRfoO",
        "colab_type": "code",
        "colab": {}
      },
      "source": [
        ""
      ],
      "execution_count": 12,
      "outputs": []
    }
  ]
}