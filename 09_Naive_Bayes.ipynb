{
  "nbformat": 4,
  "nbformat_minor": 0,
  "metadata": {
    "colab": {
      "name": "09 Naive Bayes.ipynb",
      "provenance": [],
      "authorship_tag": "ABX9TyNLzRwNb69fT2M4qKMwvuWZ",
      "include_colab_link": true
    },
    "kernelspec": {
      "name": "python3",
      "display_name": "Python 3"
    }
  },
  "cells": [
    {
      "cell_type": "markdown",
      "metadata": {
        "id": "view-in-github",
        "colab_type": "text"
      },
      "source": [
        "<a href=\"https://colab.research.google.com/github/sandipanpaul21/ML-Code-in-Python/blob/master/09_Naive_Bayes.ipynb\" target=\"_parent\"><img src=\"https://colab.research.google.com/assets/colab-badge.svg\" alt=\"Open In Colab\"/></a>"
      ]
    },
    {
      "cell_type": "code",
      "metadata": {
        "id": "cdIDWT9HLD00",
        "colab_type": "code",
        "colab": {}
      },
      "source": [
        "# Naive Bayes \n",
        "\n",
        "# Introduction\n",
        "# Naive Bayes is the most straightforward and fast classification algorithm, \n",
        "# It is suitable for a large chunk of data. \n",
        "# It uses Bayes theorem of probability for prediction of unknown class.\n",
        "\n",
        "# Assumption\n",
        "# It assumes that the effect of a particular feature in a class is independent of other features. \n",
        "# For example, a loan applicant is desirable or not depending on his/her income, previous loan \n",
        "# and transaction history, age, and location. \n",
        "# Even if these features are interdependent, these features are still considered independently. \n",
        "# This assumption simplifies computation, and that's why it is considered as naive. \n",
        "# This assumption is called class conditional independence.\n",
        "\n",
        "# Zero Probability Problem\n",
        "# Suppose there is no tuple for a risky loan in the dataset, \n",
        "# in this scenario, the posterior probability will be zero, \n",
        "# and the model is unable to make a prediction. \n",
        "# This problem is known as Zero Probability because the occurrence of the particular class is zero.\n",
        "# The solution for such an issue is the Laplacian correction or Laplace Transformation. \n",
        "# Laplacian correction is one of the smoothing techniques. \n",
        "# Here, you can assume that the dataset is large enough \n",
        "# that adding one row of each class will not make a difference in the estimated probability. \n",
        "# This will overcome the issue of probability values to zero.\n",
        "# For Example: Suppose that for the class loan risky, there are 1000 training tuples in the database. \n",
        "# In this database, \n",
        "# income column has 0 tuples for low income, \n",
        "# 990 tuples for medium income, \n",
        "# and 10 tuples for high income. \n",
        "# The probabilities of these events, \n",
        "# without the Laplacian correction, are 0, 0.990 (from 990/1000), and 0.010 (from 10/1000)\n",
        "# Now, apply Laplacian correction on the given dataset. \n",
        "# Let's add 1 more tuple for each income-value pair. The probabilities of these events:\n",
        "# P(Low Income) = 1/1003 = 0.001, P(Medium Income) = 991/1003 = 0.988 & P(High Income) = 11/1003 = 0.011\n",
        "\n",
        "# Advantages\n",
        "# It is not only a simple approach but also a fast and accurate method for prediction.\n",
        "# It can be used with multiple class prediction problems.\n",
        "# It also performs well in the case of text analytics problems.\n",
        "# When the assumption of independence holds, a Naive Bayes classifier performs better \n",
        "# compared to other models like logistic regression.\n",
        "\n",
        "# Disadvantages\n",
        "# The assumption of independent features. \n",
        "# In practice, it is almost impossible that model will get a set of predictors which are entirely independent.\n",
        "# If there is no training tuple of a particular class, this causes zero posterior probability. \n",
        "# In this case, the model is unable to make predictions. \n",
        "# This problem is known as Zero Probability/Frequency Problem."
      ],
      "execution_count": null,
      "outputs": []
    },
    {
      "cell_type": "code",
      "metadata": {
        "id": "aaJy5SriCZDL",
        "colab_type": "code",
        "colab": {}
      },
      "source": [
        "#  Libraries\n",
        "\n",
        "from sklearn import datasets\n",
        "import pandas as pd\n",
        "import statsmodels.api as sm\n",
        "# Import Gaussian Naive Bayes model\n",
        "from sklearn.naive_bayes import GaussianNB\n",
        "from sklearn import metrics\n",
        "from sklearn.model_selection import train_test_split\n",
        "from sklearn.metrics import accuracy_score,recall_score,precision_score,f1_score\n",
        "from sklearn.metrics import confusion_matrix, classification_report, roc_auc_score\n",
        "# !pip install xverse\n",
        "from xverse.ensemble import VotingSelector\n",
        "import warnings\n",
        "warnings.filterwarnings(\"ignore\")\n",
        "import numpy as np\n",
        "from sklearn.metrics import classification_report"
      ],
      "execution_count": 31,
      "outputs": []
    },
    {
      "cell_type": "code",
      "metadata": {
        "id": "A-2LJd1SCiKS",
        "colab_type": "code",
        "colab": {
          "base_uri": "https://localhost:8080/",
          "height": 204
        },
        "outputId": "22ebba70-a718-48e8-bc36-6dc1c14ba83c"
      },
      "source": [
        "# IRIS Dataset\n",
        "iriss = datasets.load_iris()\n",
        "iris = pd.DataFrame(iriss.data)\n",
        "iris.columns = iriss.feature_names\n",
        "iris['species'] = iriss.target\n",
        "iris.columns = iris.columns.str.replace(\" \",\"\")\n",
        "iris.columns = iris.columns.str.replace(\"(\",\"\")\n",
        "iris.columns = iris.columns.str.replace(\")\",\"\")\n",
        "iris.head()"
      ],
      "execution_count": 2,
      "outputs": [
        {
          "output_type": "execute_result",
          "data": {
            "text/html": [
              "<div>\n",
              "<style scoped>\n",
              "    .dataframe tbody tr th:only-of-type {\n",
              "        vertical-align: middle;\n",
              "    }\n",
              "\n",
              "    .dataframe tbody tr th {\n",
              "        vertical-align: top;\n",
              "    }\n",
              "\n",
              "    .dataframe thead th {\n",
              "        text-align: right;\n",
              "    }\n",
              "</style>\n",
              "<table border=\"1\" class=\"dataframe\">\n",
              "  <thead>\n",
              "    <tr style=\"text-align: right;\">\n",
              "      <th></th>\n",
              "      <th>sepallengthcm</th>\n",
              "      <th>sepalwidthcm</th>\n",
              "      <th>petallengthcm</th>\n",
              "      <th>petalwidthcm</th>\n",
              "      <th>species</th>\n",
              "    </tr>\n",
              "  </thead>\n",
              "  <tbody>\n",
              "    <tr>\n",
              "      <th>0</th>\n",
              "      <td>5.1</td>\n",
              "      <td>3.5</td>\n",
              "      <td>1.4</td>\n",
              "      <td>0.2</td>\n",
              "      <td>0</td>\n",
              "    </tr>\n",
              "    <tr>\n",
              "      <th>1</th>\n",
              "      <td>4.9</td>\n",
              "      <td>3.0</td>\n",
              "      <td>1.4</td>\n",
              "      <td>0.2</td>\n",
              "      <td>0</td>\n",
              "    </tr>\n",
              "    <tr>\n",
              "      <th>2</th>\n",
              "      <td>4.7</td>\n",
              "      <td>3.2</td>\n",
              "      <td>1.3</td>\n",
              "      <td>0.2</td>\n",
              "      <td>0</td>\n",
              "    </tr>\n",
              "    <tr>\n",
              "      <th>3</th>\n",
              "      <td>4.6</td>\n",
              "      <td>3.1</td>\n",
              "      <td>1.5</td>\n",
              "      <td>0.2</td>\n",
              "      <td>0</td>\n",
              "    </tr>\n",
              "    <tr>\n",
              "      <th>4</th>\n",
              "      <td>5.0</td>\n",
              "      <td>3.6</td>\n",
              "      <td>1.4</td>\n",
              "      <td>0.2</td>\n",
              "      <td>0</td>\n",
              "    </tr>\n",
              "  </tbody>\n",
              "</table>\n",
              "</div>"
            ],
            "text/plain": [
              "   sepallengthcm  sepalwidthcm  petallengthcm  petalwidthcm  species\n",
              "0            5.1           3.5            1.4           0.2        0\n",
              "1            4.9           3.0            1.4           0.2        0\n",
              "2            4.7           3.2            1.3           0.2        0\n",
              "3            4.6           3.1            1.5           0.2        0\n",
              "4            5.0           3.6            1.4           0.2        0"
            ]
          },
          "metadata": {
            "tags": []
          },
          "execution_count": 2
        }
      ]
    },
    {
      "cell_type": "code",
      "metadata": {
        "id": "BSad3e-YCsDd",
        "colab_type": "code",
        "colab": {
          "base_uri": "https://localhost:8080/",
          "height": 89
        },
        "outputId": "8a040787-194e-475f-c706-3d2dd8b83956"
      },
      "source": [
        "# Target Column Distribution\n",
        "iris['species'].value_counts()"
      ],
      "execution_count": 3,
      "outputs": [
        {
          "output_type": "execute_result",
          "data": {
            "text/plain": [
              "2    50\n",
              "1    50\n",
              "0    50\n",
              "Name: species, dtype: int64"
            ]
          },
          "metadata": {
            "tags": []
          },
          "execution_count": 3
        }
      ]
    },
    {
      "cell_type": "code",
      "metadata": {
        "id": "5GqxQzKCCypn",
        "colab_type": "code",
        "colab": {
          "base_uri": "https://localhost:8080/",
          "height": 173
        },
        "outputId": "865b10da-c5c4-4f9d-da1d-9f923fe0d53a"
      },
      "source": [
        "# Distribution (mean) of Independent Columns respect to Dependent Column\n",
        "iris.groupby('species').mean().round(2)"
      ],
      "execution_count": 4,
      "outputs": [
        {
          "output_type": "execute_result",
          "data": {
            "text/html": [
              "<div>\n",
              "<style scoped>\n",
              "    .dataframe tbody tr th:only-of-type {\n",
              "        vertical-align: middle;\n",
              "    }\n",
              "\n",
              "    .dataframe tbody tr th {\n",
              "        vertical-align: top;\n",
              "    }\n",
              "\n",
              "    .dataframe thead th {\n",
              "        text-align: right;\n",
              "    }\n",
              "</style>\n",
              "<table border=\"1\" class=\"dataframe\">\n",
              "  <thead>\n",
              "    <tr style=\"text-align: right;\">\n",
              "      <th></th>\n",
              "      <th>sepallengthcm</th>\n",
              "      <th>sepalwidthcm</th>\n",
              "      <th>petallengthcm</th>\n",
              "      <th>petalwidthcm</th>\n",
              "    </tr>\n",
              "    <tr>\n",
              "      <th>species</th>\n",
              "      <th></th>\n",
              "      <th></th>\n",
              "      <th></th>\n",
              "      <th></th>\n",
              "    </tr>\n",
              "  </thead>\n",
              "  <tbody>\n",
              "    <tr>\n",
              "      <th>0</th>\n",
              "      <td>5.01</td>\n",
              "      <td>3.43</td>\n",
              "      <td>1.46</td>\n",
              "      <td>0.25</td>\n",
              "    </tr>\n",
              "    <tr>\n",
              "      <th>1</th>\n",
              "      <td>5.94</td>\n",
              "      <td>2.77</td>\n",
              "      <td>4.26</td>\n",
              "      <td>1.33</td>\n",
              "    </tr>\n",
              "    <tr>\n",
              "      <th>2</th>\n",
              "      <td>6.59</td>\n",
              "      <td>2.97</td>\n",
              "      <td>5.55</td>\n",
              "      <td>2.03</td>\n",
              "    </tr>\n",
              "  </tbody>\n",
              "</table>\n",
              "</div>"
            ],
            "text/plain": [
              "         sepallengthcm  sepalwidthcm  petallengthcm  petalwidthcm\n",
              "species                                                          \n",
              "0                 5.01          3.43           1.46          0.25\n",
              "1                 5.94          2.77           4.26          1.33\n",
              "2                 6.59          2.97           5.55          2.03"
            ]
          },
          "metadata": {
            "tags": []
          },
          "execution_count": 4
        }
      ]
    },
    {
      "cell_type": "code",
      "metadata": {
        "id": "WsRAmcb1C3aE",
        "colab_type": "code",
        "colab": {
          "base_uri": "https://localhost:8080/",
          "height": 204
        },
        "outputId": "973ea59b-fedb-4cf2-a959-48bed82dc11e"
      },
      "source": [
        "# Independent Variables\n",
        "Independent_Variable_Base_Set = iris[iris.columns[0:4]]\n",
        "Independent_Variable_Base_Set.head()"
      ],
      "execution_count": 5,
      "outputs": [
        {
          "output_type": "execute_result",
          "data": {
            "text/html": [
              "<div>\n",
              "<style scoped>\n",
              "    .dataframe tbody tr th:only-of-type {\n",
              "        vertical-align: middle;\n",
              "    }\n",
              "\n",
              "    .dataframe tbody tr th {\n",
              "        vertical-align: top;\n",
              "    }\n",
              "\n",
              "    .dataframe thead th {\n",
              "        text-align: right;\n",
              "    }\n",
              "</style>\n",
              "<table border=\"1\" class=\"dataframe\">\n",
              "  <thead>\n",
              "    <tr style=\"text-align: right;\">\n",
              "      <th></th>\n",
              "      <th>sepallengthcm</th>\n",
              "      <th>sepalwidthcm</th>\n",
              "      <th>petallengthcm</th>\n",
              "      <th>petalwidthcm</th>\n",
              "    </tr>\n",
              "  </thead>\n",
              "  <tbody>\n",
              "    <tr>\n",
              "      <th>0</th>\n",
              "      <td>5.1</td>\n",
              "      <td>3.5</td>\n",
              "      <td>1.4</td>\n",
              "      <td>0.2</td>\n",
              "    </tr>\n",
              "    <tr>\n",
              "      <th>1</th>\n",
              "      <td>4.9</td>\n",
              "      <td>3.0</td>\n",
              "      <td>1.4</td>\n",
              "      <td>0.2</td>\n",
              "    </tr>\n",
              "    <tr>\n",
              "      <th>2</th>\n",
              "      <td>4.7</td>\n",
              "      <td>3.2</td>\n",
              "      <td>1.3</td>\n",
              "      <td>0.2</td>\n",
              "    </tr>\n",
              "    <tr>\n",
              "      <th>3</th>\n",
              "      <td>4.6</td>\n",
              "      <td>3.1</td>\n",
              "      <td>1.5</td>\n",
              "      <td>0.2</td>\n",
              "    </tr>\n",
              "    <tr>\n",
              "      <th>4</th>\n",
              "      <td>5.0</td>\n",
              "      <td>3.6</td>\n",
              "      <td>1.4</td>\n",
              "      <td>0.2</td>\n",
              "    </tr>\n",
              "  </tbody>\n",
              "</table>\n",
              "</div>"
            ],
            "text/plain": [
              "   sepallengthcm  sepalwidthcm  petallengthcm  petalwidthcm\n",
              "0            5.1           3.5            1.4           0.2\n",
              "1            4.9           3.0            1.4           0.2\n",
              "2            4.7           3.2            1.3           0.2\n",
              "3            4.6           3.1            1.5           0.2\n",
              "4            5.0           3.6            1.4           0.2"
            ]
          },
          "metadata": {
            "tags": []
          },
          "execution_count": 5
        }
      ]
    },
    {
      "cell_type": "code",
      "metadata": {
        "id": "X25sAaAwC_mr",
        "colab_type": "code",
        "colab": {
          "base_uri": "https://localhost:8080/",
          "height": 204
        },
        "outputId": "1ec70856-0969-41f3-ac0c-01da0f7f60b0"
      },
      "source": [
        "# Dependent Variable\n",
        "Dependent_Variable = iris[iris.columns[-1:iris.columns.size]]\n",
        "Dependent_Variable.head()"
      ],
      "execution_count": 6,
      "outputs": [
        {
          "output_type": "execute_result",
          "data": {
            "text/html": [
              "<div>\n",
              "<style scoped>\n",
              "    .dataframe tbody tr th:only-of-type {\n",
              "        vertical-align: middle;\n",
              "    }\n",
              "\n",
              "    .dataframe tbody tr th {\n",
              "        vertical-align: top;\n",
              "    }\n",
              "\n",
              "    .dataframe thead th {\n",
              "        text-align: right;\n",
              "    }\n",
              "</style>\n",
              "<table border=\"1\" class=\"dataframe\">\n",
              "  <thead>\n",
              "    <tr style=\"text-align: right;\">\n",
              "      <th></th>\n",
              "      <th>species</th>\n",
              "    </tr>\n",
              "  </thead>\n",
              "  <tbody>\n",
              "    <tr>\n",
              "      <th>0</th>\n",
              "      <td>0</td>\n",
              "    </tr>\n",
              "    <tr>\n",
              "      <th>1</th>\n",
              "      <td>0</td>\n",
              "    </tr>\n",
              "    <tr>\n",
              "      <th>2</th>\n",
              "      <td>0</td>\n",
              "    </tr>\n",
              "    <tr>\n",
              "      <th>3</th>\n",
              "      <td>0</td>\n",
              "    </tr>\n",
              "    <tr>\n",
              "      <th>4</th>\n",
              "      <td>0</td>\n",
              "    </tr>\n",
              "  </tbody>\n",
              "</table>\n",
              "</div>"
            ],
            "text/plain": [
              "   species\n",
              "0        0\n",
              "1        0\n",
              "2        0\n",
              "3        0\n",
              "4        0"
            ]
          },
          "metadata": {
            "tags": []
          },
          "execution_count": 6
        }
      ]
    },
    {
      "cell_type": "code",
      "metadata": {
        "id": "9vnglX0dDDW4",
        "colab_type": "code",
        "colab": {
          "base_uri": "https://localhost:8080/",
          "height": 143
        },
        "outputId": "b8b87885-e6f5-48e1-afd3-386841017491"
      },
      "source": [
        "# Split the Dataset\n",
        "\n",
        "# Lets start with selecting one variable\n",
        "Independent_Variable_Set_v1 = iris[iris.columns[0:1]]\n",
        "X_train, X_test, y_train, y_test = train_test_split(Independent_Variable_Set_v1,Dependent_Variable,test_size = 0.3,random_state = 21)\n",
        "\n",
        "# Create a Gaussian Classifier\n",
        "model = GaussianNB()\n",
        "\n",
        "# Train the model using the training sets\n",
        "result = model.fit(Independent_Variable_Set_v1,Dependent_Variable)\n",
        "\n",
        "# Model Prediction\n",
        "print(\"Sample Prediction of Model 1\")\n",
        "pred = result.predict(X_test)\n",
        "model_prediction = pd.DataFrame(pred.round(2),columns = ['Prediction'])\n",
        "print(model_prediction.head())"
      ],
      "execution_count": 16,
      "outputs": [
        {
          "output_type": "stream",
          "text": [
            "Sample Prediction of Model 1\n",
            "   Prediction\n",
            "0           1\n",
            "1           0\n",
            "2           0\n",
            "3           0\n",
            "4           1\n"
          ],
          "name": "stdout"
        }
      ]
    },
    {
      "cell_type": "code",
      "metadata": {
        "id": "L9WM2W7fDmfj",
        "colab_type": "code",
        "colab": {
          "base_uri": "https://localhost:8080/",
          "height": 359
        },
        "outputId": "5e893349-dfe1-4a0d-a4f4-a57934d6ed21"
      },
      "source": [
        "# Model Prediction\n",
        "\n",
        "print(\"Sample Prediction of Model 1\")\n",
        "pred = result.predict(X_test)\n",
        "model_prediction = pd.DataFrame(pred.round(2),columns = ['Prediction'])\n",
        "model_prediction['temp'] = 'temp'\n",
        "#model_prediction['Final_Class'] = np.where(model_prediction['Prediction'] > 0.5,1,0)\n",
        "print(model_prediction['Prediction'].head())\n",
        "\n",
        "# Test Set Target Column Distribution\n",
        "print(\"\\nTest Set Distribution\")\n",
        "print(y_test['species'].value_counts())\n",
        "\n",
        "# Predicted Set Target Column Distribution\n",
        "print(\"\\nPredicted Set Distribution\")\n",
        "print(model_prediction['Prediction'].value_counts())"
      ],
      "execution_count": 24,
      "outputs": [
        {
          "output_type": "stream",
          "text": [
            "Sample Prediction of Model 1\n",
            "0    1\n",
            "1    0\n",
            "2    0\n",
            "3    0\n",
            "4    1\n",
            "Name: Prediction, dtype: int64\n",
            "\n",
            "Test Set Distribution\n",
            "1    16\n",
            "2    15\n",
            "0    14\n",
            "Name: species, dtype: int64\n",
            "\n",
            "Predicted Set Distribution\n",
            "1    22\n",
            "0    14\n",
            "2     9\n",
            "Name: Prediction, dtype: int64\n"
          ],
          "name": "stdout"
        }
      ]
    },
    {
      "cell_type": "code",
      "metadata": {
        "id": "CK1T-iljE1dK",
        "colab_type": "code",
        "colab": {
          "base_uri": "https://localhost:8080/",
          "height": 431
        },
        "outputId": "06bb0c22-c904-4a2f-d88f-6f0083e090ea"
      },
      "source": [
        "# Model Performance\n",
        "\n",
        "# Take the average of the f1-score for each class: that's the avg / total result above. \n",
        "# It's also called macro averaging.\n",
        "\n",
        "# Compute the f1-score using the global count of true positives / false negatives, etc. \n",
        "# (you sum the number of true positives / false negatives for each class). Aka micro averaging.\n",
        "\n",
        "y_pred = model_prediction[['Prediction']]\n",
        "model_2_accuracy = accuracy_score(y_test,y_pred).round(2)\n",
        "print(\"\\nModel Performance\")\n",
        "print(\"Model 2, Accuracy :\",model_2_accuracy)\n",
        "model_2_precision = precision_score(y_test,y_pred, average=\"micro\").round(2)\n",
        "print(\"Model 2, Precision :\",model_2_precision)\n",
        "model_2_recall = recall_score(y_test,y_pred, average=\"micro\").round(2)\n",
        "print(\"Model 2, Recall :\",model_2_recall)\n",
        "model_2_fscore = f1_score(y_test,y_pred, average=\"micro\").round(2)\n",
        "print(\"Model 2, F1 Score :\",model_2_fscore)\n",
        "print(\"\\nConfusion Matrix, Model 2\")\n",
        "model_2_cm = confusion_matrix(y_test,y_pred)\n",
        "print(model_2_cm)\n",
        "print(\"\\nClassification Report, Model 2\")\n",
        "model_2_cr = classification_report(y_test, y_pred)\n",
        "print(model_2_cr)"
      ],
      "execution_count": 46,
      "outputs": [
        {
          "output_type": "stream",
          "text": [
            "\n",
            "Model Performance\n",
            "Model 2, Accuracy : 0.64\n",
            "Model 2, Precision : 0.64\n",
            "Model 2, Recall : 0.64\n",
            "Model 2, F1 Score : 0.64\n",
            "\n",
            "Confusion Matrix, Model 2\n",
            "[[13  1  0]\n",
            " [ 1 11  4]\n",
            " [ 0 10  5]]\n",
            "\n",
            "Classification Report, Model 2\n",
            "              precision    recall  f1-score   support\n",
            "\n",
            "           0       0.93      0.93      0.93        14\n",
            "           1       0.50      0.69      0.58        16\n",
            "           2       0.56      0.33      0.42        15\n",
            "\n",
            "    accuracy                           0.64        45\n",
            "   macro avg       0.66      0.65      0.64        45\n",
            "weighted avg       0.65      0.64      0.63        45\n",
            "\n"
          ],
          "name": "stdout"
        }
      ]
    },
    {
      "cell_type": "code",
      "metadata": {
        "id": "4KnIxy8WHrhy",
        "colab_type": "code",
        "colab": {}
      },
      "source": [
        ""
      ],
      "execution_count": null,
      "outputs": []
    }
  ]
}