{
  "nbformat": 4,
  "nbformat_minor": 0,
  "metadata": {
    "colab": {
      "name": "04 Outliers & Missing Values.ipynb",
      "provenance": [],
      "collapsed_sections": [],
      "authorship_tag": "ABX9TyMWMOaseynCAaBucsTOUf4D",
      "include_colab_link": true
    },
    "kernelspec": {
      "name": "python3",
      "display_name": "Python 3"
    }
  },
  "cells": [
    {
      "cell_type": "markdown",
      "metadata": {
        "id": "view-in-github",
        "colab_type": "text"
      },
      "source": [
        "<a href=\"https://colab.research.google.com/github/sandipanpaul21/ML-Code-in-Python/blob/master/04_Outliers_%26_Missing_Values.ipynb\" target=\"_parent\"><img src=\"https://colab.research.google.com/assets/colab-badge.svg\" alt=\"Open In Colab\"/></a>"
      ]
    },
    {
      "cell_type": "code",
      "metadata": {
        "id": "4FWcU5HOu3ab",
        "colab_type": "code",
        "colab": {}
      },
      "source": [
        "# Outliers \n",
        "  # Outlier is a data point that differs significantly from other observations\n",
        "  # Outlier may be due to variability in the measurement or it may indicate experimental error\n",
        "  # Outlier are sometimes excluded from the data set\n",
        "\n",
        "# Technique to Detect Outlier - Box Plot and Z Score\n",
        "\n",
        "# Box Plot\n",
        "  # Box plot is the non-parametric method\n",
        "  # It display variation in without making any assumptions of the underlying distribution\n",
        "  # Graphical representation which represent follwing values as follows\n",
        "    # Minimum/Lower Range : the lowest data point excluding any outliers\n",
        "    # Maximum/Upper Range : the largest data point excluding any outliers\n",
        "    # Median (Q2 / 50th percentile) : the middle value of the dataset\n",
        "    # First quartile (Q1 / 25th percentile) : \n",
        "        # Also known as the lower quartile qn(0.25)\n",
        "        # it is the median of the lower half of the dataset\n",
        "    # Third quartile (Q3 / 75th percentile) : \n",
        "        # Also known as the upper quartile qn(0.75)\n",
        "        # it is the median of the upper half of the dataset\n",
        "    # Outlier are shown as dot or star \n",
        "\n",
        "# Z Score\n",
        "  # It finds the distribution of Normal Data\n",
        "  # In Normal Distribution, Mean is 0 and Standard Deviation is 1\n",
        "  # In Z Score we will rescale the data to the center\n",
        "  # And check for the data which are too far from center treated as outlier\n",
        "  # In most case we take the value upto 3 (3 SD of mean, 99.7% of values within)  \n",
        "  # So Z Score which are more than 3 will be treated as Outliers\n",
        "\n",
        "# Missing Values - "
      ],
      "execution_count": 1,
      "outputs": []
    },
    {
      "cell_type": "code",
      "metadata": {
        "id": "9fw5rcNiviB0",
        "colab_type": "code",
        "colab": {}
      },
      "source": [
        "# Libraries \n",
        "from sklearn import datasets \n",
        "import pandas as pd\n",
        "import seaborn as sns\n",
        "import matplotlib.pyplot as plt\n",
        "import numpy as np\n",
        "from scipy import stats"
      ],
      "execution_count": 7,
      "outputs": []
    },
    {
      "cell_type": "code",
      "metadata": {
        "id": "-OxhPrdevCL8",
        "colab_type": "code",
        "colab": {}
      },
      "source": [
        "# Load the Datasets (For indepth analysis please refer to Part O1 All About Datasets)\n",
        "\n",
        "# Iris Dataset for Classification\n",
        "# Load Dataset\n",
        "iris = datasets.load_iris()\n",
        "# Convert to DataFrame\n",
        "iris_pd = pd.DataFrame(iris.data)\n",
        "# Feature Name\n",
        "iris_pd.columns = iris.feature_names\n",
        "# Target Variable\n",
        "iris_pd[\"Class\"] = iris.target\n",
        "# iris_pd is the final dataset\n",
        "\n",
        "# Boston Dataset for Regression\n",
        "boston = datasets.load_boston()\n",
        "boston_pd = pd.DataFrame(boston.data)\n",
        "boston_pd.columns = boston.feature_names\n",
        "boston_pd[\"MEDV\"] = boston.target"
      ],
      "execution_count": 3,
      "outputs": []
    },
    {
      "cell_type": "code",
      "metadata": {
        "id": "NmGBhf3PvXIg",
        "colab_type": "code",
        "colab": {
          "base_uri": "https://localhost:8080/",
          "height": 664
        },
        "outputId": "68179b6e-9ebe-4ef3-da7a-4f7152bab859"
      },
      "source": [
        "# Outlier Detection\n",
        "# Boxplot - Outlier shown with a dot, small circle or star\n",
        "\n",
        "# For IRIS Dataset\n",
        "fig, ax = plt.subplots(figsize=(11,11)) #Sample figsize in inches,change the number accordingly\n",
        "sns.boxplot(data = boston_pd,orient = 'h',ax=ax)\n",
        "\n",
        "# Inference :\n",
        "# Too Confusing, lets choose variable one "
      ],
      "execution_count": 4,
      "outputs": [
        {
          "output_type": "execute_result",
          "data": {
            "text/plain": [
              "<matplotlib.axes._subplots.AxesSubplot at 0x7f079b43e7b8>"
            ]
          },
          "metadata": {
            "tags": []
          },
          "execution_count": 4
        },
        {
          "output_type": "display_data",
          "data": {
            "image/png": "[encoded data removed]",
            "text/plain": [
              "<Figure size 792x792 with 1 Axes>"
            ]
          },
          "metadata": {
            "tags": [],
            "needs_background": "light"
          }
        }
      ]
    },
    {
      "cell_type": "code",
      "metadata": {
        "id": "JUGLJVuMv2fq",
        "colab_type": "code",
        "colab": {
          "base_uri": "https://localhost:8080/",
          "height": 603
        },
        "outputId": "afb44aca-4cc5-4e81-ab2d-921f486fd201"
      },
      "source": [
        "# Considering only one column in Boston Dataset i.e, 'DIS'\n",
        "print(\"DIS Column :\")\n",
        "print(\"SUMMARY : \")\n",
        "print(boston_pd['DIS'].describe())\n",
        "\n",
        "def boxplot(datacolumn):\n",
        "  sorted(datacolumn)\n",
        "  Q1,Q3 = np.percentile(datacolumn , [25,75])\n",
        "  IQR = (Q3 - Q1)\n",
        "  lower_range = Q1 - (1.5 * IQR)\n",
        "  upper_range = Q3 + (1.5 * IQR)\n",
        "  return Q1,Q3,IQR,lower_range,upper_range\n",
        "\n",
        "Q1,Q3,IQR,lower_range,upper_range = boxplot(boston_pd.DIS)\n",
        "print(\"BOX PLOT VALUES : \")\n",
        "print(\"First Quartile :\",Q1)\n",
        "print(\"Second Quartile :\",Q3)\n",
        "print(\"IQR Range :\",IQR)\n",
        "print(\"Lower Range :\",lower_range)\n",
        "print(\"Upper Range :\",upper_range)\n",
        "\n",
        "sns.boxplot(boston_pd['DIS'])\n",
        "# Inference : \n",
        "# For DIS Column in Boston Dataset\n",
        "# Lower Range : -2 so anything less than -2 will be treated as Outlier\n",
        "# Minimum Value : 1.1 which is greater than -2 so not an outlier\n",
        "# 25% Percentile / 1st Quartile / Lower Quartile / Q1 : 2.1\n",
        "# 50% Percentile / Median / 2nd Quantile / Q2 : 3.2\n",
        "# 75% Percentile / 3rd Quartile / Higher Quartile / Q3 : 5.1\n",
        "# IQR Range / Q3 - Q1 : 3.08\n",
        "# Lower Range : 9.8 so anything more than 9.8 will be treated as Outlier\n",
        "# Maximum Value : 12.1 which is greater than 9.8 so IT IS AN OUTLIER"
      ],
      "execution_count": 5,
      "outputs": [
        {
          "output_type": "stream",
          "text": [
            "DIS Column :\n",
            "SUMMARY : \n",
            "count    506.000000\n",
            "mean       3.795043\n",
            "std        2.105710\n",
            "min        1.129600\n",
            "25%        2.100175\n",
            "50%        3.207450\n",
            "75%        5.188425\n",
            "max       12.126500\n",
            "Name: DIS, dtype: float64\n",
            "BOX PLOT VALUES : \n",
            "First Quartile : 2.100175\n",
            "Second Quartile : 5.1884250000000005\n",
            "IQR Range : 3.0882500000000004\n",
            "Lower Range : -2.5322000000000005\n",
            "Upper Range : 9.820800000000002\n"
          ],
          "name": "stdout"
        },
        {
          "output_type": "execute_result",
          "data": {
            "text/plain": [
              "<matplotlib.axes._subplots.AxesSubplot at 0x7f079ada0390>"
            ]
          },
          "metadata": {
            "tags": []
          },
          "execution_count": 5
        },
        {
          "output_type": "display_data",
          "data": {
            "image/png": "[encoded data removed]",
            "text/plain": [
              "<Figure size 432x288 with 1 Axes>"
            ]
          },
          "metadata": {
            "tags": [],
            "needs_background": "light"
          }
        }
      ]
    },
    {
      "cell_type": "code",
      "metadata": {
        "id": "wLpr2wF9wpkK",
        "colab_type": "code",
        "colab": {
          "base_uri": "https://localhost:8080/",
          "height": 161
        },
        "outputId": "e40303c6-2209-4be3-e9ae-da5674b45a21"
      },
      "source": [
        "upper_outlier = len(boston_pd[boston_pd.DIS > upper_range])\n",
        "lower_outlier = len(boston_pd[boston_pd.DIS < lower_range])\n",
        "total = len(boston_pd[(boston_pd.DIS < lower_range) | (boston_pd.DIS > upper_range)])\n",
        "\n",
        "print(\"Total Range is as folows\")\n",
        "print(\"Lower Range :\",lower_range)\n",
        "print(\"Upper Range :\", upper_range)\n",
        "print(\"So Number should not be less than 'Lower Range' or more than 'Upper Range'\")\n",
        "print(\"Or else it will be treated as OUTLIERS\")\n",
        "print(\"Total Outlier ABOVE UPPER RANGE :\",upper_outlier)\n",
        "print(\"Total Outlier BELOW LOWER RANGE :\",lower_outlier)\n",
        "print(\"Total Outlier in 'DIS' Column in Boston Dataset :\", total)"
      ],
      "execution_count": 29,
      "outputs": [
        {
          "output_type": "stream",
          "text": [
            "Total Range is as folows\n",
            "Lower Range : -2.5322000000000005\n",
            "Upper Range : 9.820800000000002\n",
            "So Number should not be less than 'Lower Range' or more than 'Upper Range'\n",
            "Or else it will be treated as OUTLIERS\n",
            "Total Outlier ABOVE UPPER RANGE : 5\n",
            "Total Outlier BELOW LOWER RANGE : 0\n",
            "Total Outlier in 'DIS' Column in Boston Dataset : 5\n"
          ],
          "name": "stdout"
        }
      ]
    },
    {
      "cell_type": "code",
      "metadata": {
        "id": "CCtFnOG5zjJ-",
        "colab_type": "code",
        "colab": {
          "base_uri": "https://localhost:8080/",
          "height": 384
        },
        "outputId": "088a8577-1ddf-487c-b1d5-bd9f0f577b8f"
      },
      "source": [
        "# Z Score for Detecting Outlier\n",
        "\n",
        "z = np.abs(stats.zscore(boston_pd.DIS))\n",
        "print(\"First 5 rows of Z-Score are\")\n",
        "print(z[:5]) \n",
        "print(\"\\n\")\n",
        "print(\"Filtering out Z-Score > 3\")\n",
        "print(\"Row Number where Z-Score greater than 3\")\n",
        "print(np.where(z>3))\n",
        "\n",
        "print(\"\\n\")\n",
        "print(\"Checking exact value of the 'DIS' column which are outliers\")\n",
        "boston_pd.loc[[351,352,353,354,355],['DIS']]\n",
        "\n",
        "# Inference : \n",
        "# Total Outliers are 5 whose row number are 351,352,353,354 and 355\n",
        "# All the outlier are having value more than 9.8\n",
        "# So Box Plot and Z score almost give exact same output for detecting outlier "
      ],
      "execution_count": 33,
      "outputs": [
        {
          "output_type": "stream",
          "text": [
            "First 5 rows of Z-Score are\n",
            "[0.1402136  0.55715988 0.55715988 1.07773662 1.07773662]\n",
            "\n",
            "\n",
            "Filtering out Z-Score > 3\n",
            "Row Number where Z-Score greater than 3\n",
            "(array([351, 352, 353, 354, 355]),)\n",
            "\n",
            "\n",
            "Checking exact value of the 'DIS' column which are outliers\n"
          ],
          "name": "stdout"
        },
        {
          "output_type": "execute_result",
          "data": {
            "text/html": [
              "<div>\n",
              "<style scoped>\n",
              "    .dataframe tbody tr th:only-of-type {\n",
              "        vertical-align: middle;\n",
              "    }\n",
              "\n",
              "    .dataframe tbody tr th {\n",
              "        vertical-align: top;\n",
              "    }\n",
              "\n",
              "    .dataframe thead th {\n",
              "        text-align: right;\n",
              "    }\n",
              "</style>\n",
              "<table border=\"1\" class=\"dataframe\">\n",
              "  <thead>\n",
              "    <tr style=\"text-align: right;\">\n",
              "      <th></th>\n",
              "      <th>DIS</th>\n",
              "    </tr>\n",
              "  </thead>\n",
              "  <tbody>\n",
              "    <tr>\n",
              "      <th>351</th>\n",
              "      <td>10.7103</td>\n",
              "    </tr>\n",
              "    <tr>\n",
              "      <th>352</th>\n",
              "      <td>10.7103</td>\n",
              "    </tr>\n",
              "    <tr>\n",
              "      <th>353</th>\n",
              "      <td>12.1265</td>\n",
              "    </tr>\n",
              "    <tr>\n",
              "      <th>354</th>\n",
              "      <td>10.5857</td>\n",
              "    </tr>\n",
              "    <tr>\n",
              "      <th>355</th>\n",
              "      <td>10.5857</td>\n",
              "    </tr>\n",
              "  </tbody>\n",
              "</table>\n",
              "</div>"
            ],
            "text/plain": [
              "         DIS\n",
              "351  10.7103\n",
              "352  10.7103\n",
              "353  12.1265\n",
              "354  10.5857\n",
              "355  10.5857"
            ]
          },
          "metadata": {
            "tags": []
          },
          "execution_count": 33
        }
      ]
    },
    {
      "cell_type": "code",
      "metadata": {
        "id": "pJ31WLbZRMCl",
        "colab_type": "code",
        "colab": {}
      },
      "source": [
        "# Outlier Treatment\n",
        "\n",
        "boston_pd['DIS'] = np.where(boston_pd['DIS'] < -2.5, -2.5, boston_pd['DIS'])\n",
        "boston_pd['DIS'] = np.where(boston_pd['DIS'] > 9.8, 9.8, boston_pd['DIS'])"
      ],
      "execution_count": 39,
      "outputs": []
    },
    {
      "cell_type": "code",
      "metadata": {
        "id": "tjEKcJqUXWLj",
        "colab_type": "code",
        "colab": {}
      },
      "source": [
        ""
      ],
      "execution_count": null,
      "outputs": []
    }
  ]
}